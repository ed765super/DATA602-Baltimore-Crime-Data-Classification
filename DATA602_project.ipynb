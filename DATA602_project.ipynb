{
  "nbformat": 4,
  "nbformat_minor": 0,
  "metadata": {
    "colab": {
      "name": "DATA602 project.ipynb",
      "provenance": [],
      "mount_file_id": "1r9yZJGp8KL9JemlWg74bp4qtGHqQo-eS",
      "authorship_tag": "ABX9TyM7ldVJWL6OCxTMJHgW+Nfo",
      "include_colab_link": true
    },
    "kernelspec": {
      "name": "python3",
      "display_name": "Python 3"
    },
    "language_info": {
      "name": "python"
    }
  },
  "cells": [
    {
      "cell_type": "markdown",
      "metadata": {
        "id": "view-in-github",
        "colab_type": "text"
      },
      "source": [
        "<a href=\"https://colab.research.google.com/github/ed765super/DATA602-Baltimore-Crime-Data-Classification/blob/main/DATA602_project.ipynb\" target=\"_parent\"><img src=\"https://colab.research.google.com/assets/colab-badge.svg\" alt=\"Open In Colab\"/></a>"
      ]
    },
    {
      "cell_type": "markdown",
      "metadata": {
        "id": "pZomWRRkQ3k-"
      },
      "source": [
        "Powerpoint should be 5-10 slide summary\n",
        "- Include results\n",
        "- no technical charts\n",
        "\n",
        "Video Clip\n",
        "- can literally be you going through your slides\n",
        "- just dont read directly off of the slides\n",
        "\n",
        "(**Delete when done**)"
      ]
    },
    {
      "cell_type": "markdown",
      "metadata": {
        "id": "z4C0d-WFaV93"
      },
      "source": [
        "#Background Information/Buisness Question"
      ]
    },
    {
      "cell_type": "markdown",
      "metadata": {
        "id": "kDyLPPdGvt7e"
      },
      "source": [
        "The Baltimore Police Agency launched a massive overhaul to its new Records Management Systems back in May 2020. The improvement will enable the department to migrate from a paper-based system to a completely digital reporting environment. As a consequence of this major shift, we had significant difficulties in appropriately transferring data from the new records system to the previous Open Data Baltimore system. The \"Arrests\" dataset is one of many open datasets made publicly accessible by Baltimore's police department on the city's Open Data website. This information is provided to us in order to foster more openness and data exchange between the local administration and its residents. This dataset contains arrest records for offenses such as assault, theft, and property damage in the City of Baltimore. [1]\n",
        "\n",
        "I want to use their database create a model that predicts which district a crime occurs based on various details related to the arrest of the perpetrator such as what he or she was charged with, their gender, etc. My hope with this model is that the department can then use this model to efficiently spread their resources tackling the more likely arrests that would be made in a certain district as well as modify their policing efforts to decrease bias in said policing efforts in certain districts (if any).\n",
        "\n",
        "[1] “Baltimore Police Department.” Crime Stats | Baltimore Police Department, https://www.baltimorepolice.org/crime-stats. "
      ]
    },
    {
      "cell_type": "markdown",
      "metadata": {
        "id": "m6f6iXojK0CW"
      },
      "source": [
        "#Accessing The Data\n",
        "We begin where all great classification problems begin. Getting the data. Since I am using Google Colab for my analysis, I must upload Arrests.csv prior to actually importing it. Afterwards, I use a simple .read_csv method and check the general info of the dataframe so I know what im working with."
      ]
    },
    {
      "cell_type": "code",
      "metadata": {
        "colab": {
          "base_uri": "https://localhost:8080/",
          "height": 1000
        },
        "id": "w_bvGhz2fpf8",
        "outputId": "346b5347-2f07-4756-a8d7-0a5a22dbabfa"
      },
      "source": [
        "import pandas as pd\n",
        "df = pd.read_csv('Arrests.csv', sep=',')\n",
        "print(df.info())\n",
        "print(df.describe(include='all'))\n",
        "df"
      ],
      "execution_count": null,
      "outputs": [
        {
          "output_type": "stream",
          "name": "stdout",
          "text": [
            "<class 'pandas.core.frame.DataFrame'>\n",
            "RangeIndex: 175923 entries, 0 to 175922\n",
            "Data columns (total 20 columns):\n",
            " #   Column             Non-Null Count   Dtype  \n",
            "---  ------             --------------   -----  \n",
            " 0   X                  90128 non-null   float64\n",
            " 1   Y                  90128 non-null   float64\n",
            " 2   RowID              175923 non-null  int64  \n",
            " 3   ArrestNumber       167697 non-null  float64\n",
            " 4   Age                175836 non-null  float64\n",
            " 5   Gender             175884 non-null  object \n",
            " 6   Race               175884 non-null  object \n",
            " 7   ArrestDateTime     175923 non-null  object \n",
            " 8   ArrestLocation     91488 non-null   object \n",
            " 9   IncidentOffence    175923 non-null  object \n",
            " 10  IncidentLocation   91488 non-null   object \n",
            " 11  Charge             156541 non-null  object \n",
            " 12  ChargeDescription  175923 non-null  object \n",
            " 13  District           89891 non-null   object \n",
            " 14  Post               89891 non-null   object \n",
            " 15  Neighborhood       89870 non-null   object \n",
            " 16  Latitude           90128 non-null   float64\n",
            " 17  Longitude          90128 non-null   float64\n",
            " 18  GeoLocation        175923 non-null  object \n",
            " 19  Shape              0 non-null       float64\n",
            "dtypes: float64(7), int64(1), object(12)\n",
            "memory usage: 26.8+ MB\n",
            "None\n",
            "                   X              Y  ...  GeoLocation  Shape\n",
            "count   9.012800e+04   90128.000000  ...       175923    0.0\n",
            "unique           NaN            NaN  ...        23944    NaN\n",
            "top              NaN            NaN  ...          (,)    NaN\n",
            "freq             NaN            NaN  ...        85795    NaN\n",
            "mean    1.426844e+06  595932.690954  ...          NaN    NaN\n",
            "std     4.451277e+05   24627.921490  ...          NaN    NaN\n",
            "min     1.182528e+06 -948896.130248  ...          NaN    NaN\n",
            "25%     1.412248e+06  590765.694569  ...          NaN    NaN\n",
            "50%     1.420570e+06  595527.211391  ...          NaN    NaN\n",
            "75%     1.428985e+06  601583.794139  ...          NaN    NaN\n",
            "max     3.207084e+07  698804.357792  ...          NaN    NaN\n",
            "\n",
            "[11 rows x 20 columns]\n"
          ]
        },
        {
          "output_type": "execute_result",
          "data": {
            "text/html": [
              "<div>\n",
              "<style scoped>\n",
              "    .dataframe tbody tr th:only-of-type {\n",
              "        vertical-align: middle;\n",
              "    }\n",
              "\n",
              "    .dataframe tbody tr th {\n",
              "        vertical-align: top;\n",
              "    }\n",
              "\n",
              "    .dataframe thead th {\n",
              "        text-align: right;\n",
              "    }\n",
              "</style>\n",
              "<table border=\"1\" class=\"dataframe\">\n",
              "  <thead>\n",
              "    <tr style=\"text-align: right;\">\n",
              "      <th></th>\n",
              "      <th>X</th>\n",
              "      <th>Y</th>\n",
              "      <th>RowID</th>\n",
              "      <th>ArrestNumber</th>\n",
              "      <th>Age</th>\n",
              "      <th>Gender</th>\n",
              "      <th>Race</th>\n",
              "      <th>ArrestDateTime</th>\n",
              "      <th>ArrestLocation</th>\n",
              "      <th>IncidentOffence</th>\n",
              "      <th>IncidentLocation</th>\n",
              "      <th>Charge</th>\n",
              "      <th>ChargeDescription</th>\n",
              "      <th>District</th>\n",
              "      <th>Post</th>\n",
              "      <th>Neighborhood</th>\n",
              "      <th>Latitude</th>\n",
              "      <th>Longitude</th>\n",
              "      <th>GeoLocation</th>\n",
              "      <th>Shape</th>\n",
              "    </tr>\n",
              "  </thead>\n",
              "  <tbody>\n",
              "    <tr>\n",
              "      <th>0</th>\n",
              "      <td>1.406788e+06</td>\n",
              "      <td>597678.129188</td>\n",
              "      <td>1</td>\n",
              "      <td>21000024.0</td>\n",
              "      <td>27.0</td>\n",
              "      <td>M</td>\n",
              "      <td>B</td>\n",
              "      <td>2020/12/31 23:50:00+00</td>\n",
              "      <td>2900 PRESBURY ST</td>\n",
              "      <td>96BINVESTIGATIVE STOP</td>\n",
              "      <td>2900 PRESBURY ST</td>\n",
              "      <td>1 0692</td>\n",
              "      <td>HAND GUN VIOLATION</td>\n",
              "      <td>Southwest</td>\n",
              "      <td>813</td>\n",
              "      <td>Northwest Community Action</td>\n",
              "      <td>39.3073</td>\n",
              "      <td>-76.6662</td>\n",
              "      <td>(39.3073,-76.6662)</td>\n",
              "      <td>NaN</td>\n",
              "    </tr>\n",
              "    <tr>\n",
              "      <th>1</th>\n",
              "      <td>1.412063e+06</td>\n",
              "      <td>594601.943893</td>\n",
              "      <td>2</td>\n",
              "      <td>21000021.0</td>\n",
              "      <td>45.0</td>\n",
              "      <td>F</td>\n",
              "      <td>B</td>\n",
              "      <td>2020/12/31 23:45:00+00</td>\n",
              "      <td>900 MONROE ST</td>\n",
              "      <td>Unknown Offense</td>\n",
              "      <td>900 MONROE ST</td>\n",
              "      <td>2 0480</td>\n",
              "      <td>AUTO THEFT</td>\n",
              "      <td>Western</td>\n",
              "      <td>722</td>\n",
              "      <td>Midtown-Edmondson</td>\n",
              "      <td>39.2988</td>\n",
              "      <td>-76.6476</td>\n",
              "      <td>(39.2988,-76.6476)</td>\n",
              "      <td>NaN</td>\n",
              "    </tr>\n",
              "    <tr>\n",
              "      <th>2</th>\n",
              "      <td>1.404120e+06</td>\n",
              "      <td>584046.130423</td>\n",
              "      <td>3</td>\n",
              "      <td>21000011.0</td>\n",
              "      <td>42.0</td>\n",
              "      <td>F</td>\n",
              "      <td>W</td>\n",
              "      <td>2020/12/31 23:40:00+00</td>\n",
              "      <td>1000 PINE HEIGHTS AVE</td>\n",
              "      <td>Unknown Offense</td>\n",
              "      <td>1000 PINE HEIGHTS AVE</td>\n",
              "      <td>1 1415</td>\n",
              "      <td>2ND DEGREE ASSAULT</td>\n",
              "      <td>Southwest</td>\n",
              "      <td>832</td>\n",
              "      <td>Violetville</td>\n",
              "      <td>39.2699</td>\n",
              "      <td>-76.6758</td>\n",
              "      <td>(39.2699,-76.6758)</td>\n",
              "      <td>NaN</td>\n",
              "    </tr>\n",
              "    <tr>\n",
              "      <th>3</th>\n",
              "      <td>1.418872e+06</td>\n",
              "      <td>576745.235206</td>\n",
              "      <td>4</td>\n",
              "      <td>21000006.0</td>\n",
              "      <td>26.0</td>\n",
              "      <td>M</td>\n",
              "      <td>B</td>\n",
              "      <td>2020/12/31 21:45:00+00</td>\n",
              "      <td>700 CHERRY HILL RD</td>\n",
              "      <td>Unknown Offense</td>\n",
              "      <td>700 CHERRY HILL RD</td>\n",
              "      <td>1 0233</td>\n",
              "      <td>PWID</td>\n",
              "      <td>Southern</td>\n",
              "      <td>922</td>\n",
              "      <td>Cherry Hill</td>\n",
              "      <td>39.2497</td>\n",
              "      <td>-76.6238</td>\n",
              "      <td>(39.2497,-76.6238)</td>\n",
              "      <td>NaN</td>\n",
              "    </tr>\n",
              "    <tr>\n",
              "      <th>4</th>\n",
              "      <td>1.418872e+06</td>\n",
              "      <td>576745.235206</td>\n",
              "      <td>5</td>\n",
              "      <td>21000014.0</td>\n",
              "      <td>19.0</td>\n",
              "      <td>M</td>\n",
              "      <td>B</td>\n",
              "      <td>2020/12/31 21:45:00+00</td>\n",
              "      <td>700 CHERRY HILL RD</td>\n",
              "      <td>Unknown Offense</td>\n",
              "      <td>700 CHERRY HILL RD</td>\n",
              "      <td>1 0233</td>\n",
              "      <td>PWID</td>\n",
              "      <td>Southern</td>\n",
              "      <td>922</td>\n",
              "      <td>Cherry Hill</td>\n",
              "      <td>39.2497</td>\n",
              "      <td>-76.6238</td>\n",
              "      <td>(39.2497,-76.6238)</td>\n",
              "      <td>NaN</td>\n",
              "    </tr>\n",
              "    <tr>\n",
              "      <th>...</th>\n",
              "      <td>...</td>\n",
              "      <td>...</td>\n",
              "      <td>...</td>\n",
              "      <td>...</td>\n",
              "      <td>...</td>\n",
              "      <td>...</td>\n",
              "      <td>...</td>\n",
              "      <td>...</td>\n",
              "      <td>...</td>\n",
              "      <td>...</td>\n",
              "      <td>...</td>\n",
              "      <td>...</td>\n",
              "      <td>...</td>\n",
              "      <td>...</td>\n",
              "      <td>...</td>\n",
              "      <td>...</td>\n",
              "      <td>...</td>\n",
              "      <td>...</td>\n",
              "      <td>...</td>\n",
              "      <td>...</td>\n",
              "    </tr>\n",
              "    <tr>\n",
              "      <th>175918</th>\n",
              "      <td>1.435069e+06</td>\n",
              "      <td>601038.749707</td>\n",
              "      <td>175919</td>\n",
              "      <td>14000113.0</td>\n",
              "      <td>35.0</td>\n",
              "      <td>M</td>\n",
              "      <td>B</td>\n",
              "      <td>2014/01/01 00:05:00+00</td>\n",
              "      <td>3700 ELMORA AVE</td>\n",
              "      <td>Unknown Offense</td>\n",
              "      <td>3700 ELMORA AVE</td>\n",
              "      <td>1 1609</td>\n",
              "      <td>FIREARM VIOLATION</td>\n",
              "      <td>Northeast</td>\n",
              "      <td>432</td>\n",
              "      <td>Belair-Edison</td>\n",
              "      <td>39.3162</td>\n",
              "      <td>-76.5662</td>\n",
              "      <td>(39.3162,-76.5662)</td>\n",
              "      <td>NaN</td>\n",
              "    </tr>\n",
              "    <tr>\n",
              "      <th>175919</th>\n",
              "      <td>1.405318e+06</td>\n",
              "      <td>589513.916091</td>\n",
              "      <td>175920</td>\n",
              "      <td>14000148.0</td>\n",
              "      <td>41.0</td>\n",
              "      <td>M</td>\n",
              "      <td>B</td>\n",
              "      <td>2014/01/01 00:05:00+00</td>\n",
              "      <td>3200 LOHRS LN</td>\n",
              "      <td>83DISCHARGING FIREARM</td>\n",
              "      <td>3200 LOHRS LN</td>\n",
              "      <td>1 5212</td>\n",
              "      <td>DISCHARGING</td>\n",
              "      <td>Southwest</td>\n",
              "      <td>835</td>\n",
              "      <td>Carroll-South Hilton</td>\n",
              "      <td>39.2849</td>\n",
              "      <td>-76.6715</td>\n",
              "      <td>(39.2849,-76.6715)</td>\n",
              "      <td>NaN</td>\n",
              "    </tr>\n",
              "    <tr>\n",
              "      <th>175920</th>\n",
              "      <td>1.405318e+06</td>\n",
              "      <td>589513.916091</td>\n",
              "      <td>175921</td>\n",
              "      <td>14000140.0</td>\n",
              "      <td>36.0</td>\n",
              "      <td>F</td>\n",
              "      <td>B</td>\n",
              "      <td>2014/01/01 00:05:00+00</td>\n",
              "      <td>3200 LOHRS LN</td>\n",
              "      <td>83DISCHARGING FIREARM</td>\n",
              "      <td>3200 LOHRS LN</td>\n",
              "      <td>1 5212</td>\n",
              "      <td>DISCHARGING</td>\n",
              "      <td>Southwest</td>\n",
              "      <td>835</td>\n",
              "      <td>Carroll-South Hilton</td>\n",
              "      <td>39.2849</td>\n",
              "      <td>-76.6715</td>\n",
              "      <td>(39.2849,-76.6715)</td>\n",
              "      <td>NaN</td>\n",
              "    </tr>\n",
              "    <tr>\n",
              "      <th>175921</th>\n",
              "      <td>1.405318e+06</td>\n",
              "      <td>589513.916091</td>\n",
              "      <td>175922</td>\n",
              "      <td>14000135.0</td>\n",
              "      <td>30.0</td>\n",
              "      <td>M</td>\n",
              "      <td>B</td>\n",
              "      <td>2014/01/01 00:05:00+00</td>\n",
              "      <td>3200 LOHRS LN</td>\n",
              "      <td>83DISCHARGING FIREARM</td>\n",
              "      <td>3200 LOHRS LN</td>\n",
              "      <td>1 5212</td>\n",
              "      <td>HGV</td>\n",
              "      <td>Southwest</td>\n",
              "      <td>835</td>\n",
              "      <td>Carroll-South Hilton</td>\n",
              "      <td>39.2849</td>\n",
              "      <td>-76.6715</td>\n",
              "      <td>(39.2849,-76.6715)</td>\n",
              "      <td>NaN</td>\n",
              "    </tr>\n",
              "    <tr>\n",
              "      <th>175922</th>\n",
              "      <td>NaN</td>\n",
              "      <td>NaN</td>\n",
              "      <td>175923</td>\n",
              "      <td>14000265.0</td>\n",
              "      <td>47.0</td>\n",
              "      <td>M</td>\n",
              "      <td>W</td>\n",
              "      <td>2014/01/01 00:00:00+00</td>\n",
              "      <td>NaN</td>\n",
              "      <td>Unknown Offense</td>\n",
              "      <td>NaN</td>\n",
              "      <td>2 1134</td>\n",
              "      <td>SEX OFF REG-FAIL NOTIFY/INCLD</td>\n",
              "      <td>NaN</td>\n",
              "      <td>NaN</td>\n",
              "      <td>NaN</td>\n",
              "      <td>NaN</td>\n",
              "      <td>NaN</td>\n",
              "      <td>(,)</td>\n",
              "      <td>NaN</td>\n",
              "    </tr>\n",
              "  </tbody>\n",
              "</table>\n",
              "<p>175923 rows × 20 columns</p>\n",
              "</div>"
            ],
            "text/plain": [
              "                   X              Y  ...         GeoLocation  Shape\n",
              "0       1.406788e+06  597678.129188  ...  (39.3073,-76.6662)    NaN\n",
              "1       1.412063e+06  594601.943893  ...  (39.2988,-76.6476)    NaN\n",
              "2       1.404120e+06  584046.130423  ...  (39.2699,-76.6758)    NaN\n",
              "3       1.418872e+06  576745.235206  ...  (39.2497,-76.6238)    NaN\n",
              "4       1.418872e+06  576745.235206  ...  (39.2497,-76.6238)    NaN\n",
              "...              ...            ...  ...                 ...    ...\n",
              "175918  1.435069e+06  601038.749707  ...  (39.3162,-76.5662)    NaN\n",
              "175919  1.405318e+06  589513.916091  ...  (39.2849,-76.6715)    NaN\n",
              "175920  1.405318e+06  589513.916091  ...  (39.2849,-76.6715)    NaN\n",
              "175921  1.405318e+06  589513.916091  ...  (39.2849,-76.6715)    NaN\n",
              "175922           NaN            NaN  ...                 (,)    NaN\n",
              "\n",
              "[175923 rows x 20 columns]"
            ]
          },
          "metadata": {},
          "execution_count": 1
        }
      ]
    },
    {
      "cell_type": "markdown",
      "metadata": {
        "id": "0qB6FgVoMDXT"
      },
      "source": [
        "No Errors are seen which means I can move on to the EDA"
      ]
    },
    {
      "cell_type": "markdown",
      "metadata": {
        "id": "NxU8OftjaeQz"
      },
      "source": [
        "#EDA\n"
      ]
    },
    {
      "cell_type": "markdown",
      "metadata": {
        "id": "YlciduJwMf07"
      },
      "source": [
        "**Exploratory Data Analysis or EDA** is one of the most important steps in Data Analysis. During this step the data analyst thoroughly examines the dataset to ensure it is in the form he needs for modeling."
      ]
    },
    {
      "cell_type": "markdown",
      "metadata": {
        "id": "vrP47eFByuNx"
      },
      "source": [
        "Before doing anything I need to modify the data types to better represent the values in each of the columns"
      ]
    },
    {
      "cell_type": "code",
      "metadata": {
        "colab": {
          "base_uri": "https://localhost:8080/"
        },
        "id": "iWGt_Ts1ytsJ",
        "outputId": "2b495cd8-d630-4b46-d5a7-7ab5face7548"
      },
      "source": [
        "dfConverted = df.convert_dtypes()\n",
        "dfConverted.dtypes"
      ],
      "execution_count": null,
      "outputs": [
        {
          "output_type": "execute_result",
          "data": {
            "text/plain": [
              "X                    float64\n",
              "Y                    float64\n",
              "RowID                  Int64\n",
              "ArrestNumber           Int64\n",
              "Age                    Int64\n",
              "Gender                string\n",
              "Race                  string\n",
              "ArrestDateTime        string\n",
              "ArrestLocation        string\n",
              "IncidentOffence       string\n",
              "IncidentLocation      string\n",
              "Charge                string\n",
              "ChargeDescription     string\n",
              "District              string\n",
              "Post                  string\n",
              "Neighborhood          string\n",
              "Latitude             float64\n",
              "Longitude            float64\n",
              "GeoLocation           string\n",
              "Shape                  Int64\n",
              "dtype: object"
            ]
          },
          "metadata": {},
          "execution_count": 2
        }
      ]
    },
    {
      "cell_type": "markdown",
      "metadata": {
        "id": "3BjL1-X6v2aw"
      },
      "source": [
        "First thing I notice is that there are some features that will not contribute to my classification problem.\n",
        "* 'X', 'Y', 'RowID', and 'ArrestNumber': are all similar indexing variables that will provide nothing to the classification\n",
        "* 'ArrestLocation', 'IncidentLocation', 'Neighborhood': This wouldn't fit my classification problem as my model shouldn't need location information to determine the district the crime happened\n",
        "\n",
        "* 'Latitude', 'Longitude', and 'GeoLocation' all provide the same information. This wouldn't fit my classification problem as my model shouldn't need location information to determine the district the crime happened\n",
        "\n",
        "* 'Shape': Shape is a useless feature column that provides no information and is mostly filled with NA values \n",
        "\n",
        "* Charge, post: Charge and Charge Description hold what is basically the same information. Post is a 3 digit code relating to someone's charge. Thus when I throw them into a OHE they will provide redundancy which is bad. "
      ]
    },
    {
      "cell_type": "markdown",
      "metadata": {
        "id": "V_MjdoxtMTor"
      },
      "source": [
        "Therefore, I will drop those columns before moving on with the EDA"
      ]
    },
    {
      "cell_type": "code",
      "metadata": {
        "id": "vo31fvRXv16K"
      },
      "source": [
        "dfConverted = dfConverted.drop(['X', 'Y', 'RowID', 'ArrestNumber', 'ArrestLocation', \n",
        "              'IncidentLocation', 'Neighborhood', 'Latitude', 'Longitude',\n",
        "              'GeoLocation', 'Shape', 'Charge', 'Post'], axis = 1)"
      ],
      "execution_count": null,
      "outputs": []
    },
    {
      "cell_type": "code",
      "metadata": {
        "colab": {
          "base_uri": "https://localhost:8080/",
          "height": 736
        },
        "id": "datX8CTuw7xo",
        "outputId": "2365ded4-f086-409c-9a11-8552e7792709"
      },
      "source": [
        "print(dfConverted.dtypes)\n",
        "dfConverted"
      ],
      "execution_count": null,
      "outputs": [
        {
          "output_type": "stream",
          "name": "stdout",
          "text": [
            "Age                   Int64\n",
            "Gender               string\n",
            "Race                 string\n",
            "ArrestDateTime       string\n",
            "IncidentOffence      string\n",
            "ChargeDescription    string\n",
            "District             string\n",
            "dtype: object\n"
          ]
        },
        {
          "output_type": "execute_result",
          "data": {
            "text/html": [
              "<div>\n",
              "<style scoped>\n",
              "    .dataframe tbody tr th:only-of-type {\n",
              "        vertical-align: middle;\n",
              "    }\n",
              "\n",
              "    .dataframe tbody tr th {\n",
              "        vertical-align: top;\n",
              "    }\n",
              "\n",
              "    .dataframe thead th {\n",
              "        text-align: right;\n",
              "    }\n",
              "</style>\n",
              "<table border=\"1\" class=\"dataframe\">\n",
              "  <thead>\n",
              "    <tr style=\"text-align: right;\">\n",
              "      <th></th>\n",
              "      <th>Age</th>\n",
              "      <th>Gender</th>\n",
              "      <th>Race</th>\n",
              "      <th>ArrestDateTime</th>\n",
              "      <th>IncidentOffence</th>\n",
              "      <th>ChargeDescription</th>\n",
              "      <th>District</th>\n",
              "    </tr>\n",
              "  </thead>\n",
              "  <tbody>\n",
              "    <tr>\n",
              "      <th>0</th>\n",
              "      <td>27</td>\n",
              "      <td>M</td>\n",
              "      <td>B</td>\n",
              "      <td>2020/12/31 23:50:00+00</td>\n",
              "      <td>96BINVESTIGATIVE STOP</td>\n",
              "      <td>HAND GUN VIOLATION</td>\n",
              "      <td>Southwest</td>\n",
              "    </tr>\n",
              "    <tr>\n",
              "      <th>1</th>\n",
              "      <td>45</td>\n",
              "      <td>F</td>\n",
              "      <td>B</td>\n",
              "      <td>2020/12/31 23:45:00+00</td>\n",
              "      <td>Unknown Offense</td>\n",
              "      <td>AUTO THEFT</td>\n",
              "      <td>Western</td>\n",
              "    </tr>\n",
              "    <tr>\n",
              "      <th>2</th>\n",
              "      <td>42</td>\n",
              "      <td>F</td>\n",
              "      <td>W</td>\n",
              "      <td>2020/12/31 23:40:00+00</td>\n",
              "      <td>Unknown Offense</td>\n",
              "      <td>2ND DEGREE ASSAULT</td>\n",
              "      <td>Southwest</td>\n",
              "    </tr>\n",
              "    <tr>\n",
              "      <th>3</th>\n",
              "      <td>26</td>\n",
              "      <td>M</td>\n",
              "      <td>B</td>\n",
              "      <td>2020/12/31 21:45:00+00</td>\n",
              "      <td>Unknown Offense</td>\n",
              "      <td>PWID</td>\n",
              "      <td>Southern</td>\n",
              "    </tr>\n",
              "    <tr>\n",
              "      <th>4</th>\n",
              "      <td>19</td>\n",
              "      <td>M</td>\n",
              "      <td>B</td>\n",
              "      <td>2020/12/31 21:45:00+00</td>\n",
              "      <td>Unknown Offense</td>\n",
              "      <td>PWID</td>\n",
              "      <td>Southern</td>\n",
              "    </tr>\n",
              "    <tr>\n",
              "      <th>...</th>\n",
              "      <td>...</td>\n",
              "      <td>...</td>\n",
              "      <td>...</td>\n",
              "      <td>...</td>\n",
              "      <td>...</td>\n",
              "      <td>...</td>\n",
              "      <td>...</td>\n",
              "    </tr>\n",
              "    <tr>\n",
              "      <th>175918</th>\n",
              "      <td>35</td>\n",
              "      <td>M</td>\n",
              "      <td>B</td>\n",
              "      <td>2014/01/01 00:05:00+00</td>\n",
              "      <td>Unknown Offense</td>\n",
              "      <td>FIREARM VIOLATION</td>\n",
              "      <td>Northeast</td>\n",
              "    </tr>\n",
              "    <tr>\n",
              "      <th>175919</th>\n",
              "      <td>41</td>\n",
              "      <td>M</td>\n",
              "      <td>B</td>\n",
              "      <td>2014/01/01 00:05:00+00</td>\n",
              "      <td>83DISCHARGING FIREARM</td>\n",
              "      <td>DISCHARGING</td>\n",
              "      <td>Southwest</td>\n",
              "    </tr>\n",
              "    <tr>\n",
              "      <th>175920</th>\n",
              "      <td>36</td>\n",
              "      <td>F</td>\n",
              "      <td>B</td>\n",
              "      <td>2014/01/01 00:05:00+00</td>\n",
              "      <td>83DISCHARGING FIREARM</td>\n",
              "      <td>DISCHARGING</td>\n",
              "      <td>Southwest</td>\n",
              "    </tr>\n",
              "    <tr>\n",
              "      <th>175921</th>\n",
              "      <td>30</td>\n",
              "      <td>M</td>\n",
              "      <td>B</td>\n",
              "      <td>2014/01/01 00:05:00+00</td>\n",
              "      <td>83DISCHARGING FIREARM</td>\n",
              "      <td>HGV</td>\n",
              "      <td>Southwest</td>\n",
              "    </tr>\n",
              "    <tr>\n",
              "      <th>175922</th>\n",
              "      <td>47</td>\n",
              "      <td>M</td>\n",
              "      <td>W</td>\n",
              "      <td>2014/01/01 00:00:00+00</td>\n",
              "      <td>Unknown Offense</td>\n",
              "      <td>SEX OFF REG-FAIL NOTIFY/INCLD</td>\n",
              "      <td>&lt;NA&gt;</td>\n",
              "    </tr>\n",
              "  </tbody>\n",
              "</table>\n",
              "<p>175923 rows × 7 columns</p>\n",
              "</div>"
            ],
            "text/plain": [
              "        Age Gender  ...              ChargeDescription   District\n",
              "0        27      M  ...             HAND GUN VIOLATION  Southwest\n",
              "1        45      F  ...                     AUTO THEFT    Western\n",
              "2        42      F  ...             2ND DEGREE ASSAULT  Southwest\n",
              "3        26      M  ...                           PWID   Southern\n",
              "4        19      M  ...                           PWID   Southern\n",
              "...     ...    ...  ...                            ...        ...\n",
              "175918   35      M  ...              FIREARM VIOLATION  Northeast\n",
              "175919   41      M  ...                    DISCHARGING  Southwest\n",
              "175920   36      F  ...                    DISCHARGING  Southwest\n",
              "175921   30      M  ...                            HGV  Southwest\n",
              "175922   47      M  ...  SEX OFF REG-FAIL NOTIFY/INCLD       <NA>\n",
              "\n",
              "[175923 rows x 7 columns]"
            ]
          },
          "metadata": {},
          "execution_count": 4
        }
      ]
    },
    {
      "cell_type": "markdown",
      "metadata": {
        "id": "YhtdAAyr0lTx"
      },
      "source": [
        "I may want the date and the time seperate to cut down on the sparcity of the dummy matrix formed when one hot encoding. First I will check how many unique values are there vs the total values"
      ]
    },
    {
      "cell_type": "code",
      "metadata": {
        "colab": {
          "base_uri": "https://localhost:8080/"
        },
        "id": "1Sk0QWp_019W",
        "outputId": "6a595561-bd42-4398-f7a1-7d6df8471024"
      },
      "source": [
        "print(\"There are\", dfConverted.ArrestDateTime.count() - len(dfConverted.ArrestDateTime.unique()), \"Non unique values\")"
      ],
      "execution_count": null,
      "outputs": [
        {
          "output_type": "stream",
          "name": "stdout",
          "text": [
            "There are 45088 Non unique values\n"
          ]
        }
      ]
    },
    {
      "cell_type": "markdown",
      "metadata": {
        "id": "P2rJNFmCPKNR"
      },
      "source": [
        "This will cause unnecessary sparsity in the Dummy Matrix"
      ]
    },
    {
      "cell_type": "markdown",
      "metadata": {
        "id": "7H0oVHxTO5bK"
      },
      "source": [
        "So I will separate the date and time and make them separate columns. Then delete the old column since it'll only provide redundancy."
      ]
    },
    {
      "cell_type": "code",
      "metadata": {
        "colab": {
          "base_uri": "https://localhost:8080/",
          "height": 597
        },
        "id": "CQ5JIOPV0xVr",
        "outputId": "936ea001-6359-4ccc-b806-3b069edbc0d0"
      },
      "source": [
        "#Fromhttps://www.tutorialspoint.com/write-a-program-to-separate-date-and-time-from-the-datetime-column-in-python-pandas\n",
        "dfConverted['date'] = pd.to_datetime(dfConverted['ArrestDateTime']).dt.date\n",
        "dfConverted['time'] = pd.to_datetime(dfConverted['ArrestDateTime']).dt.time\n",
        "dfConverted"
      ],
      "execution_count": null,
      "outputs": [
        {
          "output_type": "execute_result",
          "data": {
            "text/html": [
              "<div>\n",
              "<style scoped>\n",
              "    .dataframe tbody tr th:only-of-type {\n",
              "        vertical-align: middle;\n",
              "    }\n",
              "\n",
              "    .dataframe tbody tr th {\n",
              "        vertical-align: top;\n",
              "    }\n",
              "\n",
              "    .dataframe thead th {\n",
              "        text-align: right;\n",
              "    }\n",
              "</style>\n",
              "<table border=\"1\" class=\"dataframe\">\n",
              "  <thead>\n",
              "    <tr style=\"text-align: right;\">\n",
              "      <th></th>\n",
              "      <th>Age</th>\n",
              "      <th>Gender</th>\n",
              "      <th>Race</th>\n",
              "      <th>ArrestDateTime</th>\n",
              "      <th>IncidentOffence</th>\n",
              "      <th>ChargeDescription</th>\n",
              "      <th>District</th>\n",
              "      <th>date</th>\n",
              "      <th>time</th>\n",
              "    </tr>\n",
              "  </thead>\n",
              "  <tbody>\n",
              "    <tr>\n",
              "      <th>0</th>\n",
              "      <td>27</td>\n",
              "      <td>M</td>\n",
              "      <td>B</td>\n",
              "      <td>2020/12/31 23:50:00+00</td>\n",
              "      <td>96BINVESTIGATIVE STOP</td>\n",
              "      <td>HAND GUN VIOLATION</td>\n",
              "      <td>Southwest</td>\n",
              "      <td>2020-12-31</td>\n",
              "      <td>23:50:00</td>\n",
              "    </tr>\n",
              "    <tr>\n",
              "      <th>1</th>\n",
              "      <td>45</td>\n",
              "      <td>F</td>\n",
              "      <td>B</td>\n",
              "      <td>2020/12/31 23:45:00+00</td>\n",
              "      <td>Unknown Offense</td>\n",
              "      <td>AUTO THEFT</td>\n",
              "      <td>Western</td>\n",
              "      <td>2020-12-31</td>\n",
              "      <td>23:45:00</td>\n",
              "    </tr>\n",
              "    <tr>\n",
              "      <th>2</th>\n",
              "      <td>42</td>\n",
              "      <td>F</td>\n",
              "      <td>W</td>\n",
              "      <td>2020/12/31 23:40:00+00</td>\n",
              "      <td>Unknown Offense</td>\n",
              "      <td>2ND DEGREE ASSAULT</td>\n",
              "      <td>Southwest</td>\n",
              "      <td>2020-12-31</td>\n",
              "      <td>23:40:00</td>\n",
              "    </tr>\n",
              "    <tr>\n",
              "      <th>3</th>\n",
              "      <td>26</td>\n",
              "      <td>M</td>\n",
              "      <td>B</td>\n",
              "      <td>2020/12/31 21:45:00+00</td>\n",
              "      <td>Unknown Offense</td>\n",
              "      <td>PWID</td>\n",
              "      <td>Southern</td>\n",
              "      <td>2020-12-31</td>\n",
              "      <td>21:45:00</td>\n",
              "    </tr>\n",
              "    <tr>\n",
              "      <th>4</th>\n",
              "      <td>19</td>\n",
              "      <td>M</td>\n",
              "      <td>B</td>\n",
              "      <td>2020/12/31 21:45:00+00</td>\n",
              "      <td>Unknown Offense</td>\n",
              "      <td>PWID</td>\n",
              "      <td>Southern</td>\n",
              "      <td>2020-12-31</td>\n",
              "      <td>21:45:00</td>\n",
              "    </tr>\n",
              "    <tr>\n",
              "      <th>...</th>\n",
              "      <td>...</td>\n",
              "      <td>...</td>\n",
              "      <td>...</td>\n",
              "      <td>...</td>\n",
              "      <td>...</td>\n",
              "      <td>...</td>\n",
              "      <td>...</td>\n",
              "      <td>...</td>\n",
              "      <td>...</td>\n",
              "    </tr>\n",
              "    <tr>\n",
              "      <th>175918</th>\n",
              "      <td>35</td>\n",
              "      <td>M</td>\n",
              "      <td>B</td>\n",
              "      <td>2014/01/01 00:05:00+00</td>\n",
              "      <td>Unknown Offense</td>\n",
              "      <td>FIREARM VIOLATION</td>\n",
              "      <td>Northeast</td>\n",
              "      <td>2014-01-01</td>\n",
              "      <td>00:05:00</td>\n",
              "    </tr>\n",
              "    <tr>\n",
              "      <th>175919</th>\n",
              "      <td>41</td>\n",
              "      <td>M</td>\n",
              "      <td>B</td>\n",
              "      <td>2014/01/01 00:05:00+00</td>\n",
              "      <td>83DISCHARGING FIREARM</td>\n",
              "      <td>DISCHARGING</td>\n",
              "      <td>Southwest</td>\n",
              "      <td>2014-01-01</td>\n",
              "      <td>00:05:00</td>\n",
              "    </tr>\n",
              "    <tr>\n",
              "      <th>175920</th>\n",
              "      <td>36</td>\n",
              "      <td>F</td>\n",
              "      <td>B</td>\n",
              "      <td>2014/01/01 00:05:00+00</td>\n",
              "      <td>83DISCHARGING FIREARM</td>\n",
              "      <td>DISCHARGING</td>\n",
              "      <td>Southwest</td>\n",
              "      <td>2014-01-01</td>\n",
              "      <td>00:05:00</td>\n",
              "    </tr>\n",
              "    <tr>\n",
              "      <th>175921</th>\n",
              "      <td>30</td>\n",
              "      <td>M</td>\n",
              "      <td>B</td>\n",
              "      <td>2014/01/01 00:05:00+00</td>\n",
              "      <td>83DISCHARGING FIREARM</td>\n",
              "      <td>HGV</td>\n",
              "      <td>Southwest</td>\n",
              "      <td>2014-01-01</td>\n",
              "      <td>00:05:00</td>\n",
              "    </tr>\n",
              "    <tr>\n",
              "      <th>175922</th>\n",
              "      <td>47</td>\n",
              "      <td>M</td>\n",
              "      <td>W</td>\n",
              "      <td>2014/01/01 00:00:00+00</td>\n",
              "      <td>Unknown Offense</td>\n",
              "      <td>SEX OFF REG-FAIL NOTIFY/INCLD</td>\n",
              "      <td>&lt;NA&gt;</td>\n",
              "      <td>2014-01-01</td>\n",
              "      <td>00:00:00</td>\n",
              "    </tr>\n",
              "  </tbody>\n",
              "</table>\n",
              "<p>175923 rows × 9 columns</p>\n",
              "</div>"
            ],
            "text/plain": [
              "        Age Gender Race  ...   District        date      time\n",
              "0        27      M    B  ...  Southwest  2020-12-31  23:50:00\n",
              "1        45      F    B  ...    Western  2020-12-31  23:45:00\n",
              "2        42      F    W  ...  Southwest  2020-12-31  23:40:00\n",
              "3        26      M    B  ...   Southern  2020-12-31  21:45:00\n",
              "4        19      M    B  ...   Southern  2020-12-31  21:45:00\n",
              "...     ...    ...  ...  ...        ...         ...       ...\n",
              "175918   35      M    B  ...  Northeast  2014-01-01  00:05:00\n",
              "175919   41      M    B  ...  Southwest  2014-01-01  00:05:00\n",
              "175920   36      F    B  ...  Southwest  2014-01-01  00:05:00\n",
              "175921   30      M    B  ...  Southwest  2014-01-01  00:05:00\n",
              "175922   47      M    W  ...       <NA>  2014-01-01  00:00:00\n",
              "\n",
              "[175923 rows x 9 columns]"
            ]
          },
          "metadata": {},
          "execution_count": 6
        }
      ]
    },
    {
      "cell_type": "code",
      "metadata": {
        "id": "At3lhFw-7UFs"
      },
      "source": [
        "dfConverted = dfConverted.drop('ArrestDateTime', axis=1)"
      ],
      "execution_count": null,
      "outputs": []
    },
    {
      "cell_type": "code",
      "metadata": {
        "colab": {
          "base_uri": "https://localhost:8080/",
          "height": 597
        },
        "id": "sj9e8Q8W7gJQ",
        "outputId": "4c6cd08f-b0d4-45b0-ee98-fb2480b57439"
      },
      "source": [
        "dfConverted"
      ],
      "execution_count": null,
      "outputs": [
        {
          "output_type": "execute_result",
          "data": {
            "text/html": [
              "<div>\n",
              "<style scoped>\n",
              "    .dataframe tbody tr th:only-of-type {\n",
              "        vertical-align: middle;\n",
              "    }\n",
              "\n",
              "    .dataframe tbody tr th {\n",
              "        vertical-align: top;\n",
              "    }\n",
              "\n",
              "    .dataframe thead th {\n",
              "        text-align: right;\n",
              "    }\n",
              "</style>\n",
              "<table border=\"1\" class=\"dataframe\">\n",
              "  <thead>\n",
              "    <tr style=\"text-align: right;\">\n",
              "      <th></th>\n",
              "      <th>Age</th>\n",
              "      <th>Gender</th>\n",
              "      <th>Race</th>\n",
              "      <th>IncidentOffence</th>\n",
              "      <th>ChargeDescription</th>\n",
              "      <th>District</th>\n",
              "      <th>date</th>\n",
              "      <th>time</th>\n",
              "    </tr>\n",
              "  </thead>\n",
              "  <tbody>\n",
              "    <tr>\n",
              "      <th>0</th>\n",
              "      <td>27</td>\n",
              "      <td>M</td>\n",
              "      <td>B</td>\n",
              "      <td>96BINVESTIGATIVE STOP</td>\n",
              "      <td>HAND GUN VIOLATION</td>\n",
              "      <td>Southwest</td>\n",
              "      <td>2020-12-31</td>\n",
              "      <td>23:50:00</td>\n",
              "    </tr>\n",
              "    <tr>\n",
              "      <th>1</th>\n",
              "      <td>45</td>\n",
              "      <td>F</td>\n",
              "      <td>B</td>\n",
              "      <td>Unknown Offense</td>\n",
              "      <td>AUTO THEFT</td>\n",
              "      <td>Western</td>\n",
              "      <td>2020-12-31</td>\n",
              "      <td>23:45:00</td>\n",
              "    </tr>\n",
              "    <tr>\n",
              "      <th>2</th>\n",
              "      <td>42</td>\n",
              "      <td>F</td>\n",
              "      <td>W</td>\n",
              "      <td>Unknown Offense</td>\n",
              "      <td>2ND DEGREE ASSAULT</td>\n",
              "      <td>Southwest</td>\n",
              "      <td>2020-12-31</td>\n",
              "      <td>23:40:00</td>\n",
              "    </tr>\n",
              "    <tr>\n",
              "      <th>3</th>\n",
              "      <td>26</td>\n",
              "      <td>M</td>\n",
              "      <td>B</td>\n",
              "      <td>Unknown Offense</td>\n",
              "      <td>PWID</td>\n",
              "      <td>Southern</td>\n",
              "      <td>2020-12-31</td>\n",
              "      <td>21:45:00</td>\n",
              "    </tr>\n",
              "    <tr>\n",
              "      <th>4</th>\n",
              "      <td>19</td>\n",
              "      <td>M</td>\n",
              "      <td>B</td>\n",
              "      <td>Unknown Offense</td>\n",
              "      <td>PWID</td>\n",
              "      <td>Southern</td>\n",
              "      <td>2020-12-31</td>\n",
              "      <td>21:45:00</td>\n",
              "    </tr>\n",
              "    <tr>\n",
              "      <th>...</th>\n",
              "      <td>...</td>\n",
              "      <td>...</td>\n",
              "      <td>...</td>\n",
              "      <td>...</td>\n",
              "      <td>...</td>\n",
              "      <td>...</td>\n",
              "      <td>...</td>\n",
              "      <td>...</td>\n",
              "    </tr>\n",
              "    <tr>\n",
              "      <th>175918</th>\n",
              "      <td>35</td>\n",
              "      <td>M</td>\n",
              "      <td>B</td>\n",
              "      <td>Unknown Offense</td>\n",
              "      <td>FIREARM VIOLATION</td>\n",
              "      <td>Northeast</td>\n",
              "      <td>2014-01-01</td>\n",
              "      <td>00:05:00</td>\n",
              "    </tr>\n",
              "    <tr>\n",
              "      <th>175919</th>\n",
              "      <td>41</td>\n",
              "      <td>M</td>\n",
              "      <td>B</td>\n",
              "      <td>83DISCHARGING FIREARM</td>\n",
              "      <td>DISCHARGING</td>\n",
              "      <td>Southwest</td>\n",
              "      <td>2014-01-01</td>\n",
              "      <td>00:05:00</td>\n",
              "    </tr>\n",
              "    <tr>\n",
              "      <th>175920</th>\n",
              "      <td>36</td>\n",
              "      <td>F</td>\n",
              "      <td>B</td>\n",
              "      <td>83DISCHARGING FIREARM</td>\n",
              "      <td>DISCHARGING</td>\n",
              "      <td>Southwest</td>\n",
              "      <td>2014-01-01</td>\n",
              "      <td>00:05:00</td>\n",
              "    </tr>\n",
              "    <tr>\n",
              "      <th>175921</th>\n",
              "      <td>30</td>\n",
              "      <td>M</td>\n",
              "      <td>B</td>\n",
              "      <td>83DISCHARGING FIREARM</td>\n",
              "      <td>HGV</td>\n",
              "      <td>Southwest</td>\n",
              "      <td>2014-01-01</td>\n",
              "      <td>00:05:00</td>\n",
              "    </tr>\n",
              "    <tr>\n",
              "      <th>175922</th>\n",
              "      <td>47</td>\n",
              "      <td>M</td>\n",
              "      <td>W</td>\n",
              "      <td>Unknown Offense</td>\n",
              "      <td>SEX OFF REG-FAIL NOTIFY/INCLD</td>\n",
              "      <td>&lt;NA&gt;</td>\n",
              "      <td>2014-01-01</td>\n",
              "      <td>00:00:00</td>\n",
              "    </tr>\n",
              "  </tbody>\n",
              "</table>\n",
              "<p>175923 rows × 8 columns</p>\n",
              "</div>"
            ],
            "text/plain": [
              "        Age Gender Race  ...   District        date      time\n",
              "0        27      M    B  ...  Southwest  2020-12-31  23:50:00\n",
              "1        45      F    B  ...    Western  2020-12-31  23:45:00\n",
              "2        42      F    W  ...  Southwest  2020-12-31  23:40:00\n",
              "3        26      M    B  ...   Southern  2020-12-31  21:45:00\n",
              "4        19      M    B  ...   Southern  2020-12-31  21:45:00\n",
              "...     ...    ...  ...  ...        ...         ...       ...\n",
              "175918   35      M    B  ...  Northeast  2014-01-01  00:05:00\n",
              "175919   41      M    B  ...  Southwest  2014-01-01  00:05:00\n",
              "175920   36      F    B  ...  Southwest  2014-01-01  00:05:00\n",
              "175921   30      M    B  ...  Southwest  2014-01-01  00:05:00\n",
              "175922   47      M    W  ...       <NA>  2014-01-01  00:00:00\n",
              "\n",
              "[175923 rows x 8 columns]"
            ]
          },
          "metadata": {},
          "execution_count": 8
        }
      ]
    },
    {
      "cell_type": "code",
      "metadata": {
        "colab": {
          "base_uri": "https://localhost:8080/"
        },
        "id": "9MO6OSZ9PUdP",
        "outputId": "f87a80d3-6c6c-469c-ff7e-5a0831d890b0"
      },
      "source": [
        "dfConverted.convert_dtypes()\n",
        "print(dfConverted.dtypes)"
      ],
      "execution_count": null,
      "outputs": [
        {
          "output_type": "stream",
          "name": "stdout",
          "text": [
            "Age                   Int64\n",
            "Gender               string\n",
            "Race                 string\n",
            "IncidentOffence      string\n",
            "ChargeDescription    string\n",
            "District             string\n",
            "date                 object\n",
            "time                 object\n",
            "dtype: object\n"
          ]
        }
      ]
    },
    {
      "cell_type": "markdown",
      "metadata": {
        "id": "b0FdFMYKbQe1"
      },
      "source": [
        "While date and time being objects seems wrong to me, They should be comparable to other objects within the column. Which is satisfactory enough for the one hot encoder. Thus I will leave them as is."
      ]
    },
    {
      "cell_type": "markdown",
      "metadata": {
        "id": "0k9OEsCjQQan"
      },
      "source": [
        "## Dealing with my NA values\n",
        "Now that I have all the relevant columns for my classification, I need to ensure that the values in said column are not going to cause my modeling pipeline issues.\n",
        "\n",
        "\n",
        "I will begin by first checking how many NA values I have in each column"
      ]
    },
    {
      "cell_type": "code",
      "metadata": {
        "id": "xNAdUVRNa3uz",
        "colab": {
          "base_uri": "https://localhost:8080/"
        },
        "outputId": "b375d59e-6369-4bff-806a-399fd92e7724"
      },
      "source": [
        "print(dfConverted.isna().sum())"
      ],
      "execution_count": null,
      "outputs": [
        {
          "output_type": "stream",
          "name": "stdout",
          "text": [
            "Age                     87\n",
            "Gender                  39\n",
            "Race                    39\n",
            "IncidentOffence          0\n",
            "ChargeDescription        0\n",
            "District             86032\n",
            "date                     0\n",
            "time                     0\n",
            "dtype: int64\n"
          ]
        }
      ]
    },
    {
      "cell_type": "markdown",
      "metadata": {
        "id": "nzMo-xLkQyCd"
      },
      "source": [
        "I seem to have a couple NA values in Age, Gender, and Race (Ignore District for now). Due to the sheer size of the data, I can fill those with a value to denote that they were \"unknown\". But if they already have a value denoting \"unknown\" that would muddy the purity of the data. So before making that modification, I'll check for unique values for gender and race.\n",
        "- If **age** has no \"unknown\" value already then substituting 0 for all\n",
        "non positive age should suffice\n",
        "  - I will check this by simply checking if all ages are positive numbers\n",
        "- Gender should have 2 unique values. If it does then I know that NA values are most likely due to the gender being unknown at the time of the arrest according to my father who is a correctional officer\n",
        "- Similarly I will check the unique values of each of the values in race. If the values all relate to a particular race and/or contain a letter denoting \"other race\", I will consider my \"unknown\" hypothesis to be true and will modify the NAs accordingly."
      ]
    },
    {
      "cell_type": "markdown",
      "metadata": {
        "id": "N1pwOj8KVy6e"
      },
      "source": [
        "####I will begin with **Gender** since that is the easiest"
      ]
    },
    {
      "cell_type": "code",
      "metadata": {
        "colab": {
          "base_uri": "https://localhost:8080/"
        },
        "id": "5hvhuaozVoDK",
        "outputId": "fbedff81-5e50-45d2-ca76-f2dcfee5fe25"
      },
      "source": [
        "print(\"There are\", len(dfConverted.Gender.unique()), \"Non unique values\")\n",
        "dfConverted.Gender.unique()"
      ],
      "execution_count": null,
      "outputs": [
        {
          "output_type": "stream",
          "name": "stdout",
          "text": [
            "There are 3 Non unique values\n"
          ]
        },
        {
          "output_type": "execute_result",
          "data": {
            "text/plain": [
              "<StringArray>\n",
              "['M', 'F', <NA>]\n",
              "Length: 3, dtype: string"
            ]
          },
          "metadata": {},
          "execution_count": 11
        }
      ]
    },
    {
      "cell_type": "markdown",
      "metadata": {
        "id": "dU06vkbfWL4S"
      },
      "source": [
        "My Hypothesis is correct, thus I will change all NA values to 'U' to denote that they were unknown."
      ]
    },
    {
      "cell_type": "code",
      "metadata": {
        "id": "ZhQyYaF6WUNU"
      },
      "source": [
        "dfConverted['Gender'] = dfConverted['Gender'].fillna('U')"
      ],
      "execution_count": null,
      "outputs": []
    },
    {
      "cell_type": "code",
      "metadata": {
        "colab": {
          "base_uri": "https://localhost:8080/"
        },
        "id": "_YLEzWFdWxSW",
        "outputId": "d59899dc-46d3-4169-c1fd-984e5a60935f"
      },
      "source": [
        "dfConverted['Gender'].unique()"
      ],
      "execution_count": null,
      "outputs": [
        {
          "output_type": "execute_result",
          "data": {
            "text/plain": [
              "<StringArray>\n",
              "['M', 'F', 'U']\n",
              "Length: 3, dtype: string"
            ]
          },
          "metadata": {},
          "execution_count": 13
        }
      ]
    },
    {
      "cell_type": "markdown",
      "metadata": {
        "id": "2jZkaMBeW_sn"
      },
      "source": [
        "####**Age** will be handled similarly"
      ]
    },
    {
      "cell_type": "code",
      "metadata": {
        "colab": {
          "base_uri": "https://localhost:8080/"
        },
        "id": "HgRpw8OtXKcS",
        "outputId": "a6f170e1-c2cb-4461-b3e9-450618cc461d"
      },
      "source": [
        "dfConverted.Age.unique()"
      ],
      "execution_count": null,
      "outputs": [
        {
          "output_type": "execute_result",
          "data": {
            "text/plain": [
              "<IntegerArray>\n",
              "[  27,   45,   42,   26,   19,   18,   38,   33,   29,   35,   31,   23,   40,\n",
              "   61,   43,   36,   32,   55,   48,   16,   17,   21,   57,   64,   34,   56,\n",
              "   52,   25,   69,   41,   39,   30,   20,   37,   24,   44,   54,   22,   51,\n",
              "   28,   46,   47,   53,   50,   62,   58,   49,   59,   63,   66,   67,   60,\n",
              "   65,   71,   68,   70,   72,   75, <NA>,   76,   73,   74,   14,   15,   78,\n",
              "   81,   80,   79,   77,   85,   82,   87,   83,  100,   84,   88]\n",
              "Length: 76, dtype: Int64"
            ]
          },
          "metadata": {},
          "execution_count": 14
        }
      ]
    },
    {
      "cell_type": "code",
      "metadata": {
        "colab": {
          "base_uri": "https://localhost:8080/"
        },
        "id": "Y-PCmWkPXOxs",
        "outputId": "1c369645-15e1-4b70-ad68-c2f8f39f43b7"
      },
      "source": [
        "dfConverted['Age'] = dfConverted['Age'].fillna(0)\n",
        "dfConverted.Age.unique()"
      ],
      "execution_count": null,
      "outputs": [
        {
          "output_type": "execute_result",
          "data": {
            "text/plain": [
              "<IntegerArray>\n",
              "[ 27,  45,  42,  26,  19,  18,  38,  33,  29,  35,  31,  23,  40,  61,  43,\n",
              "  36,  32,  55,  48,  16,  17,  21,  57,  64,  34,  56,  52,  25,  69,  41,\n",
              "  39,  30,  20,  37,  24,  44,  54,  22,  51,  28,  46,  47,  53,  50,  62,\n",
              "  58,  49,  59,  63,  66,  67,  60,  65,  71,  68,  70,  72,  75,   0,  76,\n",
              "  73,  74,  14,  15,  78,  81,  80,  79,  77,  85,  82,  87,  83, 100,  84,\n",
              "  88]\n",
              "Length: 76, dtype: Int64"
            ]
          },
          "metadata": {},
          "execution_count": 15
        }
      ]
    },
    {
      "cell_type": "markdown",
      "metadata": {
        "id": "GBYSMhN0Xk_u"
      },
      "source": [
        "####Finally I will handle **Race**"
      ]
    },
    {
      "cell_type": "code",
      "metadata": {
        "colab": {
          "base_uri": "https://localhost:8080/"
        },
        "id": "VN07ldutXrXy",
        "outputId": "cb8db2dc-43f9-4699-c0c5-a3931bbea78b"
      },
      "source": [
        "dfConverted.Race.unique()"
      ],
      "execution_count": null,
      "outputs": [
        {
          "output_type": "execute_result",
          "data": {
            "text/plain": [
              "<StringArray>\n",
              "['B', 'W', 'U', 'A', 'I', <NA>]\n",
              "Length: 6, dtype: string"
            ]
          },
          "metadata": {},
          "execution_count": 16
        }
      ]
    },
    {
      "cell_type": "markdown",
      "metadata": {
        "id": "wK1aQ516YPSH"
      },
      "source": [
        "It seems I was incorrect in my assumption on what the NAs meant. Since the About page for the dataset has no information regarding what each of the letters mean, I went to my father who has been a correctional officer for over 30 years. He confirmed the following:\n",
        "- B = Black\n",
        "- W = White\n",
        "- U = Unknown at time of arrest\n",
        "- A = Asian\n",
        "- I = Indian (Middle Eastern)\n",
        "\n",
        "This leads me to believe that 'NA' was actually used as the \"other\" catagory rather than the \"unknown catagory. So I will replace the NAs with an 'O' instead."
      ]
    },
    {
      "cell_type": "code",
      "metadata": {
        "colab": {
          "base_uri": "https://localhost:8080/"
        },
        "id": "VSfvnrTWZh51",
        "outputId": "12d311b7-b57a-4060-87f7-e2485f7b787c"
      },
      "source": [
        "dfConverted['Race'] = dfConverted['Race'].fillna('O')\n",
        "dfConverted.Race.unique()"
      ],
      "execution_count": null,
      "outputs": [
        {
          "output_type": "execute_result",
          "data": {
            "text/plain": [
              "<StringArray>\n",
              "['B', 'W', 'U', 'A', 'I', 'O']\n",
              "Length: 6, dtype: string"
            ]
          },
          "metadata": {},
          "execution_count": 17
        }
      ]
    },
    {
      "cell_type": "markdown",
      "metadata": {
        "id": "jNkiV68SZq1I"
      },
      "source": [
        "##NAs in my target Variable"
      ]
    },
    {
      "cell_type": "markdown",
      "metadata": {
        "id": "MSrzWvZdZ6Be"
      },
      "source": [
        "The initial NA check provided one more Row with an astonishing amount of NA values, My target column, District. Since the anount of NA values are so large and since its the target column for my classification, the resolution of this issue will require a different approach approach."
      ]
    },
    {
      "cell_type": "markdown",
      "metadata": {
        "id": "Qm6vhlkdbiGs"
      },
      "source": [
        "##Basic Info about the Database\n",
        "For now I will begin gathering basic info on my new datafram by checking the 5 number summary for each of my features"
      ]
    },
    {
      "cell_type": "code",
      "metadata": {
        "id": "lrMkpXDAbE6M",
        "colab": {
          "base_uri": "https://localhost:8080/"
        },
        "outputId": "cc55042d-d949-4789-aa49-898c8692ba8d"
      },
      "source": [
        "print(dfConverted.dtypes)\n",
        "print(dfConverted.describe(include='all').T)"
      ],
      "execution_count": null,
      "outputs": [
        {
          "output_type": "stream",
          "name": "stdout",
          "text": [
            "Age                   Int64\n",
            "Gender               string\n",
            "Race                 string\n",
            "IncidentOffence      string\n",
            "ChargeDescription    string\n",
            "District             string\n",
            "date                 object\n",
            "time                 object\n",
            "dtype: object\n",
            "                    count unique                top    freq  ...  25%  50%  75%  max\n",
            "Age                175923    NaN                NaN     NaN  ...   24   30   40  100\n",
            "Gender             175923      3                  M  142091  ...  NaN  NaN  NaN  NaN\n",
            "Race               175923      6                  B  144592  ...  NaN  NaN  NaN  NaN\n",
            "IncidentOffence    175923    172    Unknown Offense   91417  ...  NaN  NaN  NaN  NaN\n",
            "ChargeDescription  175923   7028  FAILURE TO APPEAR   27580  ...  NaN  NaN  NaN  NaN\n",
            "District            89891      9           Southern   11771  ...  NaN  NaN  NaN  NaN\n",
            "date               175923   2866         2014-01-09     177  ...  NaN  NaN  NaN  NaN\n",
            "time               175923   1440           11:00:00    2834  ...  NaN  NaN  NaN  NaN\n",
            "\n",
            "[8 rows x 11 columns]\n"
          ]
        }
      ]
    },
    {
      "cell_type": "code",
      "metadata": {
        "colab": {
          "base_uri": "https://localhost:8080/"
        },
        "id": "hVRkJYYNuiiP",
        "outputId": "fa17f80b-4b28-4731-896f-281d000e4e86"
      },
      "source": [
        "print(\"Arrest Data is logged from: \", dfConverted.time.min(), \"to \", dfConverted.time.max())\n"
      ],
      "execution_count": null,
      "outputs": [
        {
          "output_type": "stream",
          "name": "stdout",
          "text": [
            "Arrest Data is logged from:  00:00:00 to  23:59:00\n"
          ]
        }
      ]
    },
    {
      "cell_type": "code",
      "metadata": {
        "colab": {
          "base_uri": "https://localhost:8080/"
        },
        "id": "HnKZrf-ldnis",
        "outputId": "ad311b64-424d-4e32-dcb5-a11787319386"
      },
      "source": [
        "print(\"Arrest Data Is collected All day from: \")\n",
        "print(dfConverted.date.min())\n",
        "print(\"To\")\n",
        "print(dfConverted.date.max())"
      ],
      "execution_count": null,
      "outputs": [
        {
          "output_type": "stream",
          "name": "stdout",
          "text": [
            "Arrest Data Is collected All day from: \n",
            "2014-01-01\n",
            "To\n",
            "2021-11-05\n"
          ]
        }
      ]
    },
    {
      "cell_type": "markdown",
      "metadata": {
        "id": "sqQgT-TPdOBT"
      },
      "source": [
        "####5 Number Summary Analysis\n",
        "Just from the 5 number summary alone, we got a wealth of information:\n",
        "- The most common way to get arrested is to not show up to your appointed court date. Whether its a major or minor offence, one should always try to make their court date.\n",
        "- Most arrests seem to be made around 11am.\n",
        "- The most amount of arrests made on a single day was on January 9th 2014\n",
        "- In the 7 years this data spans, the black males are the most likely to be arrested. There are many articles backing up policing bias that contributed to this trend. I will leave some articles below."
      ]
    },
    {
      "cell_type": "markdown",
      "metadata": {
        "id": "3bm0YrrDfufm"
      },
      "source": [
        "###### What happened on January 9th 2014"
      ]
    },
    {
      "cell_type": "code",
      "metadata": {
        "colab": {
          "base_uri": "https://localhost:8080/"
        },
        "id": "QQS0AWdWgXpN",
        "outputId": "1ace2fc0-ede1-4f5d-8423-5731feaf85b3"
      },
      "source": [
        "startdate = pd.to_datetime(\"2014-01-08\").date()\n",
        "enddate = pd.to_datetime(\"2014-01-09\").date()\n",
        "dfLargeArrests = dfConverted[(dfConverted['date'] > startdate) & (dfConverted['date'] <= enddate)]\n",
        "#I wanna view all rows so I will modify pandas default viewing size\n",
        "pd.set_option('display.max_rows', dfConverted.shape[0]+1)\n",
        "dfLargeArrests"
      ],
      "execution_count": null,
      "outputs": [
        {
          "output_type": "execute_result",
          "data": {
            "text/html": [
              "<div>\n",
              "<style scoped>\n",
              "    .dataframe tbody tr th:only-of-type {\n",
              "        vertical-align: middle;\n",
              "    }\n",
              "\n",
              "    .dataframe tbody tr th {\n",
              "        vertical-align: top;\n",
              "    }\n",
              "\n",
              "    .dataframe thead th {\n",
              "        text-align: right;\n",
              "    }\n",
              "</style>\n",
              "<table border=\"1\" class=\"dataframe\">\n",
              "  <thead>\n",
              "    <tr style=\"text-align: right;\">\n",
              "      <th></th>\n",
              "      <th>Age</th>\n",
              "      <th>Gender</th>\n",
              "      <th>Race</th>\n",
              "      <th>IncidentOffence</th>\n",
              "      <th>ChargeDescription</th>\n",
              "      <th>District</th>\n",
              "      <th>date</th>\n",
              "      <th>time</th>\n",
              "    </tr>\n",
              "  </thead>\n",
              "  <tbody>\n",
              "    <tr>\n",
              "      <th>171946</th>\n",
              "      <td>51</td>\n",
              "      <td>M</td>\n",
              "      <td>B</td>\n",
              "      <td>87NARCOTICS</td>\n",
              "      <td>CDS VIOLATION</td>\n",
              "      <td>Central</td>\n",
              "      <td>2014-01-09</td>\n",
              "      <td>23:55:00</td>\n",
              "    </tr>\n",
              "    <tr>\n",
              "      <th>171947</th>\n",
              "      <td>34</td>\n",
              "      <td>M</td>\n",
              "      <td>B</td>\n",
              "      <td>Unknown Offense</td>\n",
              "      <td>FAILURE TO APPEAR</td>\n",
              "      <td>&lt;NA&gt;</td>\n",
              "      <td>2014-01-09</td>\n",
              "      <td>23:44:00</td>\n",
              "    </tr>\n",
              "    <tr>\n",
              "      <th>171948</th>\n",
              "      <td>37</td>\n",
              "      <td>M</td>\n",
              "      <td>B</td>\n",
              "      <td>97SEARCH &amp; SEIZURE</td>\n",
              "      <td>VOP</td>\n",
              "      <td>&lt;NA&gt;</td>\n",
              "      <td>2014-01-09</td>\n",
              "      <td>23:19:00</td>\n",
              "    </tr>\n",
              "    <tr>\n",
              "      <th>171949</th>\n",
              "      <td>53</td>\n",
              "      <td>M</td>\n",
              "      <td>W</td>\n",
              "      <td>97SEARCH &amp; SEIZURE</td>\n",
              "      <td>CDS</td>\n",
              "      <td>Southern</td>\n",
              "      <td>2014-01-09</td>\n",
              "      <td>22:45:00</td>\n",
              "    </tr>\n",
              "    <tr>\n",
              "      <th>171950</th>\n",
              "      <td>46</td>\n",
              "      <td>M</td>\n",
              "      <td>B</td>\n",
              "      <td>87NARCOTICS</td>\n",
              "      <td>CDS</td>\n",
              "      <td>Central</td>\n",
              "      <td>2014-01-09</td>\n",
              "      <td>22:45:00</td>\n",
              "    </tr>\n",
              "    <tr>\n",
              "      <th>171951</th>\n",
              "      <td>34</td>\n",
              "      <td>M</td>\n",
              "      <td>B</td>\n",
              "      <td>87NARCOTICS</td>\n",
              "      <td>POSSESSION OF MARIJUANA</td>\n",
              "      <td>Eastern</td>\n",
              "      <td>2014-01-09</td>\n",
              "      <td>22:30:00</td>\n",
              "    </tr>\n",
              "    <tr>\n",
              "      <th>171952</th>\n",
              "      <td>22</td>\n",
              "      <td>M</td>\n",
              "      <td>B</td>\n",
              "      <td>6CLARCENY- SHOPLIFTING</td>\n",
              "      <td>CDS</td>\n",
              "      <td>Eastern</td>\n",
              "      <td>2014-01-09</td>\n",
              "      <td>22:30:00</td>\n",
              "    </tr>\n",
              "    <tr>\n",
              "      <th>171953</th>\n",
              "      <td>49</td>\n",
              "      <td>M</td>\n",
              "      <td>B</td>\n",
              "      <td>6CLARCENY- SHOPLIFTING</td>\n",
              "      <td>TRESPASS/LARCENCY</td>\n",
              "      <td>Eastern</td>\n",
              "      <td>2014-01-09</td>\n",
              "      <td>22:20:00</td>\n",
              "    </tr>\n",
              "    <tr>\n",
              "      <th>171954</th>\n",
              "      <td>57</td>\n",
              "      <td>M</td>\n",
              "      <td>B</td>\n",
              "      <td>Unknown Offense</td>\n",
              "      <td>VIOLATION OF PROBATION</td>\n",
              "      <td>&lt;NA&gt;</td>\n",
              "      <td>2014-01-09</td>\n",
              "      <td>22:03:00</td>\n",
              "    </tr>\n",
              "    <tr>\n",
              "      <th>171955</th>\n",
              "      <td>57</td>\n",
              "      <td>M</td>\n",
              "      <td>B</td>\n",
              "      <td>Unknown Offense</td>\n",
              "      <td>FAILURE TO APPEAR</td>\n",
              "      <td>&lt;NA&gt;</td>\n",
              "      <td>2014-01-09</td>\n",
              "      <td>22:03:00</td>\n",
              "    </tr>\n",
              "    <tr>\n",
              "      <th>171956</th>\n",
              "      <td>20</td>\n",
              "      <td>M</td>\n",
              "      <td>W</td>\n",
              "      <td>3KROBB RES. (UA)</td>\n",
              "      <td>B&amp;E</td>\n",
              "      <td>Northern</td>\n",
              "      <td>2014-01-09</td>\n",
              "      <td>22:00:00</td>\n",
              "    </tr>\n",
              "    <tr>\n",
              "      <th>171957</th>\n",
              "      <td>22</td>\n",
              "      <td>M</td>\n",
              "      <td>B</td>\n",
              "      <td>Unknown Offense</td>\n",
              "      <td>VIOLATION OF PROBATION</td>\n",
              "      <td>&lt;NA&gt;</td>\n",
              "      <td>2014-01-09</td>\n",
              "      <td>22:00:00</td>\n",
              "    </tr>\n",
              "    <tr>\n",
              "      <th>171958</th>\n",
              "      <td>30</td>\n",
              "      <td>M</td>\n",
              "      <td>B</td>\n",
              "      <td>Unknown Offense</td>\n",
              "      <td>ATT 1ST DEG. MURDER</td>\n",
              "      <td>&lt;NA&gt;</td>\n",
              "      <td>2014-01-09</td>\n",
              "      <td>21:53:00</td>\n",
              "    </tr>\n",
              "    <tr>\n",
              "      <th>171959</th>\n",
              "      <td>29</td>\n",
              "      <td>M</td>\n",
              "      <td>B</td>\n",
              "      <td>97SEARCH &amp; SEIZURE</td>\n",
              "      <td>CDS VIOLATION</td>\n",
              "      <td>Northeast</td>\n",
              "      <td>2014-01-09</td>\n",
              "      <td>21:50:00</td>\n",
              "    </tr>\n",
              "    <tr>\n",
              "      <th>171960</th>\n",
              "      <td>36</td>\n",
              "      <td>M</td>\n",
              "      <td>B</td>\n",
              "      <td>Unknown Offense</td>\n",
              "      <td>CDS VIOLATION</td>\n",
              "      <td>Northwest</td>\n",
              "      <td>2014-01-09</td>\n",
              "      <td>21:30:00</td>\n",
              "    </tr>\n",
              "    <tr>\n",
              "      <th>171961</th>\n",
              "      <td>18</td>\n",
              "      <td>M</td>\n",
              "      <td>B</td>\n",
              "      <td>97SEARCH &amp; SEIZURE</td>\n",
              "      <td>CDS VIOLATION</td>\n",
              "      <td>Eastern</td>\n",
              "      <td>2014-01-09</td>\n",
              "      <td>21:30:00</td>\n",
              "    </tr>\n",
              "    <tr>\n",
              "      <th>171962</th>\n",
              "      <td>40</td>\n",
              "      <td>F</td>\n",
              "      <td>B</td>\n",
              "      <td>Unknown Offense</td>\n",
              "      <td>ASSAULT-SEC DEGREE</td>\n",
              "      <td>&lt;NA&gt;</td>\n",
              "      <td>2014-01-09</td>\n",
              "      <td>21:20:00</td>\n",
              "    </tr>\n",
              "    <tr>\n",
              "      <th>171963</th>\n",
              "      <td>26</td>\n",
              "      <td>M</td>\n",
              "      <td>B</td>\n",
              "      <td>87NARCOTICS</td>\n",
              "      <td>CDS POSS</td>\n",
              "      <td>Central</td>\n",
              "      <td>2014-01-09</td>\n",
              "      <td>21:20:00</td>\n",
              "    </tr>\n",
              "    <tr>\n",
              "      <th>171964</th>\n",
              "      <td>22</td>\n",
              "      <td>M</td>\n",
              "      <td>B</td>\n",
              "      <td>87NARCOTICS</td>\n",
              "      <td>CDS</td>\n",
              "      <td>Eastern</td>\n",
              "      <td>2014-01-09</td>\n",
              "      <td>21:04:00</td>\n",
              "    </tr>\n",
              "    <tr>\n",
              "      <th>171965</th>\n",
              "      <td>18</td>\n",
              "      <td>M</td>\n",
              "      <td>B</td>\n",
              "      <td>87ONARCOTICS (OUTSIDE)</td>\n",
              "      <td>POSS W/INT</td>\n",
              "      <td>Southern</td>\n",
              "      <td>2014-01-09</td>\n",
              "      <td>21:00:00</td>\n",
              "    </tr>\n",
              "    <tr>\n",
              "      <th>171966</th>\n",
              "      <td>38</td>\n",
              "      <td>M</td>\n",
              "      <td>B</td>\n",
              "      <td>87NARCOTICS</td>\n",
              "      <td>CDS VIOLATION</td>\n",
              "      <td>Central</td>\n",
              "      <td>2014-01-09</td>\n",
              "      <td>21:00:00</td>\n",
              "    </tr>\n",
              "    <tr>\n",
              "      <th>171967</th>\n",
              "      <td>27</td>\n",
              "      <td>M</td>\n",
              "      <td>B</td>\n",
              "      <td>97SEARCH &amp; SEIZURE</td>\n",
              "      <td>HANDGUN/CDS</td>\n",
              "      <td>Western</td>\n",
              "      <td>2014-01-09</td>\n",
              "      <td>21:00:00</td>\n",
              "    </tr>\n",
              "    <tr>\n",
              "      <th>171968</th>\n",
              "      <td>29</td>\n",
              "      <td>M</td>\n",
              "      <td>B</td>\n",
              "      <td>97SEARCH &amp; SEIZURE</td>\n",
              "      <td>HANDGUN/CDS</td>\n",
              "      <td>Western</td>\n",
              "      <td>2014-01-09</td>\n",
              "      <td>21:00:00</td>\n",
              "    </tr>\n",
              "    <tr>\n",
              "      <th>171969</th>\n",
              "      <td>38</td>\n",
              "      <td>M</td>\n",
              "      <td>B</td>\n",
              "      <td>97SEARCH &amp; SEIZURE</td>\n",
              "      <td>HANDGUN/CDS</td>\n",
              "      <td>Western</td>\n",
              "      <td>2014-01-09</td>\n",
              "      <td>21:00:00</td>\n",
              "    </tr>\n",
              "    <tr>\n",
              "      <th>171970</th>\n",
              "      <td>22</td>\n",
              "      <td>F</td>\n",
              "      <td>B</td>\n",
              "      <td>87NARCOTICS</td>\n",
              "      <td>CDS VIOLATION</td>\n",
              "      <td>Southeast</td>\n",
              "      <td>2014-01-09</td>\n",
              "      <td>20:55:00</td>\n",
              "    </tr>\n",
              "    <tr>\n",
              "      <th>171971</th>\n",
              "      <td>26</td>\n",
              "      <td>F</td>\n",
              "      <td>B</td>\n",
              "      <td>87NARCOTICS</td>\n",
              "      <td>CDS VIOLATION</td>\n",
              "      <td>Southeast</td>\n",
              "      <td>2014-01-09</td>\n",
              "      <td>20:55:00</td>\n",
              "    </tr>\n",
              "    <tr>\n",
              "      <th>171972</th>\n",
              "      <td>20</td>\n",
              "      <td>M</td>\n",
              "      <td>B</td>\n",
              "      <td>Unknown Offense</td>\n",
              "      <td>ORDER OF THE COURT</td>\n",
              "      <td>&lt;NA&gt;</td>\n",
              "      <td>2014-01-09</td>\n",
              "      <td>20:54:00</td>\n",
              "    </tr>\n",
              "    <tr>\n",
              "      <th>171973</th>\n",
              "      <td>20</td>\n",
              "      <td>M</td>\n",
              "      <td>B</td>\n",
              "      <td>Unknown Offense</td>\n",
              "      <td>ARSON-TRASH CONTAINERS</td>\n",
              "      <td>&lt;NA&gt;</td>\n",
              "      <td>2014-01-09</td>\n",
              "      <td>20:54:00</td>\n",
              "    </tr>\n",
              "    <tr>\n",
              "      <th>171974</th>\n",
              "      <td>25</td>\n",
              "      <td>M</td>\n",
              "      <td>B</td>\n",
              "      <td>87NARCOTICS</td>\n",
              "      <td>CDS</td>\n",
              "      <td>Southeast</td>\n",
              "      <td>2014-01-09</td>\n",
              "      <td>20:46:00</td>\n",
              "    </tr>\n",
              "    <tr>\n",
              "      <th>171975</th>\n",
              "      <td>21</td>\n",
              "      <td>M</td>\n",
              "      <td>B</td>\n",
              "      <td>3AFROBB HWY-FIREARM</td>\n",
              "      <td>ARMED ROBBERY</td>\n",
              "      <td>Northern</td>\n",
              "      <td>2014-01-09</td>\n",
              "      <td>20:32:00</td>\n",
              "    </tr>\n",
              "    <tr>\n",
              "      <th>171976</th>\n",
              "      <td>30</td>\n",
              "      <td>M</td>\n",
              "      <td>B</td>\n",
              "      <td>Unknown Offense</td>\n",
              "      <td>CDS VIOLATION</td>\n",
              "      <td>&lt;NA&gt;</td>\n",
              "      <td>2014-01-09</td>\n",
              "      <td>20:30:00</td>\n",
              "    </tr>\n",
              "    <tr>\n",
              "      <th>171977</th>\n",
              "      <td>24</td>\n",
              "      <td>M</td>\n",
              "      <td>B</td>\n",
              "      <td>Unknown Offense</td>\n",
              "      <td>CDS</td>\n",
              "      <td>&lt;NA&gt;</td>\n",
              "      <td>2014-01-09</td>\n",
              "      <td>20:30:00</td>\n",
              "    </tr>\n",
              "    <tr>\n",
              "      <th>171978</th>\n",
              "      <td>18</td>\n",
              "      <td>M</td>\n",
              "      <td>B</td>\n",
              "      <td>Unknown Offense</td>\n",
              "      <td>CDS VIOLATION</td>\n",
              "      <td>Northeast</td>\n",
              "      <td>2014-01-09</td>\n",
              "      <td>20:20:00</td>\n",
              "    </tr>\n",
              "    <tr>\n",
              "      <th>171979</th>\n",
              "      <td>52</td>\n",
              "      <td>M</td>\n",
              "      <td>B</td>\n",
              "      <td>79OTHER</td>\n",
              "      <td>HANDGUN VIOLATION</td>\n",
              "      <td>Western</td>\n",
              "      <td>2014-01-09</td>\n",
              "      <td>20:20:00</td>\n",
              "    </tr>\n",
              "    <tr>\n",
              "      <th>171980</th>\n",
              "      <td>24</td>\n",
              "      <td>M</td>\n",
              "      <td>B</td>\n",
              "      <td>Unknown Offense</td>\n",
              "      <td>CDS VIOLATION</td>\n",
              "      <td>Northeast</td>\n",
              "      <td>2014-01-09</td>\n",
              "      <td>20:20:00</td>\n",
              "    </tr>\n",
              "    <tr>\n",
              "      <th>171981</th>\n",
              "      <td>34</td>\n",
              "      <td>M</td>\n",
              "      <td>B</td>\n",
              "      <td>6DLARCENY- FROM AUTO</td>\n",
              "      <td>THEFT: $1,000 TO UNDER $10,000</td>\n",
              "      <td>&lt;NA&gt;</td>\n",
              "      <td>2014-01-09</td>\n",
              "      <td>20:15:00</td>\n",
              "    </tr>\n",
              "    <tr>\n",
              "      <th>171982</th>\n",
              "      <td>27</td>\n",
              "      <td>F</td>\n",
              "      <td>B</td>\n",
              "      <td>Unknown Offense</td>\n",
              "      <td>THEFT: LESS $1,000 VALUE</td>\n",
              "      <td>&lt;NA&gt;</td>\n",
              "      <td>2014-01-09</td>\n",
              "      <td>20:00:00</td>\n",
              "    </tr>\n",
              "    <tr>\n",
              "      <th>171983</th>\n",
              "      <td>31</td>\n",
              "      <td>F</td>\n",
              "      <td>B</td>\n",
              "      <td>Unknown Offense</td>\n",
              "      <td>Unknown Charge</td>\n",
              "      <td>Southern</td>\n",
              "      <td>2014-01-09</td>\n",
              "      <td>20:00:00</td>\n",
              "    </tr>\n",
              "    <tr>\n",
              "      <th>171984</th>\n",
              "      <td>20</td>\n",
              "      <td>F</td>\n",
              "      <td>B</td>\n",
              "      <td>87NARCOTICS</td>\n",
              "      <td>CDS VIOLATION</td>\n",
              "      <td>Southern</td>\n",
              "      <td>2014-01-09</td>\n",
              "      <td>20:00:00</td>\n",
              "    </tr>\n",
              "    <tr>\n",
              "      <th>171985</th>\n",
              "      <td>47</td>\n",
              "      <td>M</td>\n",
              "      <td>B</td>\n",
              "      <td>97SEARCH &amp; SEIZURE</td>\n",
              "      <td>CDS PWI</td>\n",
              "      <td>Southern</td>\n",
              "      <td>2014-01-09</td>\n",
              "      <td>19:50:00</td>\n",
              "    </tr>\n",
              "    <tr>\n",
              "      <th>171986</th>\n",
              "      <td>30</td>\n",
              "      <td>F</td>\n",
              "      <td>B</td>\n",
              "      <td>97SEARCH &amp; SEIZURE</td>\n",
              "      <td>CDS PWI</td>\n",
              "      <td>Southern</td>\n",
              "      <td>2014-01-09</td>\n",
              "      <td>19:50:00</td>\n",
              "    </tr>\n",
              "    <tr>\n",
              "      <th>171987</th>\n",
              "      <td>23</td>\n",
              "      <td>M</td>\n",
              "      <td>B</td>\n",
              "      <td>Unknown Offense</td>\n",
              "      <td>CDS POSS</td>\n",
              "      <td>&lt;NA&gt;</td>\n",
              "      <td>2014-01-09</td>\n",
              "      <td>19:45:00</td>\n",
              "    </tr>\n",
              "    <tr>\n",
              "      <th>171988</th>\n",
              "      <td>67</td>\n",
              "      <td>M</td>\n",
              "      <td>B</td>\n",
              "      <td>87ONARCOTICS (OUTSIDE)</td>\n",
              "      <td>POSSESSION-COCAINE</td>\n",
              "      <td>Southeast</td>\n",
              "      <td>2014-01-09</td>\n",
              "      <td>19:45:00</td>\n",
              "    </tr>\n",
              "    <tr>\n",
              "      <th>171989</th>\n",
              "      <td>39</td>\n",
              "      <td>M</td>\n",
              "      <td>B</td>\n",
              "      <td>Unknown Offense</td>\n",
              "      <td>FAILURE TO APPEAR</td>\n",
              "      <td>&lt;NA&gt;</td>\n",
              "      <td>2014-01-09</td>\n",
              "      <td>19:39:00</td>\n",
              "    </tr>\n",
              "    <tr>\n",
              "      <th>171990</th>\n",
              "      <td>54</td>\n",
              "      <td>M</td>\n",
              "      <td>B</td>\n",
              "      <td>87NARCOTICS</td>\n",
              "      <td>CDS VIOLATION</td>\n",
              "      <td>Eastern</td>\n",
              "      <td>2014-01-09</td>\n",
              "      <td>19:15:00</td>\n",
              "    </tr>\n",
              "    <tr>\n",
              "      <th>171991</th>\n",
              "      <td>47</td>\n",
              "      <td>M</td>\n",
              "      <td>W</td>\n",
              "      <td>87NARCOTICS</td>\n",
              "      <td>CDS VIOLATION</td>\n",
              "      <td>Eastern</td>\n",
              "      <td>2014-01-09</td>\n",
              "      <td>19:15:00</td>\n",
              "    </tr>\n",
              "    <tr>\n",
              "      <th>171992</th>\n",
              "      <td>20</td>\n",
              "      <td>F</td>\n",
              "      <td>B</td>\n",
              "      <td>54ARMED PERSON</td>\n",
              "      <td>HGU</td>\n",
              "      <td>Southeast</td>\n",
              "      <td>2014-01-09</td>\n",
              "      <td>18:28:00</td>\n",
              "    </tr>\n",
              "    <tr>\n",
              "      <th>171993</th>\n",
              "      <td>18</td>\n",
              "      <td>F</td>\n",
              "      <td>B</td>\n",
              "      <td>6CLARCENY- SHOPLIFTING</td>\n",
              "      <td>SHOPLIFTING</td>\n",
              "      <td>Central</td>\n",
              "      <td>2014-01-09</td>\n",
              "      <td>18:15:00</td>\n",
              "    </tr>\n",
              "    <tr>\n",
              "      <th>171994</th>\n",
              "      <td>25</td>\n",
              "      <td>M</td>\n",
              "      <td>W</td>\n",
              "      <td>4ECOMMON ASSAULT</td>\n",
              "      <td>POSS MARIJUANA</td>\n",
              "      <td>Southwest</td>\n",
              "      <td>2014-01-09</td>\n",
              "      <td>18:15:00</td>\n",
              "    </tr>\n",
              "    <tr>\n",
              "      <th>171995</th>\n",
              "      <td>38</td>\n",
              "      <td>M</td>\n",
              "      <td>B</td>\n",
              "      <td>Unknown Offense</td>\n",
              "      <td>DRIVING UNDER THE INFLUENCE</td>\n",
              "      <td>Northeast</td>\n",
              "      <td>2014-01-09</td>\n",
              "      <td>18:15:00</td>\n",
              "    </tr>\n",
              "    <tr>\n",
              "      <th>171996</th>\n",
              "      <td>41</td>\n",
              "      <td>M</td>\n",
              "      <td>B</td>\n",
              "      <td>55DISORDERLY PERSON</td>\n",
              "      <td>DISORDERLY</td>\n",
              "      <td>Northwest</td>\n",
              "      <td>2014-01-09</td>\n",
              "      <td>18:00:00</td>\n",
              "    </tr>\n",
              "    <tr>\n",
              "      <th>171997</th>\n",
              "      <td>39</td>\n",
              "      <td>F</td>\n",
              "      <td>B</td>\n",
              "      <td>54ARMED PERSON</td>\n",
              "      <td>HGV</td>\n",
              "      <td>Southeast</td>\n",
              "      <td>2014-01-09</td>\n",
              "      <td>18:00:00</td>\n",
              "    </tr>\n",
              "    <tr>\n",
              "      <th>171998</th>\n",
              "      <td>21</td>\n",
              "      <td>M</td>\n",
              "      <td>B</td>\n",
              "      <td>71SEX OFFENDER REGISTRY</td>\n",
              "      <td>FAIL REG OFFENDER/FALSE INFO</td>\n",
              "      <td>&lt;NA&gt;</td>\n",
              "      <td>2014-01-09</td>\n",
              "      <td>17:51:00</td>\n",
              "    </tr>\n",
              "    <tr>\n",
              "      <th>171999</th>\n",
              "      <td>42</td>\n",
              "      <td>F</td>\n",
              "      <td>B</td>\n",
              "      <td>97SEARCH &amp; SEIZURE</td>\n",
              "      <td>PWI COCAINE</td>\n",
              "      <td>Southern</td>\n",
              "      <td>2014-01-09</td>\n",
              "      <td>17:45:00</td>\n",
              "    </tr>\n",
              "    <tr>\n",
              "      <th>172000</th>\n",
              "      <td>39</td>\n",
              "      <td>M</td>\n",
              "      <td>B</td>\n",
              "      <td>97SEARCH &amp; SEIZURE</td>\n",
              "      <td>PWI CRACK</td>\n",
              "      <td>Southern</td>\n",
              "      <td>2014-01-09</td>\n",
              "      <td>17:45:00</td>\n",
              "    </tr>\n",
              "    <tr>\n",
              "      <th>172001</th>\n",
              "      <td>23</td>\n",
              "      <td>M</td>\n",
              "      <td>B</td>\n",
              "      <td>97SEARCH &amp; SEIZURE</td>\n",
              "      <td>PWID COCAINE</td>\n",
              "      <td>Southern</td>\n",
              "      <td>2014-01-09</td>\n",
              "      <td>17:45:00</td>\n",
              "    </tr>\n",
              "    <tr>\n",
              "      <th>172002</th>\n",
              "      <td>22</td>\n",
              "      <td>F</td>\n",
              "      <td>B</td>\n",
              "      <td>Unknown Offense</td>\n",
              "      <td>VIOLATION OF PROBATION</td>\n",
              "      <td>&lt;NA&gt;</td>\n",
              "      <td>2014-01-09</td>\n",
              "      <td>17:30:00</td>\n",
              "    </tr>\n",
              "    <tr>\n",
              "      <th>172003</th>\n",
              "      <td>50</td>\n",
              "      <td>F</td>\n",
              "      <td>B</td>\n",
              "      <td>24TOWED VEHICLE</td>\n",
              "      <td>CDS VIOLATION</td>\n",
              "      <td>Northern</td>\n",
              "      <td>2014-01-09</td>\n",
              "      <td>17:30:00</td>\n",
              "    </tr>\n",
              "    <tr>\n",
              "      <th>172004</th>\n",
              "      <td>49</td>\n",
              "      <td>F</td>\n",
              "      <td>B</td>\n",
              "      <td>24TOWED VEHICLE</td>\n",
              "      <td>CDS VIOLATION</td>\n",
              "      <td>Northern</td>\n",
              "      <td>2014-01-09</td>\n",
              "      <td>17:15:00</td>\n",
              "    </tr>\n",
              "    <tr>\n",
              "      <th>172005</th>\n",
              "      <td>22</td>\n",
              "      <td>M</td>\n",
              "      <td>B</td>\n",
              "      <td>87NARCOTICS</td>\n",
              "      <td>POSSESSION MARIJUANA</td>\n",
              "      <td>Southwest</td>\n",
              "      <td>2014-01-09</td>\n",
              "      <td>17:08:00</td>\n",
              "    </tr>\n",
              "    <tr>\n",
              "      <th>172006</th>\n",
              "      <td>20</td>\n",
              "      <td>M</td>\n",
              "      <td>B</td>\n",
              "      <td>Unknown Offense</td>\n",
              "      <td>Unknown Charge</td>\n",
              "      <td>&lt;NA&gt;</td>\n",
              "      <td>2014-01-09</td>\n",
              "      <td>16:40:00</td>\n",
              "    </tr>\n",
              "    <tr>\n",
              "      <th>172007</th>\n",
              "      <td>19</td>\n",
              "      <td>M</td>\n",
              "      <td>B</td>\n",
              "      <td>87NARCOTICS</td>\n",
              "      <td>POSS W/INT MARIJUANA</td>\n",
              "      <td>Northwest</td>\n",
              "      <td>2014-01-09</td>\n",
              "      <td>16:40:00</td>\n",
              "    </tr>\n",
              "    <tr>\n",
              "      <th>172008</th>\n",
              "      <td>23</td>\n",
              "      <td>M</td>\n",
              "      <td>B</td>\n",
              "      <td>87ONARCOTICS (OUTSIDE)</td>\n",
              "      <td>CDS VIOLATION</td>\n",
              "      <td>Northern</td>\n",
              "      <td>2014-01-09</td>\n",
              "      <td>16:30:00</td>\n",
              "    </tr>\n",
              "    <tr>\n",
              "      <th>172009</th>\n",
              "      <td>22</td>\n",
              "      <td>M</td>\n",
              "      <td>B</td>\n",
              "      <td>Unknown Offense</td>\n",
              "      <td>ATT 1ST DEG. MURDER</td>\n",
              "      <td>&lt;NA&gt;</td>\n",
              "      <td>2014-01-09</td>\n",
              "      <td>16:30:00</td>\n",
              "    </tr>\n",
              "    <tr>\n",
              "      <th>172010</th>\n",
              "      <td>54</td>\n",
              "      <td>M</td>\n",
              "      <td>B</td>\n",
              "      <td>87NARCOTICS</td>\n",
              "      <td>CDS VIOLATION</td>\n",
              "      <td>Central</td>\n",
              "      <td>2014-01-09</td>\n",
              "      <td>16:25:00</td>\n",
              "    </tr>\n",
              "    <tr>\n",
              "      <th>172011</th>\n",
              "      <td>51</td>\n",
              "      <td>M</td>\n",
              "      <td>B</td>\n",
              "      <td>Unknown Offense</td>\n",
              "      <td>OPEN CONTAINER</td>\n",
              "      <td>Eastern</td>\n",
              "      <td>2014-01-09</td>\n",
              "      <td>16:13:00</td>\n",
              "    </tr>\n",
              "    <tr>\n",
              "      <th>172012</th>\n",
              "      <td>41</td>\n",
              "      <td>F</td>\n",
              "      <td>B</td>\n",
              "      <td>Unknown Offense</td>\n",
              "      <td>OPEN CONTAINER</td>\n",
              "      <td>Eastern</td>\n",
              "      <td>2014-01-09</td>\n",
              "      <td>16:13:00</td>\n",
              "    </tr>\n",
              "    <tr>\n",
              "      <th>172013</th>\n",
              "      <td>17</td>\n",
              "      <td>M</td>\n",
              "      <td>B</td>\n",
              "      <td>Unknown Offense</td>\n",
              "      <td>CDS</td>\n",
              "      <td>Southwest</td>\n",
              "      <td>2014-01-09</td>\n",
              "      <td>16:00:00</td>\n",
              "    </tr>\n",
              "    <tr>\n",
              "      <th>172014</th>\n",
              "      <td>59</td>\n",
              "      <td>M</td>\n",
              "      <td>B</td>\n",
              "      <td>87NARCOTICS</td>\n",
              "      <td>VIOLATION OF PROBATION</td>\n",
              "      <td>&lt;NA&gt;</td>\n",
              "      <td>2014-01-09</td>\n",
              "      <td>16:00:00</td>\n",
              "    </tr>\n",
              "    <tr>\n",
              "      <th>172015</th>\n",
              "      <td>32</td>\n",
              "      <td>M</td>\n",
              "      <td>B</td>\n",
              "      <td>87NARCOTICS</td>\n",
              "      <td>CDS VIOLATION</td>\n",
              "      <td>Central</td>\n",
              "      <td>2014-01-09</td>\n",
              "      <td>16:00:00</td>\n",
              "    </tr>\n",
              "    <tr>\n",
              "      <th>172016</th>\n",
              "      <td>40</td>\n",
              "      <td>M</td>\n",
              "      <td>B</td>\n",
              "      <td>6CLARCENY- SHOPLIFTING</td>\n",
              "      <td>THEFT</td>\n",
              "      <td>Central</td>\n",
              "      <td>2014-01-09</td>\n",
              "      <td>15:30:00</td>\n",
              "    </tr>\n",
              "    <tr>\n",
              "      <th>172017</th>\n",
              "      <td>27</td>\n",
              "      <td>M</td>\n",
              "      <td>B</td>\n",
              "      <td>87NARCOTICS</td>\n",
              "      <td>CDS</td>\n",
              "      <td>Eastern</td>\n",
              "      <td>2014-01-09</td>\n",
              "      <td>15:30:00</td>\n",
              "    </tr>\n",
              "    <tr>\n",
              "      <th>172018</th>\n",
              "      <td>49</td>\n",
              "      <td>F</td>\n",
              "      <td>B</td>\n",
              "      <td>87NARCOTICS</td>\n",
              "      <td>CDS VIOLATION</td>\n",
              "      <td>Eastern</td>\n",
              "      <td>2014-01-09</td>\n",
              "      <td>15:28:00</td>\n",
              "    </tr>\n",
              "    <tr>\n",
              "      <th>172019</th>\n",
              "      <td>18</td>\n",
              "      <td>F</td>\n",
              "      <td>B</td>\n",
              "      <td>4CAGG. ASSLT.- OTH.</td>\n",
              "      <td>ASSAULT - 1ST. DEGREE</td>\n",
              "      <td>Northern</td>\n",
              "      <td>2014-01-09</td>\n",
              "      <td>15:25:00</td>\n",
              "    </tr>\n",
              "    <tr>\n",
              "      <th>172020</th>\n",
              "      <td>23</td>\n",
              "      <td>F</td>\n",
              "      <td>W</td>\n",
              "      <td>6CLARCENY- SHOPLIFTING</td>\n",
              "      <td>THEFT</td>\n",
              "      <td>Southern</td>\n",
              "      <td>2014-01-09</td>\n",
              "      <td>15:20:00</td>\n",
              "    </tr>\n",
              "    <tr>\n",
              "      <th>172021</th>\n",
              "      <td>22</td>\n",
              "      <td>M</td>\n",
              "      <td>W</td>\n",
              "      <td>87NARCOTICS</td>\n",
              "      <td>CDS</td>\n",
              "      <td>Central</td>\n",
              "      <td>2014-01-09</td>\n",
              "      <td>15:05:00</td>\n",
              "    </tr>\n",
              "    <tr>\n",
              "      <th>172022</th>\n",
              "      <td>31</td>\n",
              "      <td>M</td>\n",
              "      <td>B</td>\n",
              "      <td>3BROBB HIGHWAY (UA)</td>\n",
              "      <td>UNARMED ROBBERY</td>\n",
              "      <td>Southern</td>\n",
              "      <td>2014-01-09</td>\n",
              "      <td>15:03:00</td>\n",
              "    </tr>\n",
              "    <tr>\n",
              "      <th>172023</th>\n",
              "      <td>24</td>\n",
              "      <td>M</td>\n",
              "      <td>B</td>\n",
              "      <td>Unknown Offense</td>\n",
              "      <td>ARMED ROBBERY</td>\n",
              "      <td>&lt;NA&gt;</td>\n",
              "      <td>2014-01-09</td>\n",
              "      <td>14:30:00</td>\n",
              "    </tr>\n",
              "    <tr>\n",
              "      <th>172024</th>\n",
              "      <td>32</td>\n",
              "      <td>M</td>\n",
              "      <td>B</td>\n",
              "      <td>87NARCOTICS</td>\n",
              "      <td>CDS</td>\n",
              "      <td>Central</td>\n",
              "      <td>2014-01-09</td>\n",
              "      <td>14:00:00</td>\n",
              "    </tr>\n",
              "    <tr>\n",
              "      <th>172025</th>\n",
              "      <td>46</td>\n",
              "      <td>M</td>\n",
              "      <td>B</td>\n",
              "      <td>3BROBB HIGHWAY (UA)</td>\n",
              "      <td>DOMESTIC ASSAULT</td>\n",
              "      <td>Northern</td>\n",
              "      <td>2014-01-09</td>\n",
              "      <td>14:00:00</td>\n",
              "    </tr>\n",
              "    <tr>\n",
              "      <th>172026</th>\n",
              "      <td>32</td>\n",
              "      <td>M</td>\n",
              "      <td>W</td>\n",
              "      <td>87NARCOTICS</td>\n",
              "      <td>FAILURE TO APPEAR</td>\n",
              "      <td>&lt;NA&gt;</td>\n",
              "      <td>2014-01-09</td>\n",
              "      <td>14:00:00</td>\n",
              "    </tr>\n",
              "    <tr>\n",
              "      <th>172027</th>\n",
              "      <td>27</td>\n",
              "      <td>M</td>\n",
              "      <td>B</td>\n",
              "      <td>Unknown Offense</td>\n",
              "      <td>FAILURE TO APPEAR</td>\n",
              "      <td>&lt;NA&gt;</td>\n",
              "      <td>2014-01-09</td>\n",
              "      <td>14:00:00</td>\n",
              "    </tr>\n",
              "    <tr>\n",
              "      <th>172028</th>\n",
              "      <td>48</td>\n",
              "      <td>M</td>\n",
              "      <td>B</td>\n",
              "      <td>24TOWED VEHICLE</td>\n",
              "      <td>DIST. OF COCAINE</td>\n",
              "      <td>Northern</td>\n",
              "      <td>2014-01-09</td>\n",
              "      <td>13:50:00</td>\n",
              "    </tr>\n",
              "    <tr>\n",
              "      <th>172029</th>\n",
              "      <td>26</td>\n",
              "      <td>M</td>\n",
              "      <td>B</td>\n",
              "      <td>24TOWED VEHICLE</td>\n",
              "      <td>DIST OF COCAINE</td>\n",
              "      <td>Northern</td>\n",
              "      <td>2014-01-09</td>\n",
              "      <td>13:50:00</td>\n",
              "    </tr>\n",
              "    <tr>\n",
              "      <th>172030</th>\n",
              "      <td>21</td>\n",
              "      <td>M</td>\n",
              "      <td>B</td>\n",
              "      <td>87NARCOTICS</td>\n",
              "      <td>CDS VIOLATION-HEROIN PWID</td>\n",
              "      <td>Western</td>\n",
              "      <td>2014-01-09</td>\n",
              "      <td>13:50:00</td>\n",
              "    </tr>\n",
              "    <tr>\n",
              "      <th>172031</th>\n",
              "      <td>26</td>\n",
              "      <td>F</td>\n",
              "      <td>B</td>\n",
              "      <td>Unknown Offense</td>\n",
              "      <td>FAILURE TO APPEAR</td>\n",
              "      <td>&lt;NA&gt;</td>\n",
              "      <td>2014-01-09</td>\n",
              "      <td>13:30:00</td>\n",
              "    </tr>\n",
              "    <tr>\n",
              "      <th>172032</th>\n",
              "      <td>19</td>\n",
              "      <td>M</td>\n",
              "      <td>B</td>\n",
              "      <td>4DAGG. ASSLT.- HAND</td>\n",
              "      <td>CHILD ENDANGERMENT</td>\n",
              "      <td>Eastern</td>\n",
              "      <td>2014-01-09</td>\n",
              "      <td>13:30:00</td>\n",
              "    </tr>\n",
              "    <tr>\n",
              "      <th>172033</th>\n",
              "      <td>26</td>\n",
              "      <td>F</td>\n",
              "      <td>B</td>\n",
              "      <td>Unknown Offense</td>\n",
              "      <td>FAILURE TO APPEAR</td>\n",
              "      <td>&lt;NA&gt;</td>\n",
              "      <td>2014-01-09</td>\n",
              "      <td>13:30:00</td>\n",
              "    </tr>\n",
              "    <tr>\n",
              "      <th>172034</th>\n",
              "      <td>22</td>\n",
              "      <td>M</td>\n",
              "      <td>B</td>\n",
              "      <td>87NARCOTICS</td>\n",
              "      <td>CDS VIOLATION</td>\n",
              "      <td>Southeast</td>\n",
              "      <td>2014-01-09</td>\n",
              "      <td>13:20:00</td>\n",
              "    </tr>\n",
              "    <tr>\n",
              "      <th>172035</th>\n",
              "      <td>26</td>\n",
              "      <td>M</td>\n",
              "      <td>B</td>\n",
              "      <td>87NARCOTICS</td>\n",
              "      <td>CDS POSS MARIJUANA</td>\n",
              "      <td>Southeast</td>\n",
              "      <td>2014-01-09</td>\n",
              "      <td>13:20:00</td>\n",
              "    </tr>\n",
              "    <tr>\n",
              "      <th>172036</th>\n",
              "      <td>45</td>\n",
              "      <td>M</td>\n",
              "      <td>B</td>\n",
              "      <td>87NARCOTICS</td>\n",
              "      <td>POSSESSION HEROIN</td>\n",
              "      <td>Eastern</td>\n",
              "      <td>2014-01-09</td>\n",
              "      <td>13:15:00</td>\n",
              "    </tr>\n",
              "    <tr>\n",
              "      <th>172037</th>\n",
              "      <td>23</td>\n",
              "      <td>M</td>\n",
              "      <td>B</td>\n",
              "      <td>54ARMED PERSON</td>\n",
              "      <td>HGV</td>\n",
              "      <td>Southeast</td>\n",
              "      <td>2014-01-09</td>\n",
              "      <td>13:05:00</td>\n",
              "    </tr>\n",
              "    <tr>\n",
              "      <th>172038</th>\n",
              "      <td>32</td>\n",
              "      <td>M</td>\n",
              "      <td>B</td>\n",
              "      <td>54ARMED PERSON</td>\n",
              "      <td>HGV</td>\n",
              "      <td>Southeast</td>\n",
              "      <td>2014-01-09</td>\n",
              "      <td>13:05:00</td>\n",
              "    </tr>\n",
              "    <tr>\n",
              "      <th>172039</th>\n",
              "      <td>25</td>\n",
              "      <td>M</td>\n",
              "      <td>B</td>\n",
              "      <td>54ARMED PERSON</td>\n",
              "      <td>HGV</td>\n",
              "      <td>Southeast</td>\n",
              "      <td>2014-01-09</td>\n",
              "      <td>13:05:00</td>\n",
              "    </tr>\n",
              "    <tr>\n",
              "      <th>172040</th>\n",
              "      <td>18</td>\n",
              "      <td>M</td>\n",
              "      <td>B</td>\n",
              "      <td>Unknown Offense</td>\n",
              "      <td>Unknown Charge</td>\n",
              "      <td>Southeast</td>\n",
              "      <td>2014-01-09</td>\n",
              "      <td>13:05:00</td>\n",
              "    </tr>\n",
              "    <tr>\n",
              "      <th>172041</th>\n",
              "      <td>25</td>\n",
              "      <td>M</td>\n",
              "      <td>B</td>\n",
              "      <td>54ARMED PERSON</td>\n",
              "      <td>HGV</td>\n",
              "      <td>Southeast</td>\n",
              "      <td>2014-01-09</td>\n",
              "      <td>13:05:00</td>\n",
              "    </tr>\n",
              "    <tr>\n",
              "      <th>172042</th>\n",
              "      <td>51</td>\n",
              "      <td>M</td>\n",
              "      <td>B</td>\n",
              "      <td>6GLARCENY- FROM BLDG.</td>\n",
              "      <td>THEFT OVER 100</td>\n",
              "      <td>Southeast</td>\n",
              "      <td>2014-01-09</td>\n",
              "      <td>12:50:00</td>\n",
              "    </tr>\n",
              "    <tr>\n",
              "      <th>172043</th>\n",
              "      <td>20</td>\n",
              "      <td>F</td>\n",
              "      <td>B</td>\n",
              "      <td>97SEARCH &amp; SEIZURE</td>\n",
              "      <td>POSSESSION OF MARIJUANA</td>\n",
              "      <td>Southern</td>\n",
              "      <td>2014-01-09</td>\n",
              "      <td>12:45:00</td>\n",
              "    </tr>\n",
              "    <tr>\n",
              "      <th>172044</th>\n",
              "      <td>28</td>\n",
              "      <td>M</td>\n",
              "      <td>B</td>\n",
              "      <td>87ONARCOTICS (OUTSIDE)</td>\n",
              "      <td>CDS HEROIN</td>\n",
              "      <td>Southeast</td>\n",
              "      <td>2014-01-09</td>\n",
              "      <td>12:40:00</td>\n",
              "    </tr>\n",
              "    <tr>\n",
              "      <th>172045</th>\n",
              "      <td>23</td>\n",
              "      <td>M</td>\n",
              "      <td>U</td>\n",
              "      <td>Unknown Offense</td>\n",
              "      <td>FAILURE TO OBEY</td>\n",
              "      <td>&lt;NA&gt;</td>\n",
              "      <td>2014-01-09</td>\n",
              "      <td>12:40:00</td>\n",
              "    </tr>\n",
              "    <tr>\n",
              "      <th>172046</th>\n",
              "      <td>49</td>\n",
              "      <td>M</td>\n",
              "      <td>W</td>\n",
              "      <td>Unknown Offense</td>\n",
              "      <td>FAILURE TO APPEAR</td>\n",
              "      <td>&lt;NA&gt;</td>\n",
              "      <td>2014-01-09</td>\n",
              "      <td>12:30:00</td>\n",
              "    </tr>\n",
              "    <tr>\n",
              "      <th>172047</th>\n",
              "      <td>40</td>\n",
              "      <td>M</td>\n",
              "      <td>B</td>\n",
              "      <td>5ABURG. RES. (FORCE)</td>\n",
              "      <td>BURGLARY</td>\n",
              "      <td>Southern</td>\n",
              "      <td>2014-01-09</td>\n",
              "      <td>12:30:00</td>\n",
              "    </tr>\n",
              "    <tr>\n",
              "      <th>172048</th>\n",
              "      <td>23</td>\n",
              "      <td>M</td>\n",
              "      <td>W</td>\n",
              "      <td>5ABURG. RES. (FORCE)</td>\n",
              "      <td>BURGLARY-THIRD DEGREE</td>\n",
              "      <td>&lt;NA&gt;</td>\n",
              "      <td>2014-01-09</td>\n",
              "      <td>12:00:00</td>\n",
              "    </tr>\n",
              "    <tr>\n",
              "      <th>172049</th>\n",
              "      <td>43</td>\n",
              "      <td>F</td>\n",
              "      <td>B</td>\n",
              "      <td>Unknown Offense</td>\n",
              "      <td>FAILURE TO APPEAR</td>\n",
              "      <td>&lt;NA&gt;</td>\n",
              "      <td>2014-01-09</td>\n",
              "      <td>12:00:00</td>\n",
              "    </tr>\n",
              "    <tr>\n",
              "      <th>172050</th>\n",
              "      <td>23</td>\n",
              "      <td>M</td>\n",
              "      <td>W</td>\n",
              "      <td>5CBURG. RES. (NOFORCE)</td>\n",
              "      <td>BURGLARY-FIRST DEGREE</td>\n",
              "      <td>&lt;NA&gt;</td>\n",
              "      <td>2014-01-09</td>\n",
              "      <td>12:00:00</td>\n",
              "    </tr>\n",
              "    <tr>\n",
              "      <th>172051</th>\n",
              "      <td>20</td>\n",
              "      <td>M</td>\n",
              "      <td>B</td>\n",
              "      <td>115TRESPASSING</td>\n",
              "      <td>TRESPASSING</td>\n",
              "      <td>Central</td>\n",
              "      <td>2014-01-09</td>\n",
              "      <td>11:55:00</td>\n",
              "    </tr>\n",
              "    <tr>\n",
              "      <th>172052</th>\n",
              "      <td>27</td>\n",
              "      <td>F</td>\n",
              "      <td>B</td>\n",
              "      <td>97SEARCH &amp; SEIZURE</td>\n",
              "      <td>HAND GUN VIOLATION</td>\n",
              "      <td>Southeast</td>\n",
              "      <td>2014-01-09</td>\n",
              "      <td>11:45:00</td>\n",
              "    </tr>\n",
              "    <tr>\n",
              "      <th>172053</th>\n",
              "      <td>22</td>\n",
              "      <td>M</td>\n",
              "      <td>B</td>\n",
              "      <td>97SEARCH &amp; SEIZURE</td>\n",
              "      <td>CDS PWID</td>\n",
              "      <td>Southern</td>\n",
              "      <td>2014-01-09</td>\n",
              "      <td>11:45:00</td>\n",
              "    </tr>\n",
              "    <tr>\n",
              "      <th>172054</th>\n",
              "      <td>36</td>\n",
              "      <td>M</td>\n",
              "      <td>B</td>\n",
              "      <td>26RECOVERED VEHICLE</td>\n",
              "      <td>STOLEN AUTO</td>\n",
              "      <td>Eastern</td>\n",
              "      <td>2014-01-09</td>\n",
              "      <td>11:30:00</td>\n",
              "    </tr>\n",
              "    <tr>\n",
              "      <th>172055</th>\n",
              "      <td>22</td>\n",
              "      <td>M</td>\n",
              "      <td>B</td>\n",
              "      <td>Unknown Offense</td>\n",
              "      <td>FAILURE TO APPEAR</td>\n",
              "      <td>&lt;NA&gt;</td>\n",
              "      <td>2014-01-09</td>\n",
              "      <td>11:30:00</td>\n",
              "    </tr>\n",
              "    <tr>\n",
              "      <th>172056</th>\n",
              "      <td>57</td>\n",
              "      <td>M</td>\n",
              "      <td>W</td>\n",
              "      <td>Unknown Offense</td>\n",
              "      <td>DISORDERLY CONDUCT</td>\n",
              "      <td>&lt;NA&gt;</td>\n",
              "      <td>2014-01-09</td>\n",
              "      <td>11:15:00</td>\n",
              "    </tr>\n",
              "    <tr>\n",
              "      <th>172057</th>\n",
              "      <td>19</td>\n",
              "      <td>M</td>\n",
              "      <td>B</td>\n",
              "      <td>Unknown Offense</td>\n",
              "      <td>VIOLATION OF PROBATION</td>\n",
              "      <td>&lt;NA&gt;</td>\n",
              "      <td>2014-01-09</td>\n",
              "      <td>11:00:00</td>\n",
              "    </tr>\n",
              "    <tr>\n",
              "      <th>172058</th>\n",
              "      <td>34</td>\n",
              "      <td>M</td>\n",
              "      <td>B</td>\n",
              "      <td>87NARCOTICS</td>\n",
              "      <td>FAILURE TO APPEAR</td>\n",
              "      <td>&lt;NA&gt;</td>\n",
              "      <td>2014-01-09</td>\n",
              "      <td>11:00:00</td>\n",
              "    </tr>\n",
              "    <tr>\n",
              "      <th>172059</th>\n",
              "      <td>19</td>\n",
              "      <td>M</td>\n",
              "      <td>B</td>\n",
              "      <td>Unknown Offense</td>\n",
              "      <td>VIOLATION OF PROBATION</td>\n",
              "      <td>&lt;NA&gt;</td>\n",
              "      <td>2014-01-09</td>\n",
              "      <td>11:00:00</td>\n",
              "    </tr>\n",
              "    <tr>\n",
              "      <th>172060</th>\n",
              "      <td>22</td>\n",
              "      <td>M</td>\n",
              "      <td>B</td>\n",
              "      <td>97SEARCH &amp; SEIZURE</td>\n",
              "      <td>POSS MARIJUANA</td>\n",
              "      <td>Southern</td>\n",
              "      <td>2014-01-09</td>\n",
              "      <td>10:55:00</td>\n",
              "    </tr>\n",
              "    <tr>\n",
              "      <th>172061</th>\n",
              "      <td>19</td>\n",
              "      <td>M</td>\n",
              "      <td>B</td>\n",
              "      <td>97SEARCH &amp; SEIZURE</td>\n",
              "      <td>POSS. MARIJUANA</td>\n",
              "      <td>Southern</td>\n",
              "      <td>2014-01-09</td>\n",
              "      <td>10:55:00</td>\n",
              "    </tr>\n",
              "    <tr>\n",
              "      <th>172062</th>\n",
              "      <td>20</td>\n",
              "      <td>M</td>\n",
              "      <td>B</td>\n",
              "      <td>87NARCOTICS</td>\n",
              "      <td>CDS</td>\n",
              "      <td>Central</td>\n",
              "      <td>2014-01-09</td>\n",
              "      <td>10:50:00</td>\n",
              "    </tr>\n",
              "    <tr>\n",
              "      <th>172063</th>\n",
              "      <td>35</td>\n",
              "      <td>M</td>\n",
              "      <td>B</td>\n",
              "      <td>Unknown Offense</td>\n",
              "      <td>DRIVING UNDER INFLUENCE OF ALC</td>\n",
              "      <td>Northeast</td>\n",
              "      <td>2014-01-09</td>\n",
              "      <td>10:45:00</td>\n",
              "    </tr>\n",
              "    <tr>\n",
              "      <th>172064</th>\n",
              "      <td>35</td>\n",
              "      <td>M</td>\n",
              "      <td>B</td>\n",
              "      <td>Unknown Offense</td>\n",
              "      <td>FAILURE TO APPEAR</td>\n",
              "      <td>&lt;NA&gt;</td>\n",
              "      <td>2014-01-09</td>\n",
              "      <td>10:45:00</td>\n",
              "    </tr>\n",
              "    <tr>\n",
              "      <th>172065</th>\n",
              "      <td>23</td>\n",
              "      <td>F</td>\n",
              "      <td>B</td>\n",
              "      <td>Unknown Offense</td>\n",
              "      <td>ASSAULT-FIRST DEGREE</td>\n",
              "      <td>&lt;NA&gt;</td>\n",
              "      <td>2014-01-09</td>\n",
              "      <td>10:40:00</td>\n",
              "    </tr>\n",
              "    <tr>\n",
              "      <th>172066</th>\n",
              "      <td>44</td>\n",
              "      <td>M</td>\n",
              "      <td>B</td>\n",
              "      <td>Unknown Offense</td>\n",
              "      <td>ASSAULT-SEC DEGREE</td>\n",
              "      <td>&lt;NA&gt;</td>\n",
              "      <td>2014-01-09</td>\n",
              "      <td>10:30:00</td>\n",
              "    </tr>\n",
              "    <tr>\n",
              "      <th>172067</th>\n",
              "      <td>23</td>\n",
              "      <td>M</td>\n",
              "      <td>B</td>\n",
              "      <td>Unknown Offense</td>\n",
              "      <td>FAILURE TO APPEAR</td>\n",
              "      <td>&lt;NA&gt;</td>\n",
              "      <td>2014-01-09</td>\n",
              "      <td>10:30:00</td>\n",
              "    </tr>\n",
              "    <tr>\n",
              "      <th>172068</th>\n",
              "      <td>42</td>\n",
              "      <td>M</td>\n",
              "      <td>B</td>\n",
              "      <td>87NARCOTICS</td>\n",
              "      <td>CDS POSS</td>\n",
              "      <td>Northeast</td>\n",
              "      <td>2014-01-09</td>\n",
              "      <td>10:25:00</td>\n",
              "    </tr>\n",
              "    <tr>\n",
              "      <th>172069</th>\n",
              "      <td>31</td>\n",
              "      <td>F</td>\n",
              "      <td>B</td>\n",
              "      <td>Unknown Offense</td>\n",
              "      <td>ASSAULT-SEC DEGREE</td>\n",
              "      <td>&lt;NA&gt;</td>\n",
              "      <td>2014-01-09</td>\n",
              "      <td>10:15:00</td>\n",
              "    </tr>\n",
              "    <tr>\n",
              "      <th>172070</th>\n",
              "      <td>49</td>\n",
              "      <td>M</td>\n",
              "      <td>B</td>\n",
              "      <td>6CLARCENY- SHOPLIFTING</td>\n",
              "      <td>LARCENY</td>\n",
              "      <td>Northwest</td>\n",
              "      <td>2014-01-09</td>\n",
              "      <td>10:00:00</td>\n",
              "    </tr>\n",
              "    <tr>\n",
              "      <th>172071</th>\n",
              "      <td>26</td>\n",
              "      <td>F</td>\n",
              "      <td>W</td>\n",
              "      <td>Unknown Offense</td>\n",
              "      <td>FAILURE TO APPEAR</td>\n",
              "      <td>&lt;NA&gt;</td>\n",
              "      <td>2014-01-09</td>\n",
              "      <td>09:55:00</td>\n",
              "    </tr>\n",
              "    <tr>\n",
              "      <th>172072</th>\n",
              "      <td>42</td>\n",
              "      <td>M</td>\n",
              "      <td>U</td>\n",
              "      <td>79OTHER</td>\n",
              "      <td>POSS DEADLY WEAPON</td>\n",
              "      <td>Southwest</td>\n",
              "      <td>2014-01-09</td>\n",
              "      <td>09:30:00</td>\n",
              "    </tr>\n",
              "    <tr>\n",
              "      <th>172073</th>\n",
              "      <td>25</td>\n",
              "      <td>M</td>\n",
              "      <td>W</td>\n",
              "      <td>87NARCOTICS</td>\n",
              "      <td>CDS- DISTRIBUTION</td>\n",
              "      <td>Western</td>\n",
              "      <td>2014-01-09</td>\n",
              "      <td>09:30:00</td>\n",
              "    </tr>\n",
              "    <tr>\n",
              "      <th>172074</th>\n",
              "      <td>41</td>\n",
              "      <td>M</td>\n",
              "      <td>W</td>\n",
              "      <td>79OTHER</td>\n",
              "      <td>CDS POSSESSION</td>\n",
              "      <td>Southeast</td>\n",
              "      <td>2014-01-09</td>\n",
              "      <td>09:30:00</td>\n",
              "    </tr>\n",
              "    <tr>\n",
              "      <th>172075</th>\n",
              "      <td>36</td>\n",
              "      <td>M</td>\n",
              "      <td>B</td>\n",
              "      <td>Unknown Offense</td>\n",
              "      <td>FAIL REG OFFENDER/FALSE INFO</td>\n",
              "      <td>&lt;NA&gt;</td>\n",
              "      <td>2014-01-09</td>\n",
              "      <td>09:15:00</td>\n",
              "    </tr>\n",
              "    <tr>\n",
              "      <th>172076</th>\n",
              "      <td>34</td>\n",
              "      <td>M</td>\n",
              "      <td>B</td>\n",
              "      <td>87NARCOTICS</td>\n",
              "      <td>CDS VIOLATION</td>\n",
              "      <td>Eastern</td>\n",
              "      <td>2014-01-09</td>\n",
              "      <td>09:15:00</td>\n",
              "    </tr>\n",
              "    <tr>\n",
              "      <th>172077</th>\n",
              "      <td>58</td>\n",
              "      <td>M</td>\n",
              "      <td>B</td>\n",
              "      <td>87NARCOTICS</td>\n",
              "      <td>CDS POSSESSION</td>\n",
              "      <td>Southwest</td>\n",
              "      <td>2014-01-09</td>\n",
              "      <td>09:00:00</td>\n",
              "    </tr>\n",
              "    <tr>\n",
              "      <th>172078</th>\n",
              "      <td>29</td>\n",
              "      <td>M</td>\n",
              "      <td>B</td>\n",
              "      <td>4ECOMMON ASSAULT</td>\n",
              "      <td>COMMON ASSAULT</td>\n",
              "      <td>Eastern</td>\n",
              "      <td>2014-01-09</td>\n",
              "      <td>09:00:00</td>\n",
              "    </tr>\n",
              "    <tr>\n",
              "      <th>172079</th>\n",
              "      <td>51</td>\n",
              "      <td>M</td>\n",
              "      <td>B</td>\n",
              "      <td>87NARCOTICS</td>\n",
              "      <td>CDS POSSESSION</td>\n",
              "      <td>Southwest</td>\n",
              "      <td>2014-01-09</td>\n",
              "      <td>09:00:00</td>\n",
              "    </tr>\n",
              "    <tr>\n",
              "      <th>172080</th>\n",
              "      <td>25</td>\n",
              "      <td>M</td>\n",
              "      <td>B</td>\n",
              "      <td>Unknown Offense</td>\n",
              "      <td>VIOLATION OF PROBATION</td>\n",
              "      <td>&lt;NA&gt;</td>\n",
              "      <td>2014-01-09</td>\n",
              "      <td>08:30:00</td>\n",
              "    </tr>\n",
              "    <tr>\n",
              "      <th>172081</th>\n",
              "      <td>23</td>\n",
              "      <td>M</td>\n",
              "      <td>W</td>\n",
              "      <td>87NARCOTICS</td>\n",
              "      <td>CDS VIOLATION</td>\n",
              "      <td>Northern</td>\n",
              "      <td>2014-01-09</td>\n",
              "      <td>08:30:00</td>\n",
              "    </tr>\n",
              "    <tr>\n",
              "      <th>172082</th>\n",
              "      <td>59</td>\n",
              "      <td>M</td>\n",
              "      <td>B</td>\n",
              "      <td>Unknown Offense</td>\n",
              "      <td>FAILURE TO APPEAR</td>\n",
              "      <td>&lt;NA&gt;</td>\n",
              "      <td>2014-01-09</td>\n",
              "      <td>08:30:00</td>\n",
              "    </tr>\n",
              "    <tr>\n",
              "      <th>172083</th>\n",
              "      <td>40</td>\n",
              "      <td>M</td>\n",
              "      <td>B</td>\n",
              "      <td>Unknown Offense</td>\n",
              "      <td>CHILD ABUSE-2ND DEGREE: HOUSE</td>\n",
              "      <td>&lt;NA&gt;</td>\n",
              "      <td>2014-01-09</td>\n",
              "      <td>08:00:00</td>\n",
              "    </tr>\n",
              "    <tr>\n",
              "      <th>172084</th>\n",
              "      <td>25</td>\n",
              "      <td>M</td>\n",
              "      <td>B</td>\n",
              "      <td>Unknown Offense</td>\n",
              "      <td>BURGLARY-THIRD DEGREE</td>\n",
              "      <td>&lt;NA&gt;</td>\n",
              "      <td>2014-01-09</td>\n",
              "      <td>07:30:00</td>\n",
              "    </tr>\n",
              "    <tr>\n",
              "      <th>172085</th>\n",
              "      <td>27</td>\n",
              "      <td>F</td>\n",
              "      <td>B</td>\n",
              "      <td>Unknown Offense</td>\n",
              "      <td>ASSAULT-SEC DEGREE</td>\n",
              "      <td>&lt;NA&gt;</td>\n",
              "      <td>2014-01-09</td>\n",
              "      <td>06:30:00</td>\n",
              "    </tr>\n",
              "    <tr>\n",
              "      <th>172086</th>\n",
              "      <td>20</td>\n",
              "      <td>M</td>\n",
              "      <td>B</td>\n",
              "      <td>97SEARCH &amp; SEIZURE</td>\n",
              "      <td>POSSESSION WITH INTENT TO DIST</td>\n",
              "      <td>Western</td>\n",
              "      <td>2014-01-09</td>\n",
              "      <td>06:13:00</td>\n",
              "    </tr>\n",
              "    <tr>\n",
              "      <th>172087</th>\n",
              "      <td>0</td>\n",
              "      <td>M</td>\n",
              "      <td>B</td>\n",
              "      <td>Unknown Offense</td>\n",
              "      <td>ASSAULT-SEC DEGREE</td>\n",
              "      <td>&lt;NA&gt;</td>\n",
              "      <td>2014-01-09</td>\n",
              "      <td>05:30:00</td>\n",
              "    </tr>\n",
              "    <tr>\n",
              "      <th>172088</th>\n",
              "      <td>32</td>\n",
              "      <td>M</td>\n",
              "      <td>B</td>\n",
              "      <td>Unknown Offense</td>\n",
              "      <td>FAILURE TO APPEAR</td>\n",
              "      <td>&lt;NA&gt;</td>\n",
              "      <td>2014-01-09</td>\n",
              "      <td>05:30:00</td>\n",
              "    </tr>\n",
              "    <tr>\n",
              "      <th>172089</th>\n",
              "      <td>32</td>\n",
              "      <td>M</td>\n",
              "      <td>B</td>\n",
              "      <td>Unknown Offense</td>\n",
              "      <td>VIOLATION OF PROBATION</td>\n",
              "      <td>&lt;NA&gt;</td>\n",
              "      <td>2014-01-09</td>\n",
              "      <td>05:30:00</td>\n",
              "    </tr>\n",
              "    <tr>\n",
              "      <th>172090</th>\n",
              "      <td>34</td>\n",
              "      <td>M</td>\n",
              "      <td>B</td>\n",
              "      <td>Unknown Offense</td>\n",
              "      <td>VIOLATION OF PROBATION</td>\n",
              "      <td>&lt;NA&gt;</td>\n",
              "      <td>2014-01-09</td>\n",
              "      <td>04:45:00</td>\n",
              "    </tr>\n",
              "    <tr>\n",
              "      <th>172091</th>\n",
              "      <td>21</td>\n",
              "      <td>M</td>\n",
              "      <td>B</td>\n",
              "      <td>97SEARCH &amp; SEIZURE</td>\n",
              "      <td>CDS VIOLATION</td>\n",
              "      <td>Northeast</td>\n",
              "      <td>2014-01-09</td>\n",
              "      <td>04:42:00</td>\n",
              "    </tr>\n",
              "    <tr>\n",
              "      <th>172092</th>\n",
              "      <td>20</td>\n",
              "      <td>M</td>\n",
              "      <td>B</td>\n",
              "      <td>3AFROBB HWY-FIREARM</td>\n",
              "      <td>HANDGUN VIOLATION</td>\n",
              "      <td>Northeast</td>\n",
              "      <td>2014-01-09</td>\n",
              "      <td>04:40:00</td>\n",
              "    </tr>\n",
              "    <tr>\n",
              "      <th>172093</th>\n",
              "      <td>24</td>\n",
              "      <td>M</td>\n",
              "      <td>B</td>\n",
              "      <td>3AFROBB HWY-FIREARM</td>\n",
              "      <td>HANDGUN VIOLATION</td>\n",
              "      <td>Northeast</td>\n",
              "      <td>2014-01-09</td>\n",
              "      <td>04:40:00</td>\n",
              "    </tr>\n",
              "    <tr>\n",
              "      <th>172094</th>\n",
              "      <td>18</td>\n",
              "      <td>M</td>\n",
              "      <td>B</td>\n",
              "      <td>3AFROBB HWY-FIREARM</td>\n",
              "      <td>HANDGUN VIOLATION</td>\n",
              "      <td>Northeast</td>\n",
              "      <td>2014-01-09</td>\n",
              "      <td>04:40:00</td>\n",
              "    </tr>\n",
              "    <tr>\n",
              "      <th>172095</th>\n",
              "      <td>25</td>\n",
              "      <td>M</td>\n",
              "      <td>B</td>\n",
              "      <td>Unknown Offense</td>\n",
              "      <td>FAILURE TO APPEAR</td>\n",
              "      <td>&lt;NA&gt;</td>\n",
              "      <td>2014-01-09</td>\n",
              "      <td>04:25:00</td>\n",
              "    </tr>\n",
              "    <tr>\n",
              "      <th>172096</th>\n",
              "      <td>25</td>\n",
              "      <td>M</td>\n",
              "      <td>B</td>\n",
              "      <td>87NARCOTICS</td>\n",
              "      <td>CDS</td>\n",
              "      <td>Western</td>\n",
              "      <td>2014-01-09</td>\n",
              "      <td>04:15:00</td>\n",
              "    </tr>\n",
              "    <tr>\n",
              "      <th>172097</th>\n",
              "      <td>22</td>\n",
              "      <td>F</td>\n",
              "      <td>B</td>\n",
              "      <td>24TOWED VEHICLE</td>\n",
              "      <td>CDS</td>\n",
              "      <td>Northwest</td>\n",
              "      <td>2014-01-09</td>\n",
              "      <td>04:00:00</td>\n",
              "    </tr>\n",
              "    <tr>\n",
              "      <th>172098</th>\n",
              "      <td>52</td>\n",
              "      <td>F</td>\n",
              "      <td>B</td>\n",
              "      <td>Unknown Offense</td>\n",
              "      <td>FAILURE TO APPEAR</td>\n",
              "      <td>&lt;NA&gt;</td>\n",
              "      <td>2014-01-09</td>\n",
              "      <td>04:00:00</td>\n",
              "    </tr>\n",
              "    <tr>\n",
              "      <th>172099</th>\n",
              "      <td>47</td>\n",
              "      <td>M</td>\n",
              "      <td>B</td>\n",
              "      <td>4DAGG. ASSLT.- HAND</td>\n",
              "      <td>AGGRAVATED</td>\n",
              "      <td>Western</td>\n",
              "      <td>2014-01-09</td>\n",
              "      <td>03:40:00</td>\n",
              "    </tr>\n",
              "    <tr>\n",
              "      <th>172100</th>\n",
              "      <td>49</td>\n",
              "      <td>M</td>\n",
              "      <td>B</td>\n",
              "      <td>26RECOVERED VEHICLE</td>\n",
              "      <td>STOLEN VEHICLE</td>\n",
              "      <td>Western</td>\n",
              "      <td>2014-01-09</td>\n",
              "      <td>03:35:00</td>\n",
              "    </tr>\n",
              "    <tr>\n",
              "      <th>172101</th>\n",
              "      <td>20</td>\n",
              "      <td>F</td>\n",
              "      <td>B</td>\n",
              "      <td>Unknown Offense</td>\n",
              "      <td>FAILURE TO APPEAR</td>\n",
              "      <td>&lt;NA&gt;</td>\n",
              "      <td>2014-01-09</td>\n",
              "      <td>03:14:00</td>\n",
              "    </tr>\n",
              "    <tr>\n",
              "      <th>172102</th>\n",
              "      <td>26</td>\n",
              "      <td>F</td>\n",
              "      <td>W</td>\n",
              "      <td>Unknown Offense</td>\n",
              "      <td>FAILURE TO APPEAR</td>\n",
              "      <td>&lt;NA&gt;</td>\n",
              "      <td>2014-01-09</td>\n",
              "      <td>03:02:00</td>\n",
              "    </tr>\n",
              "    <tr>\n",
              "      <th>172103</th>\n",
              "      <td>21</td>\n",
              "      <td>M</td>\n",
              "      <td>B</td>\n",
              "      <td>4ECOMMON ASSAULT</td>\n",
              "      <td>COMMON ASSAULT</td>\n",
              "      <td>Northeast</td>\n",
              "      <td>2014-01-09</td>\n",
              "      <td>03:00:00</td>\n",
              "    </tr>\n",
              "    <tr>\n",
              "      <th>172104</th>\n",
              "      <td>26</td>\n",
              "      <td>F</td>\n",
              "      <td>W</td>\n",
              "      <td>Unknown Offense</td>\n",
              "      <td>FAILURE TO APPEAR</td>\n",
              "      <td>&lt;NA&gt;</td>\n",
              "      <td>2014-01-09</td>\n",
              "      <td>02:53:00</td>\n",
              "    </tr>\n",
              "    <tr>\n",
              "      <th>172105</th>\n",
              "      <td>25</td>\n",
              "      <td>M</td>\n",
              "      <td>B</td>\n",
              "      <td>79OTHER</td>\n",
              "      <td>FALSE STATEMENT</td>\n",
              "      <td>Northeast</td>\n",
              "      <td>2014-01-09</td>\n",
              "      <td>02:44:00</td>\n",
              "    </tr>\n",
              "    <tr>\n",
              "      <th>172106</th>\n",
              "      <td>36</td>\n",
              "      <td>F</td>\n",
              "      <td>W</td>\n",
              "      <td>Unknown Offense</td>\n",
              "      <td>FAILURE TO PAY WAGES</td>\n",
              "      <td>&lt;NA&gt;</td>\n",
              "      <td>2014-01-09</td>\n",
              "      <td>02:35:00</td>\n",
              "    </tr>\n",
              "    <tr>\n",
              "      <th>172107</th>\n",
              "      <td>45</td>\n",
              "      <td>M</td>\n",
              "      <td>W</td>\n",
              "      <td>Unknown Offense</td>\n",
              "      <td>FAILURE TO APPEAR</td>\n",
              "      <td>&lt;NA&gt;</td>\n",
              "      <td>2014-01-09</td>\n",
              "      <td>02:30:00</td>\n",
              "    </tr>\n",
              "    <tr>\n",
              "      <th>172108</th>\n",
              "      <td>27</td>\n",
              "      <td>M</td>\n",
              "      <td>W</td>\n",
              "      <td>6DLARCENY- FROM AUTO</td>\n",
              "      <td>LARCENY FROM AUTO</td>\n",
              "      <td>Southern</td>\n",
              "      <td>2014-01-09</td>\n",
              "      <td>02:18:00</td>\n",
              "    </tr>\n",
              "    <tr>\n",
              "      <th>172109</th>\n",
              "      <td>32</td>\n",
              "      <td>M</td>\n",
              "      <td>W</td>\n",
              "      <td>54ARMED PERSON</td>\n",
              "      <td>POSS. OF A DANGEROUS WEAPON</td>\n",
              "      <td>Central</td>\n",
              "      <td>2014-01-09</td>\n",
              "      <td>02:00:00</td>\n",
              "    </tr>\n",
              "    <tr>\n",
              "      <th>172110</th>\n",
              "      <td>40</td>\n",
              "      <td>M</td>\n",
              "      <td>U</td>\n",
              "      <td>Unknown Offense</td>\n",
              "      <td>DRIV W/O LIC</td>\n",
              "      <td>Southeast</td>\n",
              "      <td>2014-01-09</td>\n",
              "      <td>01:51:00</td>\n",
              "    </tr>\n",
              "    <tr>\n",
              "      <th>172111</th>\n",
              "      <td>28</td>\n",
              "      <td>M</td>\n",
              "      <td>B</td>\n",
              "      <td>87NARCOTICS</td>\n",
              "      <td>CDS VIOLATION</td>\n",
              "      <td>Northeast</td>\n",
              "      <td>2014-01-09</td>\n",
              "      <td>01:50:00</td>\n",
              "    </tr>\n",
              "    <tr>\n",
              "      <th>172112</th>\n",
              "      <td>20</td>\n",
              "      <td>M</td>\n",
              "      <td>B</td>\n",
              "      <td>Unknown Offense</td>\n",
              "      <td>ATT 1ST DEG. MURDER</td>\n",
              "      <td>&lt;NA&gt;</td>\n",
              "      <td>2014-01-09</td>\n",
              "      <td>01:50:00</td>\n",
              "    </tr>\n",
              "    <tr>\n",
              "      <th>172113</th>\n",
              "      <td>31</td>\n",
              "      <td>M</td>\n",
              "      <td>B</td>\n",
              "      <td>6CLARCENY- SHOPLIFTING</td>\n",
              "      <td>THEFT UNDER $1000</td>\n",
              "      <td>Central</td>\n",
              "      <td>2014-01-09</td>\n",
              "      <td>01:47:00</td>\n",
              "    </tr>\n",
              "    <tr>\n",
              "      <th>172114</th>\n",
              "      <td>21</td>\n",
              "      <td>M</td>\n",
              "      <td>B</td>\n",
              "      <td>Unknown Offense</td>\n",
              "      <td>DRIV RENTED MOTOR VEH IN VIOL</td>\n",
              "      <td>Southeast</td>\n",
              "      <td>2014-01-09</td>\n",
              "      <td>01:20:00</td>\n",
              "    </tr>\n",
              "    <tr>\n",
              "      <th>172115</th>\n",
              "      <td>28</td>\n",
              "      <td>M</td>\n",
              "      <td>B</td>\n",
              "      <td>Unknown Offense</td>\n",
              "      <td>Unknown Charge</td>\n",
              "      <td>Southeast</td>\n",
              "      <td>2014-01-09</td>\n",
              "      <td>01:19:00</td>\n",
              "    </tr>\n",
              "    <tr>\n",
              "      <th>172116</th>\n",
              "      <td>34</td>\n",
              "      <td>M</td>\n",
              "      <td>B</td>\n",
              "      <td>Unknown Offense</td>\n",
              "      <td>VIOLATION OF PROBATION</td>\n",
              "      <td>&lt;NA&gt;</td>\n",
              "      <td>2014-01-09</td>\n",
              "      <td>01:00:00</td>\n",
              "    </tr>\n",
              "    <tr>\n",
              "      <th>172117</th>\n",
              "      <td>22</td>\n",
              "      <td>M</td>\n",
              "      <td>B</td>\n",
              "      <td>4ECOMMON ASSAULT</td>\n",
              "      <td>COMMON ASSALUT</td>\n",
              "      <td>Northwest</td>\n",
              "      <td>2014-01-09</td>\n",
              "      <td>00:35:00</td>\n",
              "    </tr>\n",
              "    <tr>\n",
              "      <th>172118</th>\n",
              "      <td>19</td>\n",
              "      <td>M</td>\n",
              "      <td>B</td>\n",
              "      <td>Unknown Offense</td>\n",
              "      <td>ATT-CDS DIST-NARC</td>\n",
              "      <td>&lt;NA&gt;</td>\n",
              "      <td>2014-01-09</td>\n",
              "      <td>00:28:00</td>\n",
              "    </tr>\n",
              "    <tr>\n",
              "      <th>172119</th>\n",
              "      <td>33</td>\n",
              "      <td>M</td>\n",
              "      <td>W</td>\n",
              "      <td>Unknown Offense</td>\n",
              "      <td>Unknown Charge</td>\n",
              "      <td>&lt;NA&gt;</td>\n",
              "      <td>2014-01-09</td>\n",
              "      <td>00:28:00</td>\n",
              "    </tr>\n",
              "    <tr>\n",
              "      <th>172120</th>\n",
              "      <td>48</td>\n",
              "      <td>M</td>\n",
              "      <td>W</td>\n",
              "      <td>Unknown Offense</td>\n",
              "      <td>BURGLARY/2ND DEGREE/GENERAL</td>\n",
              "      <td>&lt;NA&gt;</td>\n",
              "      <td>2014-01-09</td>\n",
              "      <td>00:28:00</td>\n",
              "    </tr>\n",
              "    <tr>\n",
              "      <th>172121</th>\n",
              "      <td>20</td>\n",
              "      <td>M</td>\n",
              "      <td>B</td>\n",
              "      <td>79OTHER</td>\n",
              "      <td>FALSE INFO TO POLICE</td>\n",
              "      <td>Southwest</td>\n",
              "      <td>2014-01-09</td>\n",
              "      <td>00:22:00</td>\n",
              "    </tr>\n",
              "    <tr>\n",
              "      <th>172122</th>\n",
              "      <td>29</td>\n",
              "      <td>M</td>\n",
              "      <td>W</td>\n",
              "      <td>Unknown Offense</td>\n",
              "      <td>FAILURE TO APPEAR</td>\n",
              "      <td>&lt;NA&gt;</td>\n",
              "      <td>2014-01-09</td>\n",
              "      <td>00:02:00</td>\n",
              "    </tr>\n",
              "  </tbody>\n",
              "</table>\n",
              "</div>"
            ],
            "text/plain": [
              "        Age Gender Race  ...   District        date      time\n",
              "171946   51      M    B  ...    Central  2014-01-09  23:55:00\n",
              "171947   34      M    B  ...       <NA>  2014-01-09  23:44:00\n",
              "171948   37      M    B  ...       <NA>  2014-01-09  23:19:00\n",
              "171949   53      M    W  ...   Southern  2014-01-09  22:45:00\n",
              "171950   46      M    B  ...    Central  2014-01-09  22:45:00\n",
              "171951   34      M    B  ...    Eastern  2014-01-09  22:30:00\n",
              "171952   22      M    B  ...    Eastern  2014-01-09  22:30:00\n",
              "171953   49      M    B  ...    Eastern  2014-01-09  22:20:00\n",
              "171954   57      M    B  ...       <NA>  2014-01-09  22:03:00\n",
              "171955   57      M    B  ...       <NA>  2014-01-09  22:03:00\n",
              "171956   20      M    W  ...   Northern  2014-01-09  22:00:00\n",
              "171957   22      M    B  ...       <NA>  2014-01-09  22:00:00\n",
              "171958   30      M    B  ...       <NA>  2014-01-09  21:53:00\n",
              "171959   29      M    B  ...  Northeast  2014-01-09  21:50:00\n",
              "171960   36      M    B  ...  Northwest  2014-01-09  21:30:00\n",
              "171961   18      M    B  ...    Eastern  2014-01-09  21:30:00\n",
              "171962   40      F    B  ...       <NA>  2014-01-09  21:20:00\n",
              "171963   26      M    B  ...    Central  2014-01-09  21:20:00\n",
              "171964   22      M    B  ...    Eastern  2014-01-09  21:04:00\n",
              "171965   18      M    B  ...   Southern  2014-01-09  21:00:00\n",
              "171966   38      M    B  ...    Central  2014-01-09  21:00:00\n",
              "171967   27      M    B  ...    Western  2014-01-09  21:00:00\n",
              "171968   29      M    B  ...    Western  2014-01-09  21:00:00\n",
              "171969   38      M    B  ...    Western  2014-01-09  21:00:00\n",
              "171970   22      F    B  ...  Southeast  2014-01-09  20:55:00\n",
              "171971   26      F    B  ...  Southeast  2014-01-09  20:55:00\n",
              "171972   20      M    B  ...       <NA>  2014-01-09  20:54:00\n",
              "171973   20      M    B  ...       <NA>  2014-01-09  20:54:00\n",
              "171974   25      M    B  ...  Southeast  2014-01-09  20:46:00\n",
              "171975   21      M    B  ...   Northern  2014-01-09  20:32:00\n",
              "171976   30      M    B  ...       <NA>  2014-01-09  20:30:00\n",
              "171977   24      M    B  ...       <NA>  2014-01-09  20:30:00\n",
              "171978   18      M    B  ...  Northeast  2014-01-09  20:20:00\n",
              "171979   52      M    B  ...    Western  2014-01-09  20:20:00\n",
              "171980   24      M    B  ...  Northeast  2014-01-09  20:20:00\n",
              "171981   34      M    B  ...       <NA>  2014-01-09  20:15:00\n",
              "171982   27      F    B  ...       <NA>  2014-01-09  20:00:00\n",
              "171983   31      F    B  ...   Southern  2014-01-09  20:00:00\n",
              "171984   20      F    B  ...   Southern  2014-01-09  20:00:00\n",
              "171985   47      M    B  ...   Southern  2014-01-09  19:50:00\n",
              "171986   30      F    B  ...   Southern  2014-01-09  19:50:00\n",
              "171987   23      M    B  ...       <NA>  2014-01-09  19:45:00\n",
              "171988   67      M    B  ...  Southeast  2014-01-09  19:45:00\n",
              "171989   39      M    B  ...       <NA>  2014-01-09  19:39:00\n",
              "171990   54      M    B  ...    Eastern  2014-01-09  19:15:00\n",
              "171991   47      M    W  ...    Eastern  2014-01-09  19:15:00\n",
              "171992   20      F    B  ...  Southeast  2014-01-09  18:28:00\n",
              "171993   18      F    B  ...    Central  2014-01-09  18:15:00\n",
              "171994   25      M    W  ...  Southwest  2014-01-09  18:15:00\n",
              "171995   38      M    B  ...  Northeast  2014-01-09  18:15:00\n",
              "171996   41      M    B  ...  Northwest  2014-01-09  18:00:00\n",
              "171997   39      F    B  ...  Southeast  2014-01-09  18:00:00\n",
              "171998   21      M    B  ...       <NA>  2014-01-09  17:51:00\n",
              "171999   42      F    B  ...   Southern  2014-01-09  17:45:00\n",
              "172000   39      M    B  ...   Southern  2014-01-09  17:45:00\n",
              "172001   23      M    B  ...   Southern  2014-01-09  17:45:00\n",
              "172002   22      F    B  ...       <NA>  2014-01-09  17:30:00\n",
              "172003   50      F    B  ...   Northern  2014-01-09  17:30:00\n",
              "172004   49      F    B  ...   Northern  2014-01-09  17:15:00\n",
              "172005   22      M    B  ...  Southwest  2014-01-09  17:08:00\n",
              "172006   20      M    B  ...       <NA>  2014-01-09  16:40:00\n",
              "172007   19      M    B  ...  Northwest  2014-01-09  16:40:00\n",
              "172008   23      M    B  ...   Northern  2014-01-09  16:30:00\n",
              "172009   22      M    B  ...       <NA>  2014-01-09  16:30:00\n",
              "172010   54      M    B  ...    Central  2014-01-09  16:25:00\n",
              "172011   51      M    B  ...    Eastern  2014-01-09  16:13:00\n",
              "172012   41      F    B  ...    Eastern  2014-01-09  16:13:00\n",
              "172013   17      M    B  ...  Southwest  2014-01-09  16:00:00\n",
              "172014   59      M    B  ...       <NA>  2014-01-09  16:00:00\n",
              "172015   32      M    B  ...    Central  2014-01-09  16:00:00\n",
              "172016   40      M    B  ...    Central  2014-01-09  15:30:00\n",
              "172017   27      M    B  ...    Eastern  2014-01-09  15:30:00\n",
              "172018   49      F    B  ...    Eastern  2014-01-09  15:28:00\n",
              "172019   18      F    B  ...   Northern  2014-01-09  15:25:00\n",
              "172020   23      F    W  ...   Southern  2014-01-09  15:20:00\n",
              "172021   22      M    W  ...    Central  2014-01-09  15:05:00\n",
              "172022   31      M    B  ...   Southern  2014-01-09  15:03:00\n",
              "172023   24      M    B  ...       <NA>  2014-01-09  14:30:00\n",
              "172024   32      M    B  ...    Central  2014-01-09  14:00:00\n",
              "172025   46      M    B  ...   Northern  2014-01-09  14:00:00\n",
              "172026   32      M    W  ...       <NA>  2014-01-09  14:00:00\n",
              "172027   27      M    B  ...       <NA>  2014-01-09  14:00:00\n",
              "172028   48      M    B  ...   Northern  2014-01-09  13:50:00\n",
              "172029   26      M    B  ...   Northern  2014-01-09  13:50:00\n",
              "172030   21      M    B  ...    Western  2014-01-09  13:50:00\n",
              "172031   26      F    B  ...       <NA>  2014-01-09  13:30:00\n",
              "172032   19      M    B  ...    Eastern  2014-01-09  13:30:00\n",
              "172033   26      F    B  ...       <NA>  2014-01-09  13:30:00\n",
              "172034   22      M    B  ...  Southeast  2014-01-09  13:20:00\n",
              "172035   26      M    B  ...  Southeast  2014-01-09  13:20:00\n",
              "172036   45      M    B  ...    Eastern  2014-01-09  13:15:00\n",
              "172037   23      M    B  ...  Southeast  2014-01-09  13:05:00\n",
              "172038   32      M    B  ...  Southeast  2014-01-09  13:05:00\n",
              "172039   25      M    B  ...  Southeast  2014-01-09  13:05:00\n",
              "172040   18      M    B  ...  Southeast  2014-01-09  13:05:00\n",
              "172041   25      M    B  ...  Southeast  2014-01-09  13:05:00\n",
              "172042   51      M    B  ...  Southeast  2014-01-09  12:50:00\n",
              "172043   20      F    B  ...   Southern  2014-01-09  12:45:00\n",
              "172044   28      M    B  ...  Southeast  2014-01-09  12:40:00\n",
              "172045   23      M    U  ...       <NA>  2014-01-09  12:40:00\n",
              "172046   49      M    W  ...       <NA>  2014-01-09  12:30:00\n",
              "172047   40      M    B  ...   Southern  2014-01-09  12:30:00\n",
              "172048   23      M    W  ...       <NA>  2014-01-09  12:00:00\n",
              "172049   43      F    B  ...       <NA>  2014-01-09  12:00:00\n",
              "172050   23      M    W  ...       <NA>  2014-01-09  12:00:00\n",
              "172051   20      M    B  ...    Central  2014-01-09  11:55:00\n",
              "172052   27      F    B  ...  Southeast  2014-01-09  11:45:00\n",
              "172053   22      M    B  ...   Southern  2014-01-09  11:45:00\n",
              "172054   36      M    B  ...    Eastern  2014-01-09  11:30:00\n",
              "172055   22      M    B  ...       <NA>  2014-01-09  11:30:00\n",
              "172056   57      M    W  ...       <NA>  2014-01-09  11:15:00\n",
              "172057   19      M    B  ...       <NA>  2014-01-09  11:00:00\n",
              "172058   34      M    B  ...       <NA>  2014-01-09  11:00:00\n",
              "172059   19      M    B  ...       <NA>  2014-01-09  11:00:00\n",
              "172060   22      M    B  ...   Southern  2014-01-09  10:55:00\n",
              "172061   19      M    B  ...   Southern  2014-01-09  10:55:00\n",
              "172062   20      M    B  ...    Central  2014-01-09  10:50:00\n",
              "172063   35      M    B  ...  Northeast  2014-01-09  10:45:00\n",
              "172064   35      M    B  ...       <NA>  2014-01-09  10:45:00\n",
              "172065   23      F    B  ...       <NA>  2014-01-09  10:40:00\n",
              "172066   44      M    B  ...       <NA>  2014-01-09  10:30:00\n",
              "172067   23      M    B  ...       <NA>  2014-01-09  10:30:00\n",
              "172068   42      M    B  ...  Northeast  2014-01-09  10:25:00\n",
              "172069   31      F    B  ...       <NA>  2014-01-09  10:15:00\n",
              "172070   49      M    B  ...  Northwest  2014-01-09  10:00:00\n",
              "172071   26      F    W  ...       <NA>  2014-01-09  09:55:00\n",
              "172072   42      M    U  ...  Southwest  2014-01-09  09:30:00\n",
              "172073   25      M    W  ...    Western  2014-01-09  09:30:00\n",
              "172074   41      M    W  ...  Southeast  2014-01-09  09:30:00\n",
              "172075   36      M    B  ...       <NA>  2014-01-09  09:15:00\n",
              "172076   34      M    B  ...    Eastern  2014-01-09  09:15:00\n",
              "172077   58      M    B  ...  Southwest  2014-01-09  09:00:00\n",
              "172078   29      M    B  ...    Eastern  2014-01-09  09:00:00\n",
              "172079   51      M    B  ...  Southwest  2014-01-09  09:00:00\n",
              "172080   25      M    B  ...       <NA>  2014-01-09  08:30:00\n",
              "172081   23      M    W  ...   Northern  2014-01-09  08:30:00\n",
              "172082   59      M    B  ...       <NA>  2014-01-09  08:30:00\n",
              "172083   40      M    B  ...       <NA>  2014-01-09  08:00:00\n",
              "172084   25      M    B  ...       <NA>  2014-01-09  07:30:00\n",
              "172085   27      F    B  ...       <NA>  2014-01-09  06:30:00\n",
              "172086   20      M    B  ...    Western  2014-01-09  06:13:00\n",
              "172087    0      M    B  ...       <NA>  2014-01-09  05:30:00\n",
              "172088   32      M    B  ...       <NA>  2014-01-09  05:30:00\n",
              "172089   32      M    B  ...       <NA>  2014-01-09  05:30:00\n",
              "172090   34      M    B  ...       <NA>  2014-01-09  04:45:00\n",
              "172091   21      M    B  ...  Northeast  2014-01-09  04:42:00\n",
              "172092   20      M    B  ...  Northeast  2014-01-09  04:40:00\n",
              "172093   24      M    B  ...  Northeast  2014-01-09  04:40:00\n",
              "172094   18      M    B  ...  Northeast  2014-01-09  04:40:00\n",
              "172095   25      M    B  ...       <NA>  2014-01-09  04:25:00\n",
              "172096   25      M    B  ...    Western  2014-01-09  04:15:00\n",
              "172097   22      F    B  ...  Northwest  2014-01-09  04:00:00\n",
              "172098   52      F    B  ...       <NA>  2014-01-09  04:00:00\n",
              "172099   47      M    B  ...    Western  2014-01-09  03:40:00\n",
              "172100   49      M    B  ...    Western  2014-01-09  03:35:00\n",
              "172101   20      F    B  ...       <NA>  2014-01-09  03:14:00\n",
              "172102   26      F    W  ...       <NA>  2014-01-09  03:02:00\n",
              "172103   21      M    B  ...  Northeast  2014-01-09  03:00:00\n",
              "172104   26      F    W  ...       <NA>  2014-01-09  02:53:00\n",
              "172105   25      M    B  ...  Northeast  2014-01-09  02:44:00\n",
              "172106   36      F    W  ...       <NA>  2014-01-09  02:35:00\n",
              "172107   45      M    W  ...       <NA>  2014-01-09  02:30:00\n",
              "172108   27      M    W  ...   Southern  2014-01-09  02:18:00\n",
              "172109   32      M    W  ...    Central  2014-01-09  02:00:00\n",
              "172110   40      M    U  ...  Southeast  2014-01-09  01:51:00\n",
              "172111   28      M    B  ...  Northeast  2014-01-09  01:50:00\n",
              "172112   20      M    B  ...       <NA>  2014-01-09  01:50:00\n",
              "172113   31      M    B  ...    Central  2014-01-09  01:47:00\n",
              "172114   21      M    B  ...  Southeast  2014-01-09  01:20:00\n",
              "172115   28      M    B  ...  Southeast  2014-01-09  01:19:00\n",
              "172116   34      M    B  ...       <NA>  2014-01-09  01:00:00\n",
              "172117   22      M    B  ...  Northwest  2014-01-09  00:35:00\n",
              "172118   19      M    B  ...       <NA>  2014-01-09  00:28:00\n",
              "172119   33      M    W  ...       <NA>  2014-01-09  00:28:00\n",
              "172120   48      M    W  ...       <NA>  2014-01-09  00:28:00\n",
              "172121   20      M    B  ...  Southwest  2014-01-09  00:22:00\n",
              "172122   29      M    W  ...       <NA>  2014-01-09  00:02:00\n",
              "\n",
              "[177 rows x 8 columns]"
            ]
          },
          "metadata": {},
          "execution_count": 21
        }
      ]
    },
    {
      "cell_type": "markdown",
      "metadata": {
        "id": "q7RCrYsNjhli"
      },
      "source": [
        "Lets print a summary of what occured on that day"
      ]
    },
    {
      "cell_type": "code",
      "metadata": {
        "colab": {
          "base_uri": "https://localhost:8080/"
        },
        "id": "lP-aOreSkFpd",
        "outputId": "060a3d36-6a91-45b4-b89d-231ce31db35b"
      },
      "source": [
        "#Setting this back to 10 for sanity reasons\n",
        "pd.set_option('display.max_rows', 10)\n",
        "print(dfLargeArrests.describe(include='all').T)"
      ],
      "execution_count": null,
      "outputs": [
        {
          "output_type": "stream",
          "name": "stdout",
          "text": [
            "                  count unique              top freq  ...  25%  50%  75%  max\n",
            "Age                 177    NaN              NaN  NaN  ...   22   27   40   67\n",
            "Gender              177      2                M  144  ...  NaN  NaN  NaN  NaN\n",
            "Race                177      3                B  150  ...  NaN  NaN  NaN  NaN\n",
            "IncidentOffence     177     22  Unknown Offense   69  ...  NaN  NaN  NaN  NaN\n",
            "ChargeDescription   177     79    CDS VIOLATION   24  ...  NaN  NaN  NaN  NaN\n",
            "District            113      9        Southeast   20  ...  NaN  NaN  NaN  NaN\n",
            "date                177      1       2014-01-09  177  ...  NaN  NaN  NaN  NaN\n",
            "time                177    107         13:05:00    5  ...  NaN  NaN  NaN  NaN\n",
            "\n",
            "[8 rows x 11 columns]\n"
          ]
        }
      ]
    },
    {
      "cell_type": "code",
      "metadata": {
        "colab": {
          "base_uri": "https://localhost:8080/"
        },
        "id": "ONWy8CeKopR4",
        "outputId": "02583397-e6d8-4df9-e7a5-31a3801d4f55"
      },
      "source": [
        "n = 10\n",
        "dfConverted['ChargeDescription'].value_counts()[:n].index.tolist()"
      ],
      "execution_count": null,
      "outputs": [
        {
          "output_type": "execute_result",
          "data": {
            "text/plain": [
              "['FAILURE TO APPEAR',\n",
              " 'ASSAULT-SEC DEGREE',\n",
              " 'CDS VIOLATION',\n",
              " 'CDS',\n",
              " 'Unknown Charge',\n",
              " 'COMMON ASSAULT',\n",
              " 'VIOLATION OF PROBATION',\n",
              " 'HGV',\n",
              " 'ASSAULT-FIRST DEGREE',\n",
              " 'ASSAULT']"
            ]
          },
          "metadata": {},
          "execution_count": 23
        }
      ]
    },
    {
      "cell_type": "code",
      "metadata": {
        "colab": {
          "base_uri": "https://localhost:8080/"
        },
        "id": "cdX2sZnnk3_H",
        "outputId": "6d818ba1-6064-4ad0-c6da-581b7a55addd"
      },
      "source": [
        "from matplotlib import pyplot as plt\n",
        "%matplotlib inline\n",
        "dfLargeArrests['ChargeDescription'].value_counts()[:n].plot.bar()"
      ],
      "execution_count": null,
      "outputs": [
        {
          "output_type": "execute_result",
          "data": {
            "text/plain": [
              "<matplotlib.axes._subplots.AxesSubplot at 0x7ff5fb570190>"
            ]
          },
          "metadata": {},
          "execution_count": 24
        },
        {
          "output_type": "display_data",
          "data": {
            "image/png": "[encoded data removed]",
            "text/plain": [
              "<Figure size 432x288 with 1 Axes>"
            ]
          },
          "metadata": {
            "needs_background": "light"
          }
        }
      ]
    },
    {
      "cell_type": "markdown",
      "metadata": {
        "id": "t17PtbESkwjc"
      },
      "source": [
        "Disregarding \"Faliure To Appear\", it seems most of these arrests were  CDS aka Controlled Dangerous Substance charges. This makes sense as people are comming off of the holidays at this point. Perhaps they are trying out their new \"preasents\""
      ]
    },
    {
      "cell_type": "code",
      "metadata": {
        "colab": {
          "base_uri": "https://localhost:8080/"
        },
        "id": "SxEwxuK8qUVG",
        "outputId": "d68ccec4-a5a0-4c2e-884e-621bbd3a9490"
      },
      "source": [
        "n=7\n",
        "dfConverted['date'].value_counts()[:n].plot.bar()"
      ],
      "execution_count": null,
      "outputs": [
        {
          "output_type": "execute_result",
          "data": {
            "text/plain": [
              "<matplotlib.axes._subplots.AxesSubplot at 0x7ff5fb468290>"
            ]
          },
          "metadata": {},
          "execution_count": 25
        },
        {
          "output_type": "display_data",
          "data": {
            "image/png": "[encoded data removed]",
            "text/plain": [
              "<Figure size 432x288 with 1 Axes>"
            ]
          },
          "metadata": {
            "needs_background": "light"
          }
        }
      ]
    },
    {
      "cell_type": "markdown",
      "metadata": {
        "id": "ug1iZa8UrEqF"
      },
      "source": [
        "This is Furthur backed up by the chart above. Arrests seem to occur\n",
        "- a couple days following holidays like christmas or easter\n",
        "- a couple days after pseudo holidays like 4/20 (weed day)\n",
        "- and in warmer months like June when people are more out and about."
      ]
    },
    {
      "cell_type": "markdown",
      "metadata": {
        "id": "bKljo9BSbr-b"
      },
      "source": [
        "Next I will gather a visual summary of my numerical data"
      ]
    },
    {
      "cell_type": "code",
      "metadata": {
        "id": "9xJFJurabG7k",
        "colab": {
          "base_uri": "https://localhost:8080/"
        },
        "outputId": "b479fc11-455a-4a3b-9442-bb12c290cc64"
      },
      "source": [
        "from matplotlib import pyplot as plt\n",
        "%matplotlib inline\n",
        "\n",
        "axes = dfConverted[['Age','Gender','Race','IncidentOffence', 'ChargeDescription', 'District', 'date', 'time']].hist(bins=50, figsize=(20,15))\n",
        "#Learned how to do the for loop for multi graph labeling here: https://stackoverflow.com/questions/69329880/how-do-i-label-the-x-y-axis-of-multiple-graphs-on-a-single-graph/69329975#69329975\n",
        "for ax in axes[0]:\n",
        "  ax.set_xlabel('x')\n",
        "  ax.set_ylabel('y')\n",
        "plt.show()"
      ],
      "execution_count": null,
      "outputs": [
        {
          "output_type": "display_data",
          "data": {
            "image/png": "[encoded data removed]",
            "text/plain": [
              "<Figure size 1440x1080 with 1 Axes>"
            ]
          },
          "metadata": {
            "needs_background": "light"
          }
        }
      ]
    },
    {
      "cell_type": "markdown",
      "metadata": {
        "id": "9xw6mhawsJPh"
      },
      "source": [
        "Seems most Baltimore residents are being arrested in their mid twenties with a less noticable hump occuring in their late 40s.\n",
        "- There are many factors that can play into why kids in their mid 20s are being arrested as a professor of criminal justice told the new york times [2]\n",
        "\n",
        "[2] https://www.nytimes.com/2011/12/19/us/nearly-a-third-of-americans-are-arrested-by-23-study-says.html"
      ]
    },
    {
      "cell_type": "markdown",
      "metadata": {
        "id": "nxZVvvQ6bJ0q"
      },
      "source": [
        "####Multicolinearity check\n",
        "Since descision trees are one of the methods I want to attempt to apply, I need to make sure that the columns are not highly correlated to each other.\n",
        "\n",
        "So the first thing I'll check for is if there is any multicoliniarity in my numerical data"
      ]
    },
    {
      "cell_type": "code",
      "metadata": {
        "colab": {
          "base_uri": "https://localhost:8080/",
          "height": 268
        },
        "id": "XeoH-XrBpKYw",
        "outputId": "3dba5263-f18a-44ff-b9c3-41adf3cac615"
      },
      "source": [
        "import seaborn as sns\n",
        "sns.heatmap(dfConverted.corr(),cmap='RdYlGn_r', annot=True, vmin=-1.0, vmax=1.0)\n",
        "plt.show()"
      ],
      "execution_count": null,
      "outputs": [
        {
          "output_type": "display_data",
          "data": {
            "image/png": "[encoded data removed]",
            "text/plain": [
              "<Figure size 432x288 with 2 Axes>"
            ]
          },
          "metadata": {
            "needs_background": "light"
          }
        }
      ]
    },
    {
      "cell_type": "markdown",
      "metadata": {
        "id": "m71trl-qxXz2"
      },
      "source": [
        "I only have 1 numerical Variable so it would make sense that it is fully correlated with itself.\n",
        "\n",
        "But how would I check for multicolinearity with my other variables?\n",
        "Accorfing to Deepanshu Bhalla of listendata.com[3], \"For categorical variables, multicollinearity can be detected with Spearman rank correlation coefficient for ordinal variables and chi-square test for nominal variables.\"\n",
        "\n",
        "A nominal variable has no inherent ordering. Race, for example, is a categorical variable because there are 6 categories (w, B, A, I, U, and most recently O) and you cant place an order on them in an order naturally.\n",
        "\n",
        "A variable with an ordinal value has a distinct ordering. The date and time columns would both be ordinal as the objects have a clear timeline. i.e. 2014-01-09\tcoomes before 2014-01-10 and 03:40:00 is earlier than 11:00:00\t\n",
        "\n",
        "[3] https://www.listendata.com/2015/04/detecting-multicollinearity-in-categorical-variables.html"
      ]
    },
    {
      "cell_type": "markdown",
      "metadata": {
        "id": "F_vblKnQ2Sls"
      },
      "source": [
        "#####Spearman rank correlation\n",
        "Below Is a seaborn plot checking for multicolinearity between date and time"
      ]
    },
    {
      "cell_type": "code",
      "metadata": {
        "id": "EeDnvQGSbJDT",
        "colab": {
          "base_uri": "https://localhost:8080/",
          "height": 350
        },
        "outputId": "709b7f21-052e-43af-dea9-221795298d48"
      },
      "source": [
        "import seaborn as sns\n",
        "#Adopted from here: https://stackoverflow.com/questions/53014323/plotting-a-heatmap-with-categorical-data\n",
        "year = 'date'\n",
        "bins = 'time'\n",
        "Firm = 'Age'\n",
        "grouped = dfConverted.groupby([year,bins]).nunique()[Firm].reset_index([0,1])\n",
        "piv_grouped = grouped.pivot(index=bins, columns=year, values=Firm)\n",
        "sns.heatmap(piv_grouped, cmap='RdYlGn_r', annot=True)"
      ],
      "execution_count": null,
      "outputs": [
        {
          "output_type": "execute_result",
          "data": {
            "text/plain": [
              "<matplotlib.axes._subplots.AxesSubplot at 0x7fa09c5df110>"
            ]
          },
          "metadata": {},
          "execution_count": 44
        },
        {
          "output_type": "display_data",
          "data": {
            "image/png": "[encoded data removed]",
            "text/plain": [
              "<Figure size 432x288 with 2 Axes>"
            ]
          },
          "metadata": {
            "needs_background": "light"
          }
        }
      ]
    },
    {
      "cell_type": "markdown",
      "metadata": {
        "id": "PJGZe0tQ2i5w"
      },
      "source": [
        "A majority of the heatmap is green which means there is no multicoliniarity"
      ]
    },
    {
      "cell_type": "markdown",
      "metadata": {
        "id": "q_H99ULm3Ali"
      },
      "source": [
        "#####chi-square test\n",
        "The easiest way to perform a Chi-Square Test is to create a contingency table from the frequency of values[4]\n",
        "I'll begin with checking the multicoliniarity between Gender and Race\n",
        "\n",
        "[4] https://predictivehacks.com/how-to-run-chi-square-test-in-python/"
      ]
    },
    {
      "cell_type": "code",
      "metadata": {
        "colab": {
          "base_uri": "https://localhost:8080/",
          "height": 174
        },
        "id": "jz70-ouz3EMJ",
        "outputId": "a5e4b804-78cf-4352-f234-8bb361063d97"
      },
      "source": [
        "import pandas as pd\n",
        "import numpy as np\n",
        "from scipy.stats import chi2_contingency\n",
        " \n",
        "import seaborn as sns\n",
        "import matplotlib.pyplot as plt\n",
        "%matplotlib inline \n",
        "contigency= pd.crosstab(dfConverted['Gender'], dfConverted['Race'])\n",
        "contigency"
      ],
      "execution_count": null,
      "outputs": [
        {
          "output_type": "execute_result",
          "data": {
            "text/html": [
              "<div>\n",
              "<style scoped>\n",
              "    .dataframe tbody tr th:only-of-type {\n",
              "        vertical-align: middle;\n",
              "    }\n",
              "\n",
              "    .dataframe tbody tr th {\n",
              "        vertical-align: top;\n",
              "    }\n",
              "\n",
              "    .dataframe thead th {\n",
              "        text-align: right;\n",
              "    }\n",
              "</style>\n",
              "<table border=\"1\" class=\"dataframe\">\n",
              "  <thead>\n",
              "    <tr style=\"text-align: right;\">\n",
              "      <th>Race</th>\n",
              "      <th>A</th>\n",
              "      <th>B</th>\n",
              "      <th>I</th>\n",
              "      <th>O</th>\n",
              "      <th>U</th>\n",
              "      <th>W</th>\n",
              "    </tr>\n",
              "    <tr>\n",
              "      <th>Gender</th>\n",
              "      <th></th>\n",
              "      <th></th>\n",
              "      <th></th>\n",
              "      <th></th>\n",
              "      <th></th>\n",
              "      <th></th>\n",
              "    </tr>\n",
              "  </thead>\n",
              "  <tbody>\n",
              "    <tr>\n",
              "      <th>F</th>\n",
              "      <td>111</td>\n",
              "      <td>24286</td>\n",
              "      <td>76</td>\n",
              "      <td>0</td>\n",
              "      <td>499</td>\n",
              "      <td>8821</td>\n",
              "    </tr>\n",
              "    <tr>\n",
              "      <th>M</th>\n",
              "      <td>332</td>\n",
              "      <td>120306</td>\n",
              "      <td>421</td>\n",
              "      <td>0</td>\n",
              "      <td>3457</td>\n",
              "      <td>17575</td>\n",
              "    </tr>\n",
              "    <tr>\n",
              "      <th>U</th>\n",
              "      <td>0</td>\n",
              "      <td>0</td>\n",
              "      <td>0</td>\n",
              "      <td>39</td>\n",
              "      <td>0</td>\n",
              "      <td>0</td>\n",
              "    </tr>\n",
              "  </tbody>\n",
              "</table>\n",
              "</div>"
            ],
            "text/plain": [
              "Race      A       B    I   O     U      W\n",
              "Gender                                   \n",
              "F       111   24286   76   0   499   8821\n",
              "M       332  120306  421   0  3457  17575\n",
              "U         0       0    0  39     0      0"
            ]
          },
          "metadata": {},
          "execution_count": 29
        }
      ]
    },
    {
      "cell_type": "markdown",
      "metadata": {
        "id": "v5ExDhVs5KOr"
      },
      "source": [
        "Thise just look like a bunch of numbers to me. So I will vreate a heatmap to visualize it more easily"
      ]
    },
    {
      "cell_type": "code",
      "metadata": {
        "colab": {
          "base_uri": "https://localhost:8080/",
          "height": 300
        },
        "id": "HfsAMCg33ndm",
        "outputId": "9142e12c-9655-48c6-9282-be75968a46b9"
      },
      "source": [
        "sns.heatmap(contigency, annot=True, cmap=\"RdYlGn_r\")"
      ],
      "execution_count": null,
      "outputs": [
        {
          "output_type": "execute_result",
          "data": {
            "text/plain": [
              "<matplotlib.axes._subplots.AxesSubplot at 0x7fa072172090>"
            ]
          },
          "metadata": {},
          "execution_count": 47
        },
        {
          "output_type": "display_data",
          "data": {
            "image/png": "[encoded data removed]",
            "text/plain": [
              "<Figure size 432x288 with 2 Axes>"
            ]
          },
          "metadata": {
            "needs_background": "light"
          }
        }
      ]
    },
    {
      "cell_type": "code",
      "metadata": {
        "colab": {
          "base_uri": "https://localhost:8080/"
        },
        "id": "eL56GGNY34O1",
        "outputId": "ed6d0838-5eaa-441a-f9a3-8b57ff68bfa5"
      },
      "source": [
        "# Chi-square test of independence.\n",
        "c, p, dof, expected = chi2_contingency(contigency)\n",
        "p"
      ],
      "execution_count": null,
      "outputs": [
        {
          "output_type": "execute_result",
          "data": {
            "text/plain": [
              "0.0"
            ]
          },
          "metadata": {},
          "execution_count": 48
        }
      ]
    },
    {
      "cell_type": "markdown",
      "metadata": {
        "id": "HW7V0ejZ360j"
      },
      "source": [
        "The p-value here is 0% which means that we do not reject the null hypothesis at 95% level of confidence.[4] The null hypothesis was that Gender and Race are independent. Therefore now know that Gender and race are completely independent from each other. \n",
        "\n",
        "Now lets compare the other nominal variables (incident offence and charge description) to and determine p statistics for all of them.\n",
        "\n"
      ]
    },
    {
      "cell_type": "code",
      "metadata": {
        "colab": {
          "base_uri": "https://localhost:8080/"
        },
        "id": "fEY1ojoL58Pf",
        "outputId": "1ea6e719-1538-43f5-eb3b-b1b7d50dda08"
      },
      "source": [
        "contigencyGI= pd.crosstab(dfConverted['Gender'], dfConverted['IncidentOffence'])\n",
        "contigencyGC= pd.crosstab(dfConverted['Gender'], dfConverted['ChargeDescription'])\n",
        "contigencyRI= pd.crosstab(dfConverted['Race'], dfConverted['IncidentOffence'])\n",
        "contigencyRC= pd.crosstab(dfConverted['Race'], dfConverted['ChargeDescription'])\n",
        "contigencyCI= pd.crosstab(dfConverted['ChargeDescription'], dfConverted['IncidentOffence'])\n",
        "\n",
        "c, GIpStat, dof, expected = chi2_contingency(contigencyGI)\n",
        "c, GCpStat, dof, expected = chi2_contingency(contigencyGC)\n",
        "c, RIpStat, dof, expected = chi2_contingency(contigencyRI)\n",
        "c, RCpStat, dof, expected = chi2_contingency(contigencyRC)\n",
        "c, CIpStat, dof, expected = chi2_contingency(contigencyCI)\n",
        "\n",
        "print(\"Pstat btwn Gender and Incident Offecnce is: \", GIpStat)\n",
        "print(\"Pstat btwn Gender and Charge Description is: \", GCpStat)\n",
        "print(\"Pstat btwn Race and Incident Offecnce is: \", RIpStat)\n",
        "print(\"Pstat btwn Race and Charge Description is: \", RCpStat)\n",
        "print(\"Pstat btwn Charge Description and Incident Offecnce is: \", CIpStat)"
      ],
      "execution_count": null,
      "outputs": [
        {
          "output_type": "stream",
          "name": "stdout",
          "text": [
            "Pstat btwn Gender and Incident Offecnce is: %f 0.0\n",
            "Pstat btwn Gender and Charge Description is: %f 9.044134031092239e-170\n",
            "Pstat btwn Race and Incident Offecnce is: %f 0.0\n",
            "Pstat btwn Race and Charge Description is: %f 1.4298290944869867e-265\n",
            "Pstat btwn Charge Description and Incident Offecnce is: %f 0.0\n"
          ]
        }
      ]
    },
    {
      "cell_type": "markdown",
      "metadata": {
        "id": "QBP69GH28WLc"
      },
      "source": [
        "All of my nominal variables have little to no multicolliniarity with each other"
      ]
    },
    {
      "cell_type": "markdown",
      "metadata": {
        "id": "pxtsn0h1aoNe"
      },
      "source": [
        "#Modeling, Preprocessing, and cleaning\n"
      ]
    },
    {
      "cell_type": "markdown",
      "metadata": {
        "id": "sdoq1yWhIZ9k"
      },
      "source": [
        "With the comletion of the EDA, I will move on to modeling.\n",
        "\n",
        "First lets remind ourselves of what columns we're working with"
      ]
    },
    {
      "cell_type": "code",
      "metadata": {
        "id": "HlCJnQf0S2Uf",
        "outputId": "87e4f497-254a-4df8-b8a7-037148c2016e",
        "colab": {
          "base_uri": "https://localhost:8080/"
        }
      },
      "source": [
        "print(dfConverted.dtypes)\n",
        "print(print(dfConverted.isna().sum()))"
      ],
      "execution_count": null,
      "outputs": [
        {
          "output_type": "stream",
          "name": "stdout",
          "text": [
            "Age                   Int64\n",
            "Gender               string\n",
            "Race                 string\n",
            "IncidentOffence      string\n",
            "ChargeDescription    string\n",
            "District             string\n",
            "date                 object\n",
            "time                 object\n",
            "dtype: object\n",
            "Age                      0\n",
            "Gender                   0\n",
            "Race                     0\n",
            "IncidentOffence          0\n",
            "ChargeDescription        0\n",
            "District             86032\n",
            "date                     0\n",
            "time                     0\n",
            "dtype: int64\n",
            "None\n"
          ]
        }
      ]
    },
    {
      "cell_type": "markdown",
      "source": [
        "####Drop all the NAs from District\n",
        "Despite the immense amount of NA values in our target variable, it is better to drop the rows that have no district rather than naively attempt to fill in the values."
      ],
      "metadata": {
        "id": "65GUdQqry7DV"
      }
    },
    {
      "cell_type": "code",
      "source": [
        "dfConverted = dfConverted.dropna()"
      ],
      "metadata": {
        "id": "wIM1ho7tzlkG"
      },
      "execution_count": null,
      "outputs": []
    },
    {
      "cell_type": "code",
      "source": [
        "print(dfConverted.isna().sum())\n",
        "dfConverted"
      ],
      "metadata": {
        "id": "pfEis5TcztSJ",
        "outputId": "a5c74202-5da2-471f-d7ca-e595f6048908",
        "colab": {
          "base_uri": "https://localhost:8080/",
          "height": 580
        }
      },
      "execution_count": null,
      "outputs": [
        {
          "output_type": "stream",
          "name": "stdout",
          "text": [
            "Age                  0\n",
            "Gender               0\n",
            "Race                 0\n",
            "IncidentOffence      0\n",
            "ChargeDescription    0\n",
            "District             0\n",
            "date                 0\n",
            "time                 0\n",
            "dtype: int64\n"
          ]
        },
        {
          "output_type": "execute_result",
          "data": {
            "text/html": [
              "<div>\n",
              "<style scoped>\n",
              "    .dataframe tbody tr th:only-of-type {\n",
              "        vertical-align: middle;\n",
              "    }\n",
              "\n",
              "    .dataframe tbody tr th {\n",
              "        vertical-align: top;\n",
              "    }\n",
              "\n",
              "    .dataframe thead th {\n",
              "        text-align: right;\n",
              "    }\n",
              "</style>\n",
              "<table border=\"1\" class=\"dataframe\">\n",
              "  <thead>\n",
              "    <tr style=\"text-align: right;\">\n",
              "      <th></th>\n",
              "      <th>Age</th>\n",
              "      <th>Gender</th>\n",
              "      <th>Race</th>\n",
              "      <th>IncidentOffence</th>\n",
              "      <th>ChargeDescription</th>\n",
              "      <th>District</th>\n",
              "      <th>date</th>\n",
              "      <th>time</th>\n",
              "    </tr>\n",
              "  </thead>\n",
              "  <tbody>\n",
              "    <tr>\n",
              "      <th>0</th>\n",
              "      <td>27</td>\n",
              "      <td>M</td>\n",
              "      <td>B</td>\n",
              "      <td>96BINVESTIGATIVE STOP</td>\n",
              "      <td>HAND GUN VIOLATION</td>\n",
              "      <td>Southwest</td>\n",
              "      <td>2020-12-31</td>\n",
              "      <td>23:50:00</td>\n",
              "    </tr>\n",
              "    <tr>\n",
              "      <th>1</th>\n",
              "      <td>45</td>\n",
              "      <td>F</td>\n",
              "      <td>B</td>\n",
              "      <td>Unknown Offense</td>\n",
              "      <td>AUTO THEFT</td>\n",
              "      <td>Western</td>\n",
              "      <td>2020-12-31</td>\n",
              "      <td>23:45:00</td>\n",
              "    </tr>\n",
              "    <tr>\n",
              "      <th>2</th>\n",
              "      <td>42</td>\n",
              "      <td>F</td>\n",
              "      <td>W</td>\n",
              "      <td>Unknown Offense</td>\n",
              "      <td>2ND DEGREE ASSAULT</td>\n",
              "      <td>Southwest</td>\n",
              "      <td>2020-12-31</td>\n",
              "      <td>23:40:00</td>\n",
              "    </tr>\n",
              "    <tr>\n",
              "      <th>3</th>\n",
              "      <td>26</td>\n",
              "      <td>M</td>\n",
              "      <td>B</td>\n",
              "      <td>Unknown Offense</td>\n",
              "      <td>PWID</td>\n",
              "      <td>Southern</td>\n",
              "      <td>2020-12-31</td>\n",
              "      <td>21:45:00</td>\n",
              "    </tr>\n",
              "    <tr>\n",
              "      <th>4</th>\n",
              "      <td>19</td>\n",
              "      <td>M</td>\n",
              "      <td>B</td>\n",
              "      <td>Unknown Offense</td>\n",
              "      <td>PWID</td>\n",
              "      <td>Southern</td>\n",
              "      <td>2020-12-31</td>\n",
              "      <td>21:45:00</td>\n",
              "    </tr>\n",
              "    <tr>\n",
              "      <th>...</th>\n",
              "      <td>...</td>\n",
              "      <td>...</td>\n",
              "      <td>...</td>\n",
              "      <td>...</td>\n",
              "      <td>...</td>\n",
              "      <td>...</td>\n",
              "      <td>...</td>\n",
              "      <td>...</td>\n",
              "    </tr>\n",
              "    <tr>\n",
              "      <th>175917</th>\n",
              "      <td>27</td>\n",
              "      <td>M</td>\n",
              "      <td>B</td>\n",
              "      <td>Unknown Offense</td>\n",
              "      <td>HANDGUN VIOLATION</td>\n",
              "      <td>Northeast</td>\n",
              "      <td>2014-01-01</td>\n",
              "      <td>00:05:00</td>\n",
              "    </tr>\n",
              "    <tr>\n",
              "      <th>175918</th>\n",
              "      <td>35</td>\n",
              "      <td>M</td>\n",
              "      <td>B</td>\n",
              "      <td>Unknown Offense</td>\n",
              "      <td>FIREARM VIOLATION</td>\n",
              "      <td>Northeast</td>\n",
              "      <td>2014-01-01</td>\n",
              "      <td>00:05:00</td>\n",
              "    </tr>\n",
              "    <tr>\n",
              "      <th>175919</th>\n",
              "      <td>41</td>\n",
              "      <td>M</td>\n",
              "      <td>B</td>\n",
              "      <td>83DISCHARGING FIREARM</td>\n",
              "      <td>DISCHARGING</td>\n",
              "      <td>Southwest</td>\n",
              "      <td>2014-01-01</td>\n",
              "      <td>00:05:00</td>\n",
              "    </tr>\n",
              "    <tr>\n",
              "      <th>175920</th>\n",
              "      <td>36</td>\n",
              "      <td>F</td>\n",
              "      <td>B</td>\n",
              "      <td>83DISCHARGING FIREARM</td>\n",
              "      <td>DISCHARGING</td>\n",
              "      <td>Southwest</td>\n",
              "      <td>2014-01-01</td>\n",
              "      <td>00:05:00</td>\n",
              "    </tr>\n",
              "    <tr>\n",
              "      <th>175921</th>\n",
              "      <td>30</td>\n",
              "      <td>M</td>\n",
              "      <td>B</td>\n",
              "      <td>83DISCHARGING FIREARM</td>\n",
              "      <td>HGV</td>\n",
              "      <td>Southwest</td>\n",
              "      <td>2014-01-01</td>\n",
              "      <td>00:05:00</td>\n",
              "    </tr>\n",
              "  </tbody>\n",
              "</table>\n",
              "<p>89891 rows × 8 columns</p>\n",
              "</div>"
            ],
            "text/plain": [
              "        Age Gender Race  ...   District        date      time\n",
              "0        27      M    B  ...  Southwest  2020-12-31  23:50:00\n",
              "1        45      F    B  ...    Western  2020-12-31  23:45:00\n",
              "2        42      F    W  ...  Southwest  2020-12-31  23:40:00\n",
              "3        26      M    B  ...   Southern  2020-12-31  21:45:00\n",
              "4        19      M    B  ...   Southern  2020-12-31  21:45:00\n",
              "...     ...    ...  ...  ...        ...         ...       ...\n",
              "175917   27      M    B  ...  Northeast  2014-01-01  00:05:00\n",
              "175918   35      M    B  ...  Northeast  2014-01-01  00:05:00\n",
              "175919   41      M    B  ...  Southwest  2014-01-01  00:05:00\n",
              "175920   36      F    B  ...  Southwest  2014-01-01  00:05:00\n",
              "175921   30      M    B  ...  Southwest  2014-01-01  00:05:00\n",
              "\n",
              "[89891 rows x 8 columns]"
            ]
          },
          "metadata": {},
          "execution_count": 55
        }
      ]
    },
    {
      "cell_type": "markdown",
      "source": [
        "With this our dataset is ready for modeling"
      ],
      "metadata": {
        "id": "JRmoYs09zuyS"
      }
    },
    {
      "cell_type": "markdown",
      "metadata": {
        "id": "suO5ZiHcb05a"
      },
      "source": [
        "####Splitting Training and Test sets"
      ]
    },
    {
      "cell_type": "code",
      "source": [
        "print(dfConverted.District)"
      ],
      "metadata": {
        "colab": {
          "base_uri": "https://localhost:8080/"
        },
        "id": "apgd_OqFqbdJ",
        "outputId": "e5987095-8f3c-4a2a-c54c-79793cd3e25b"
      },
      "execution_count": null,
      "outputs": [
        {
          "output_type": "stream",
          "name": "stdout",
          "text": [
            "0         Southwest\n",
            "1           Western\n",
            "2         Southwest\n",
            "3          Southern\n",
            "4          Southern\n",
            "            ...    \n",
            "175918    Northeast\n",
            "175919    Southwest\n",
            "175920    Southwest\n",
            "175921    Southwest\n",
            "175922         None\n",
            "Name: District, Length: 175923, dtype: object\n"
          ]
        }
      ]
    },
    {
      "cell_type": "code",
      "metadata": {
        "id": "6H5hoeWRJXSG",
        "outputId": "28a2bfc7-0a26-4b2c-aa68-44c7d7dba684",
        "colab": {
          "base_uri": "https://localhost:8080/"
        }
      },
      "source": [
        "from sklearn.pipeline import Pipeline\n",
        "from sklearn.compose import ColumnTransformer\n",
        "from sklearn.impute import SimpleImputer\n",
        "from sklearn.preprocessing import OneHotEncoder\n",
        "from sklearn.preprocessing import StandardScaler\n",
        "\n",
        "#First grab all the relvent columns and put em in lists\n",
        "numericalColumns = dfConverted.select_dtypes(include=['Int64'])\n",
        "nonNumericColumns = dfConverted.select_dtypes(exclude=['Int64'])\n",
        "\n",
        "cat_vars = []\n",
        "num_vars = []\n",
        "\n",
        "#This is to make sure I dont include the target variable.\n",
        "for col in numericalColumns.columns:\n",
        "      num_vars.append(col)\n",
        "for col in nonNumericColumns.columns:\n",
        "  if col != 'District':\n",
        "    cat_vars.append(col)\n",
        "\n",
        "#Check to ensure I have everything I want\n",
        "print(\"categorical variable list = \", cat_vars)\n",
        "print(\"numerical variable list = \", num_vars)\n",
        "\n",
        "\n",
        "#Regardless of what methodology I go with, I am going to have to standardize\n",
        "#I know there is no missing data in the Age column so I dont need to impute missing\n",
        "num_pipeline = Pipeline([('standardize_num', StandardScaler())\n",
        "                        ])\n",
        "\n",
        "num_transformer = ColumnTransformer(transformers=[('proc_numeric', num_pipeline, num_vars)])\n",
        "\n",
        "cat_pipeline = Pipeline([('create_dummies_cats', OneHotEncoder(handle_unknown='ignore'))])\n",
        "\n",
        "#I think im not doing this tuple correctly. I think this is why the imputing never happens\n",
        "processing_pipeline = ColumnTransformer(transformers=[('adjust_cats', cat_pipeline, cat_vars),\n",
        "                                                      ('proc_numeric', num_pipeline, num_vars)\n",
        "                                                      \n",
        "                                                     ]\n",
        "                                        )\n",
        "\n",
        "print(processing_pipeline)"
      ],
      "execution_count": null,
      "outputs": [
        {
          "output_type": "stream",
          "name": "stdout",
          "text": [
            "categorical variable list =  ['Gender', 'Race', 'IncidentOffence', 'ChargeDescription', 'date', 'time']\n",
            "numerical variable list =  ['Age']\n",
            "ColumnTransformer(transformers=[('adjust_cats',\n",
            "                                 Pipeline(steps=[('create_dummies_cats',\n",
            "                                                  OneHotEncoder(handle_unknown='ignore'))]),\n",
            "                                 ['Gender', 'Race', 'IncidentOffence',\n",
            "                                  'ChargeDescription', 'date', 'time']),\n",
            "                                ('proc_numeric',\n",
            "                                 Pipeline(steps=[('standardize_num',\n",
            "                                                  StandardScaler())]),\n",
            "                                 ['Age'])])\n"
          ]
        }
      ]
    },
    {
      "cell_type": "code",
      "metadata": {
        "id": "aMF-wKtHJnNi",
        "outputId": "a84881e8-d0bd-408e-c90f-723b3609ca33",
        "colab": {
          "base_uri": "https://localhost:8080/"
        }
      },
      "source": [
        "from sklearn.model_selection import train_test_split\n",
        "X_train, X_test, y_train, y_test = train_test_split(dfConverted[num_vars+cat_vars], dfConverted[\"District\"], test_size=0.25)\n",
        "\n",
        "print(f'Training examples: {X_train.shape[0]:,}')\n",
        "print(f'Test examples: {X_test.shape[0]:,}')"
      ],
      "execution_count": null,
      "outputs": [
        {
          "output_type": "stream",
          "name": "stdout",
          "text": [
            "Training examples: 67,418\n",
            "Test examples: 22,473\n"
          ]
        }
      ]
    },
    {
      "cell_type": "markdown",
      "metadata": {
        "id": "Sod16MxJc6ZV"
      },
      "source": [
        "####Logistic Regression with grid search"
      ]
    },
    {
      "cell_type": "code",
      "metadata": {
        "colab": {
          "base_uri": "https://localhost:8080/"
        },
        "id": "oZQ49WFqc4Tr",
        "outputId": "ca520843-000a-4581-af9f-cbce6fb2951a"
      },
      "source": [
        "from sklearn.linear_model import LogisticRegression\n",
        "from sklearn.model_selection import GridSearchCV\n",
        "from sklearn.pipeline import Pipeline\n",
        "import time\n",
        "start_time = time.time()\n",
        "p1 = Pipeline([('processing', processing_pipeline),\n",
        "             ('lr', LogisticRegression(solver='liblinear'))])\n",
        "\n",
        "#Select various correlation strengths with a magnitude of 10\n",
        "params = {'lr__C': [0.1, 1, 10, 100]}\n",
        "\n",
        "#I will score based on accurancy as that the dataset is not heavily skewed\n",
        "lr_gscv = GridSearchCV(p1, param_grid=params, cv=4, scoring='accuracy', refit=True)\n",
        "\n",
        "lr_gscv = lr_gscv.fit(X_train, y_train)\n",
        "\n",
        "print(f'Validation score: {lr_gscv.best_score_:.2%}')\n",
        "\n",
        "lr_pred = lr_gscv.predict(X_test)\n",
        "\n",
        "print(f'Test score: {lr_gscv.score(X_test, y_test):.2%}')\n",
        "print (\"Runtime: \", time.time() - start_time, \" seconds\")"
      ],
      "execution_count": null,
      "outputs": [
        {
          "output_type": "stream",
          "name": "stdout",
          "text": [
            "Validation score: 23.21%\n",
            "Test score: 23.70%\n",
            "Runtime:  159.67415738105774  seconds\n"
          ]
        }
      ]
    },
    {
      "cell_type": "markdown",
      "source": [
        "Now to check which correlation strength was the best."
      ],
      "metadata": {
        "id": "AVMZpwbI2BKr"
      }
    },
    {
      "cell_type": "code",
      "source": [
        "lr_gscv.best_params_"
      ],
      "metadata": {
        "id": "sHCA__kQ1wlW",
        "outputId": "a916735f-e100-40c3-d28a-c2237f50a265",
        "colab": {
          "base_uri": "https://localhost:8080/"
        }
      },
      "execution_count": null,
      "outputs": [
        {
          "output_type": "execute_result",
          "data": {
            "text/plain": [
              "{'lr__C': 0.1}"
            ]
          },
          "metadata": {},
          "execution_count": 40
        }
      ]
    },
    {
      "cell_type": "markdown",
      "metadata": {
        "id": "IWMGkfq4QTMT"
      },
      "source": [
        "Further Refined Logistic Grid Search"
      ]
    },
    {
      "cell_type": "markdown",
      "metadata": {
        "id": "xIT5sC6VXI0R"
      },
      "source": [
        "Now that we know the best correlation strength is around __, I am going to run it again with values closer to __ to ensure I have the best correlation strength possible"
      ]
    },
    {
      "cell_type": "code",
      "metadata": {
        "id": "UpcsKCiZQSfa",
        "colab": {
          "base_uri": "https://localhost:8080/"
        },
        "outputId": "bce7f1a4-ba0c-4c83-bfdc-0abc86cdd987"
      },
      "source": [
        "start_time = time.time()\n",
        "p1 = Pipeline([('processing', processing_pipeline),\n",
        "             ('lr', LogisticRegression(solver='liblinear'))])\n",
        "\n",
        "#Select correlation strengths near the best one with a magnitude of 2\n",
        "params = {'lr__C': [1/4, 1/2, 1, 2, 4]}\n",
        "\n",
        "#I will score based on accurancy as that the dataset is not heavily skewed\n",
        "lr_gscv = GridSearchCV(p1, param_grid=params, cv=3, scoring='accuracy', refit=True)\n",
        "\n",
        "lr_gscv = lr_gscv.fit(X_train, y_train)\n",
        "\n",
        "print(f'Validation score: {lr_gscv.best_score_:.2%}')\n",
        "\n",
        "lr_pred = lr_gscv.predict(X_test)\n",
        "\n",
        "print(f'Test score: {lr_gscv.score(X_test, y_test):.2%}')\n",
        "print (\"Runtime: \", time.time() - start_time, \" seconds\")"
      ],
      "execution_count": null,
      "outputs": [
        {
          "output_type": "stream",
          "name": "stdout",
          "text": [
            "Validation score: 23.03%\n",
            "Test score: 24.09%\n",
            "Runtime:  75.80291891098022  seconds\n"
          ]
        }
      ]
    },
    {
      "cell_type": "markdown",
      "source": [
        "Even after a refined grid search we were only able to get a test score of approximately 24%"
      ],
      "metadata": {
        "id": "cQ9uMRmu4hx5"
      }
    },
    {
      "cell_type": "markdown",
      "metadata": {
        "id": "-Rt1Xkzzd0se"
      },
      "source": [
        "####Descision Trees"
      ]
    },
    {
      "cell_type": "code",
      "metadata": {
        "id": "tvENq38Kdz6b",
        "colab": {
          "base_uri": "https://localhost:8080/"
        },
        "outputId": "2811d386-df71-4b52-81cb-f85c7786852a"
      },
      "source": [
        "from sklearn.tree import DecisionTreeClassifier\n",
        "from sklearn.model_selection import GridSearchCV\n",
        "from sklearn.pipeline import Pipeline\n",
        "import time\n",
        "start_time = time.time()\n",
        "\n",
        "p2 = Pipeline([('processing', processing_pipeline),\n",
        "             ('dt', DecisionTreeClassifier())])\n",
        "\n",
        "params = {'dt__max_depth': [1, 5, 10, 15, 25],\n",
        "         'dt__min_samples_split': [3, 10, 15]}\n",
        "\n",
        "dt_gscv = GridSearchCV(p2, param_grid=params, cv=4, scoring='accuracy', refit=True)\n",
        "dt_gscv = dt_gscv.fit(X_train, y_train)\n",
        "\n",
        "print(f'Validation score: {dt_gscv.best_score_:.2%}')\n",
        "\n",
        "dt_pred = dt_gscv.predict(X_test)\n",
        "\n",
        "print(f'Test score: {dt_gscv.score(X_test, y_test):.2%}')\n",
        "print (\"Runtime: \", time.time() - start_time, \" seconds\")"
      ],
      "execution_count": null,
      "outputs": [
        {
          "output_type": "stream",
          "name": "stdout",
          "text": [
            "Validation score: 20.76%\n",
            "Test score: 21.22%\n",
            "Runtime:  51.36362266540527  seconds\n"
          ]
        }
      ]
    },
    {
      "cell_type": "markdown",
      "source": [
        "Now to check the descision tree's best parameters"
      ],
      "metadata": {
        "id": "rLrZMoJj4zuH"
      }
    },
    {
      "cell_type": "code",
      "source": [
        "dt_gscv.best_params_"
      ],
      "metadata": {
        "id": "ayFRKRmK41DD",
        "outputId": "758d23e5-5a56-444f-e78c-5d09497a1cf4",
        "colab": {
          "base_uri": "https://localhost:8080/"
        }
      },
      "execution_count": null,
      "outputs": [
        {
          "output_type": "execute_result",
          "data": {
            "text/plain": [
              "{'dt__max_depth': 25, 'dt__min_samples_split': 3}"
            ]
          },
          "metadata": {},
          "execution_count": 43
        }
      ]
    },
    {
      "cell_type": "markdown",
      "source": [
        "Since the best param was at the max and minimum ranges respectively, I'll run a refined grid search on a vastly larger range surrounding those values"
      ],
      "metadata": {
        "id": "7JSBwa295Ip7"
      }
    },
    {
      "cell_type": "markdown",
      "metadata": {
        "id": "3BeSp1pyQanN"
      },
      "source": [
        "Further Refined DT Grid Search"
      ]
    },
    {
      "cell_type": "code",
      "metadata": {
        "id": "mn00EcKUQbBh",
        "colab": {
          "base_uri": "https://localhost:8080/"
        },
        "outputId": "261746aa-a8a4-4d66-dd47-435030e37b68"
      },
      "source": [
        "start_time = time.time()\n",
        "\n",
        "#This wil disable the annoying warnings\n",
        "def warn(*args, **kwargs):\n",
        "    pass\n",
        "import warnings\n",
        "warnings.warn = warn\n",
        "\n",
        "p2 = Pipeline([('processing', processing_pipeline),\n",
        "             ('dt', DecisionTreeClassifier())])\n",
        "\n",
        "params = {'dt__max_depth': [25, 50, 100, 1000],\n",
        "         'dt__min_samples_split': [.01, .1, 1, 2, 3]}\n",
        "\n",
        "dt_gscv = GridSearchCV(p2, param_grid=params, cv=4, scoring='accuracy', refit=True)\n",
        "dt_gscv = dt_gscv.fit(X_train, y_train)\n",
        "\n",
        "print(f'Validation score: {dt_gscv.best_score_:.2%}')\n",
        "\n",
        "dt_pred = dt_gscv.predict(X_test)\n",
        "\n",
        "print(f'Test score: {dt_gscv.score(X_test, y_test):.2%}')\n",
        "print (\"Runtime: \", time.time() - start_time, \" seconds\")"
      ],
      "execution_count": null,
      "outputs": [
        {
          "output_type": "stream",
          "name": "stdout",
          "text": [
            "Validation score: 21.26%\n",
            "Test score: 21.82%\n",
            "Runtime:  275.0223443508148  seconds\n"
          ]
        }
      ]
    },
    {
      "cell_type": "markdown",
      "source": [
        "We seem to get a miniscule boost in accuracy. Thus, further grid searches are unlikely to contribute much to the refinement of the Decision Tree classifier s.t. it outperforms Logistic Regression.\n"
      ],
      "metadata": {
        "id": "aeOmHG0T7TR-"
      }
    },
    {
      "cell_type": "markdown",
      "metadata": {
        "id": "PRbsFiCyWuyD"
      },
      "source": [
        "#Fit an ensemble using the two above models."
      ]
    },
    {
      "cell_type": "code",
      "metadata": {
        "id": "VGRkOMP4fzyh",
        "colab": {
          "base_uri": "https://localhost:8080/"
        },
        "outputId": "1ba6f0d1-2ca6-45a4-ba94-dc2ecbc6ae8c"
      },
      "source": [
        "\n",
        "from sklearn.model_selection import cross_val_score\n",
        "from sklearn.linear_model import LogisticRegression\n",
        "from sklearn.tree import DecisionTreeClassifier\n",
        "from sklearn import svm\n",
        "from sklearn.pipeline import Pipeline\n",
        "import numpy as np\n",
        "\n",
        "clf1 = LogisticRegression(penalty='l2', C=0.001, solver='lbfgs', random_state=0)\n",
        "clf2 = DecisionTreeClassifier(max_depth=1, criterion='entropy', random_state=1)\n",
        "\n",
        "pipe1 = Pipeline([('processing', processing_pipeline),\n",
        "             ('lr', LogisticRegression(solver='liblinear'))])\n",
        "pipe2 = Pipeline([('processing', processing_pipeline),\n",
        "             ('dt', DecisionTreeClassifier())])\n",
        "\n",
        "labs = ['Logistic Regression', 'Decision Tree']\n",
        "clfs = [pipe1, pipe2]\n",
        "clfs = zip(labs, clfs)\n",
        "\n",
        "for lab, clf in clfs:\n",
        "    scores = cross_val_score(estimator=clf, X=X_train, y=y_train, cv=3, scoring='accuracy')\n",
        "    print(f'Accuracy {scores.mean():.2f} (+/- {scores.std():.2f}) [{lab}]')"
      ],
      "execution_count": null,
      "outputs": [
        {
          "output_type": "stream",
          "name": "stdout",
          "text": [
            "Accuracy 0.23 (+/- 0.00) [Logistic Regression]\n",
            "Accuracy 0.20 (+/- 0.00) [Decision Tree]\n"
          ]
        }
      ]
    },
    {
      "cell_type": "code",
      "metadata": {
        "id": "V9IYo87af1Gy",
        "colab": {
          "base_uri": "https://localhost:8080/"
        },
        "outputId": "5be16afa-ca68-4bc3-a5b3-06e15ee75c6d"
      },
      "source": [
        "from sklearn.ensemble import VotingClassifier\n",
        "\n",
        "ems = [('lr', pipe1),('dt', pipe2)]\n",
        "\n",
        "clf4 = VotingClassifier(estimators= ems, weights=None, voting='hard')\n",
        "\n",
        "scores = cross_val_score(estimator=clf4, X=X_train, y=y_train, cv=3, scoring='accuracy')\n",
        "print(f'Accuracy {scores.mean():.2f} (+/- {scores.std():.2f}) [Ensemble]')"
      ],
      "execution_count": null,
      "outputs": [
        {
          "output_type": "stream",
          "name": "stdout",
          "text": [
            "Accuracy 0.21 (+/- 0.00) [Ensemble]\n"
          ]
        }
      ]
    },
    {
      "cell_type": "markdown",
      "source": [
        "The ensemble did not seem to boost the accuracy"
      ],
      "metadata": {
        "id": "EunVb3JvGJds"
      }
    },
    {
      "cell_type": "markdown",
      "metadata": {
        "id": "qYwmGU3td7-c"
      },
      "source": [
        "ADA BOOST"
      ]
    },
    {
      "cell_type": "markdown",
      "source": [
        "The AdaBoost algorithm is a machine learning approach that is utilized as an Ensemble Method. It manipulates the weights of each of the columns to try and make up for improperly categorized instances. The purpose of ADA Boost in supervised learning is to decrease bias and variation. In layman's terms, the AdaBoost algorithm is a method available to me as a way to increase the accurracy score of the Logistic Regression."
      ],
      "metadata": {
        "id": "YMt41t7pAkPF"
      }
    },
    {
      "cell_type": "code",
      "metadata": {
        "id": "As3EEQHDd7Kp"
      },
      "source": [
        "from sklearn.ensemble import AdaBoostClassifier\n",
        "import time\n",
        "start_time = time.time()\n",
        "# multi-step pipelines don't play as nice with AdaBoost\n",
        "xt = processing_pipeline.fit_transform(X_train)\n",
        "\n",
        "params = {'n_estimators': [50, 100, 200, 500]\n",
        "         }\n",
        "\n",
        "#ABC = AdaBoostClassifier(base_estimator=p2)\n",
        "ABC = AdaBoostClassifier(LogisticRegression(solver='liblinear'))\n",
        "\n",
        "\n",
        "ad_gscv = GridSearchCV(ABC, param_grid = params, cv=4, scoring='accuracy')\n",
        "           \n",
        "ad_gscv = ad_gscv.fit(xt, y_train)\n",
        "\n",
        "print(f'Validation score: {ad_gscv.best_score_:.2%}')\n",
        "\n",
        "xtt = processing_pipeline.transform(X_test)\n",
        "\n",
        "ad_pred = ad_gscv.predict(xtt)\n",
        "\n",
        "print(f'Test score: {ad_gscv.score(xtt, y_test):.2%}')\n",
        "print (\"Runtime: \", time.time() - start_time, \" seconds\")"
      ],
      "execution_count": null,
      "outputs": []
    },
    {
      "cell_type": "code",
      "source": [
        "ad_gscv.best_params_"
      ],
      "metadata": {
        "id": "WfWXKi0YHutE",
        "outputId": "dfdb8432-9768-48cc-eaa6-32dbfdda5515",
        "colab": {
          "base_uri": "https://localhost:8080/"
        }
      },
      "execution_count": null,
      "outputs": [
        {
          "output_type": "execute_result",
          "data": {
            "text/plain": [
              "{'n_estimators': 100}"
            ]
          },
          "metadata": {},
          "execution_count": 36
        }
      ]
    },
    {
      "cell_type": "markdown",
      "metadata": {
        "id": "weqkwJGUarpe"
      },
      "source": [
        "#Results and discussion\n",
        "\n",
        "The models were not able to an accuracy of over 25%. This model would ot be satisfactory to use in procuction if we wanted to try and predict where a crime occured"
      ]
    },
    {
      "cell_type": "markdown",
      "metadata": {
        "id": "YSJHarB0WsKt"
      },
      "source": [
        "#Discuss the performance of each model.\n",
        "* Logistic Regression had a higher accuracy score than Descision Trees and took the less amount of time to run"
      ]
    },
    {
      "cell_type": "markdown",
      "metadata": {
        "id": "n13atavYavs_"
      },
      "source": [
        "#Conclusion/next steps\n"
      ]
    },
    {
      "cell_type": "markdown",
      "source": [
        "- There are a lot of NAs so I could try to Semi-Learning"
      ],
      "metadata": {
        "id": "uolTPP-gx9-Q"
      }
    },
    {
      "cell_type": "markdown",
      "metadata": {
        "id": "9MJONIh9KlhE"
      },
      "source": [
        "###Why Removing all rows with an NA value for my target feature is a bad idea\n",
        "One question I asked myself when desciding whether to take a Semi-supervised approach or not is: \"Why not just delete all the rows where the district is NA?\"\n",
        "\n",
        "Lets look at what happens if I take that approach"
      ]
    },
    {
      "cell_type": "code",
      "metadata": {
        "id": "OgHm13LQcHOc",
        "colab": {
          "base_uri": "https://localhost:8080/",
          "height": 423
        },
        "outputId": "d4cbc7ec-3d11-4a65-8175-44f80b17b74e"
      },
      "source": [
        "dfConverted.query('District.notna()', engine='python')"
      ],
      "execution_count": null,
      "outputs": [
        {
          "output_type": "execute_result",
          "data": {
            "text/html": [
              "<div>\n",
              "<style scoped>\n",
              "    .dataframe tbody tr th:only-of-type {\n",
              "        vertical-align: middle;\n",
              "    }\n",
              "\n",
              "    .dataframe tbody tr th {\n",
              "        vertical-align: top;\n",
              "    }\n",
              "\n",
              "    .dataframe thead th {\n",
              "        text-align: right;\n",
              "    }\n",
              "</style>\n",
              "<table border=\"1\" class=\"dataframe\">\n",
              "  <thead>\n",
              "    <tr style=\"text-align: right;\">\n",
              "      <th></th>\n",
              "      <th>Age</th>\n",
              "      <th>Gender</th>\n",
              "      <th>Race</th>\n",
              "      <th>IncidentOffence</th>\n",
              "      <th>ChargeDescription</th>\n",
              "      <th>District</th>\n",
              "      <th>date</th>\n",
              "      <th>time</th>\n",
              "    </tr>\n",
              "  </thead>\n",
              "  <tbody>\n",
              "    <tr>\n",
              "      <th>0</th>\n",
              "      <td>27</td>\n",
              "      <td>M</td>\n",
              "      <td>B</td>\n",
              "      <td>96BINVESTIGATIVE STOP</td>\n",
              "      <td>HAND GUN VIOLATION</td>\n",
              "      <td>Southwest</td>\n",
              "      <td>2020-12-31</td>\n",
              "      <td>23:50:00</td>\n",
              "    </tr>\n",
              "    <tr>\n",
              "      <th>1</th>\n",
              "      <td>45</td>\n",
              "      <td>F</td>\n",
              "      <td>B</td>\n",
              "      <td>Unknown Offense</td>\n",
              "      <td>AUTO THEFT</td>\n",
              "      <td>Western</td>\n",
              "      <td>2020-12-31</td>\n",
              "      <td>23:45:00</td>\n",
              "    </tr>\n",
              "    <tr>\n",
              "      <th>2</th>\n",
              "      <td>42</td>\n",
              "      <td>F</td>\n",
              "      <td>W</td>\n",
              "      <td>Unknown Offense</td>\n",
              "      <td>2ND DEGREE ASSAULT</td>\n",
              "      <td>Southwest</td>\n",
              "      <td>2020-12-31</td>\n",
              "      <td>23:40:00</td>\n",
              "    </tr>\n",
              "    <tr>\n",
              "      <th>3</th>\n",
              "      <td>26</td>\n",
              "      <td>M</td>\n",
              "      <td>B</td>\n",
              "      <td>Unknown Offense</td>\n",
              "      <td>PWID</td>\n",
              "      <td>Southern</td>\n",
              "      <td>2020-12-31</td>\n",
              "      <td>21:45:00</td>\n",
              "    </tr>\n",
              "    <tr>\n",
              "      <th>4</th>\n",
              "      <td>19</td>\n",
              "      <td>M</td>\n",
              "      <td>B</td>\n",
              "      <td>Unknown Offense</td>\n",
              "      <td>PWID</td>\n",
              "      <td>Southern</td>\n",
              "      <td>2020-12-31</td>\n",
              "      <td>21:45:00</td>\n",
              "    </tr>\n",
              "    <tr>\n",
              "      <th>...</th>\n",
              "      <td>...</td>\n",
              "      <td>...</td>\n",
              "      <td>...</td>\n",
              "      <td>...</td>\n",
              "      <td>...</td>\n",
              "      <td>...</td>\n",
              "      <td>...</td>\n",
              "      <td>...</td>\n",
              "    </tr>\n",
              "    <tr>\n",
              "      <th>175917</th>\n",
              "      <td>27</td>\n",
              "      <td>M</td>\n",
              "      <td>B</td>\n",
              "      <td>Unknown Offense</td>\n",
              "      <td>HANDGUN VIOLATION</td>\n",
              "      <td>Northeast</td>\n",
              "      <td>2014-01-01</td>\n",
              "      <td>00:05:00</td>\n",
              "    </tr>\n",
              "    <tr>\n",
              "      <th>175918</th>\n",
              "      <td>35</td>\n",
              "      <td>M</td>\n",
              "      <td>B</td>\n",
              "      <td>Unknown Offense</td>\n",
              "      <td>FIREARM VIOLATION</td>\n",
              "      <td>Northeast</td>\n",
              "      <td>2014-01-01</td>\n",
              "      <td>00:05:00</td>\n",
              "    </tr>\n",
              "    <tr>\n",
              "      <th>175919</th>\n",
              "      <td>41</td>\n",
              "      <td>M</td>\n",
              "      <td>B</td>\n",
              "      <td>83DISCHARGING FIREARM</td>\n",
              "      <td>DISCHARGING</td>\n",
              "      <td>Southwest</td>\n",
              "      <td>2014-01-01</td>\n",
              "      <td>00:05:00</td>\n",
              "    </tr>\n",
              "    <tr>\n",
              "      <th>175920</th>\n",
              "      <td>36</td>\n",
              "      <td>F</td>\n",
              "      <td>B</td>\n",
              "      <td>83DISCHARGING FIREARM</td>\n",
              "      <td>DISCHARGING</td>\n",
              "      <td>Southwest</td>\n",
              "      <td>2014-01-01</td>\n",
              "      <td>00:05:00</td>\n",
              "    </tr>\n",
              "    <tr>\n",
              "      <th>175921</th>\n",
              "      <td>30</td>\n",
              "      <td>M</td>\n",
              "      <td>B</td>\n",
              "      <td>83DISCHARGING FIREARM</td>\n",
              "      <td>HGV</td>\n",
              "      <td>Southwest</td>\n",
              "      <td>2014-01-01</td>\n",
              "      <td>00:05:00</td>\n",
              "    </tr>\n",
              "  </tbody>\n",
              "</table>\n",
              "<p>89891 rows × 8 columns</p>\n",
              "</div>"
            ],
            "text/plain": [
              "        Age Gender Race  ...   District        date      time\n",
              "0        27      M    B  ...  Southwest  2020-12-31  23:50:00\n",
              "1        45      F    B  ...    Western  2020-12-31  23:45:00\n",
              "2        42      F    W  ...  Southwest  2020-12-31  23:40:00\n",
              "3        26      M    B  ...   Southern  2020-12-31  21:45:00\n",
              "4        19      M    B  ...   Southern  2020-12-31  21:45:00\n",
              "...     ...    ...  ...  ...        ...         ...       ...\n",
              "175917   27      M    B  ...  Northeast  2014-01-01  00:05:00\n",
              "175918   35      M    B  ...  Northeast  2014-01-01  00:05:00\n",
              "175919   41      M    B  ...  Southwest  2014-01-01  00:05:00\n",
              "175920   36      F    B  ...  Southwest  2014-01-01  00:05:00\n",
              "175921   30      M    B  ...  Southwest  2014-01-01  00:05:00\n",
              "\n",
              "[89891 rows x 8 columns]"
            ]
          },
          "metadata": {},
          "execution_count": 18
        }
      ]
    },
    {
      "cell_type": "markdown",
      "metadata": {
        "id": "XAc23pnaVEb5"
      },
      "source": [
        "We went from 175923 rows down to 89891.\n",
        "\n",
        "That is a significant loss in data that I can use to train the model.\n",
        "\n",
        "In the future, I will leave the district how it was prior to the row drop and take a semi-supervised approach during the Modeling, Processing, and Cleaning steps"
      ]
    },
    {
      "cell_type": "markdown",
      "metadata": {
        "id": "V9wUS3bFd2ks"
      },
      "source": [
        "####SVM\n",
        "Another Method I will attempt is to use the Support Vector Machine Methodology to see whether we can increase the accuracy score\n",
        "\n",
        "SVM is a very costly and time consuming method, however with a more powerful computer and more time, I would perform the method similar to how I have it below then include it in my ensemble"
      ]
    },
    {
      "cell_type": "code",
      "metadata": {
        "id": "Yg5rtfCPeStD"
      },
      "source": [
        "from sklearn.pipeline import Pipeline\n",
        "from sklearn.preprocessing import StandardScaler\n",
        "from sklearn.svm import SVC\n",
        "from sklearn.model_selection import GridSearchCV\n",
        "import time\n",
        "start_time = time.time()\n",
        "svm_m = modeling_pipeline = Pipeline([('processing', processing_pipeline),\n",
        "                                      ('scaling', StandardScaler(with_mean=False)),\n",
        "                                       ('model', SVC())])\n",
        "\n",
        "\n",
        "param_grid = [\n",
        "  {'model__C': [1, 10], 'model__kernel': ['rbf']}\n",
        " ]\n",
        "\n",
        "#Giving SVM a lot less options as it uses a lot more RAM than the other methods\n",
        "svm_results = GridSearchCV(estimator=svm_m, param_grid=param_grid, cv=2, scoring='accuracy', refit=True)\n",
        "svm_results = svm_results.fit(X_train, y_train)\n",
        "\n",
        "print(f'Validation score: {svm_results.best_score_:.2%}')\n",
        "\n",
        "svm_pred = svm_results.predict(X_test)\n",
        "\n",
        "print(f'Test score: {svm_results.score(X_test, y_test):.2%}')\n",
        "print (\"Runtime: \", time.time() - start_time, \" seconds\")"
      ],
      "execution_count": null,
      "outputs": []
    }
  ]
}