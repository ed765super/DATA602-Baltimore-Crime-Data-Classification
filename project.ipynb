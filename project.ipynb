{
  "nbformat": 4,
  "nbformat_minor": 0,
  "metadata": {
    "colab": {
      "name": "project.ipynb",
      "provenance": [],
      "authorship_tag": "ABX9TyNZwWbceK3vCMnbX4U13Nb4",
      "include_colab_link": true
    },
    "kernelspec": {
      "name": "python3",
      "display_name": "Python 3"
    },
    "language_info": {
      "name": "python"
    }
  },
  "cells": [
    {
      "cell_type": "markdown",
      "metadata": {
        "id": "view-in-github",
        "colab_type": "text"
      },
      "source": [
        "<a href=\"https://colab.research.google.com/github/ed765super/DATA602-Baltimore-Employee-Data-Classification/blob/main/project.ipynb\" target=\"_parent\"><img src=\"https://colab.research.google.com/assets/colab-badge.svg\" alt=\"Open In Colab\"/></a>"
      ]
    },
    {
      "cell_type": "markdown",
      "metadata": {
        "id": "z4C0d-WFaV93"
      },
      "source": [
        "#Background Information/Buisness Question"
      ]
    },
    {
      "cell_type": "markdown",
      "metadata": {
        "id": "kDyLPPdGvt7e"
      },
      "source": [
        "The Baltimore Police Agency launched a massive overhaul to its new Records Management Systems in May 2020. The improvement will enable the department to migrate from a paper-based system to a completely digital reporting environment. As a consequence of this major shift, we had significant difficulties in appropriately transferring data from the new records system to the previous Open Data Baltimore system. The \"Arrests\" dataset is one of many open datasets made publicly accessible by Baltimore's police department on the city's Open Data website. This information is provided to us in order to foster more openness and data exchange between the local administration and its residents. This dataset contains arrest records for offenses such as assault, theft, and property damage in the City of Baltimore.\n",
        "\n",
        "Imma predict the district\n",
        "\n",
        "Imma use the predicted possibilities to see if there is bias in policing efforts in certain districts."
      ]
    },
    {
      "cell_type": "markdown",
      "metadata": {
        "id": "G4TvIshpQTMg"
      },
      "source": [
        "Note, the goal of this project isnt to get the best accuracy, but your process and your narrative."
      ]
    },
    {
      "cell_type": "code",
      "metadata": {
        "colab": {
          "base_uri": "https://localhost:8080/",
          "height": 1000
        },
        "id": "w_bvGhz2fpf8",
        "outputId": "9cc85de2-6266-44c0-ba20-014bc584f2ae"
      },
      "source": [
        "import pandas as pd\n",
        "#https://www.kaggle.com/aashofteh/train-dataset-kaggle-credit-scoring-1\n",
        "df = pd.read_csv('Arrests.csv', sep=',')\n",
        "print(df.info())\n",
        "print(df.describe(include='all'))\n",
        "df"
      ],
      "execution_count": 3,
      "outputs": [
        {
          "output_type": "stream",
          "name": "stdout",
          "text": [
            "<class 'pandas.core.frame.DataFrame'>\n",
            "RangeIndex: 175923 entries, 0 to 175922\n",
            "Data columns (total 20 columns):\n",
            " #   Column             Non-Null Count   Dtype  \n",
            "---  ------             --------------   -----  \n",
            " 0   X                  90128 non-null   float64\n",
            " 1   Y                  90128 non-null   float64\n",
            " 2   RowID              175923 non-null  int64  \n",
            " 3   ArrestNumber       167697 non-null  float64\n",
            " 4   Age                175836 non-null  float64\n",
            " 5   Gender             175884 non-null  object \n",
            " 6   Race               175884 non-null  object \n",
            " 7   ArrestDateTime     175923 non-null  object \n",
            " 8   ArrestLocation     91488 non-null   object \n",
            " 9   IncidentOffence    175923 non-null  object \n",
            " 10  IncidentLocation   91488 non-null   object \n",
            " 11  Charge             156541 non-null  object \n",
            " 12  ChargeDescription  175923 non-null  object \n",
            " 13  District           89891 non-null   object \n",
            " 14  Post               89891 non-null   object \n",
            " 15  Neighborhood       89870 non-null   object \n",
            " 16  Latitude           90128 non-null   float64\n",
            " 17  Longitude          90128 non-null   float64\n",
            " 18  GeoLocation        175923 non-null  object \n",
            " 19  Shape              0 non-null       float64\n",
            "dtypes: float64(7), int64(1), object(12)\n",
            "memory usage: 26.8+ MB\n",
            "None\n",
            "                   X              Y  ...  GeoLocation  Shape\n",
            "count   9.012800e+04   90128.000000  ...       175923    0.0\n",
            "unique           NaN            NaN  ...        23944    NaN\n",
            "top              NaN            NaN  ...          (,)    NaN\n",
            "freq             NaN            NaN  ...        85795    NaN\n",
            "mean    1.426844e+06  595932.690954  ...          NaN    NaN\n",
            "std     4.451277e+05   24627.921490  ...          NaN    NaN\n",
            "min     1.182528e+06 -948896.130248  ...          NaN    NaN\n",
            "25%     1.412248e+06  590765.694569  ...          NaN    NaN\n",
            "50%     1.420570e+06  595527.211391  ...          NaN    NaN\n",
            "75%     1.428985e+06  601583.794139  ...          NaN    NaN\n",
            "max     3.207084e+07  698804.357792  ...          NaN    NaN\n",
            "\n",
            "[11 rows x 20 columns]\n"
          ]
        },
        {
          "output_type": "execute_result",
          "data": {
            "text/html": [
              "<div>\n",
              "<style scoped>\n",
              "    .dataframe tbody tr th:only-of-type {\n",
              "        vertical-align: middle;\n",
              "    }\n",
              "\n",
              "    .dataframe tbody tr th {\n",
              "        vertical-align: top;\n",
              "    }\n",
              "\n",
              "    .dataframe thead th {\n",
              "        text-align: right;\n",
              "    }\n",
              "</style>\n",
              "<table border=\"1\" class=\"dataframe\">\n",
              "  <thead>\n",
              "    <tr style=\"text-align: right;\">\n",
              "      <th></th>\n",
              "      <th>X</th>\n",
              "      <th>Y</th>\n",
              "      <th>RowID</th>\n",
              "      <th>ArrestNumber</th>\n",
              "      <th>Age</th>\n",
              "      <th>Gender</th>\n",
              "      <th>Race</th>\n",
              "      <th>ArrestDateTime</th>\n",
              "      <th>ArrestLocation</th>\n",
              "      <th>IncidentOffence</th>\n",
              "      <th>IncidentLocation</th>\n",
              "      <th>Charge</th>\n",
              "      <th>ChargeDescription</th>\n",
              "      <th>District</th>\n",
              "      <th>Post</th>\n",
              "      <th>Neighborhood</th>\n",
              "      <th>Latitude</th>\n",
              "      <th>Longitude</th>\n",
              "      <th>GeoLocation</th>\n",
              "      <th>Shape</th>\n",
              "    </tr>\n",
              "  </thead>\n",
              "  <tbody>\n",
              "    <tr>\n",
              "      <th>0</th>\n",
              "      <td>1.406788e+06</td>\n",
              "      <td>597678.129188</td>\n",
              "      <td>1</td>\n",
              "      <td>21000024.0</td>\n",
              "      <td>27.0</td>\n",
              "      <td>M</td>\n",
              "      <td>B</td>\n",
              "      <td>2020/12/31 23:50:00+00</td>\n",
              "      <td>2900 PRESBURY ST</td>\n",
              "      <td>96BINVESTIGATIVE STOP</td>\n",
              "      <td>2900 PRESBURY ST</td>\n",
              "      <td>1 0692</td>\n",
              "      <td>HAND GUN VIOLATION</td>\n",
              "      <td>Southwest</td>\n",
              "      <td>813</td>\n",
              "      <td>Northwest Community Action</td>\n",
              "      <td>39.3073</td>\n",
              "      <td>-76.6662</td>\n",
              "      <td>(39.3073,-76.6662)</td>\n",
              "      <td>NaN</td>\n",
              "    </tr>\n",
              "    <tr>\n",
              "      <th>1</th>\n",
              "      <td>1.412063e+06</td>\n",
              "      <td>594601.943893</td>\n",
              "      <td>2</td>\n",
              "      <td>21000021.0</td>\n",
              "      <td>45.0</td>\n",
              "      <td>F</td>\n",
              "      <td>B</td>\n",
              "      <td>2020/12/31 23:45:00+00</td>\n",
              "      <td>900 MONROE ST</td>\n",
              "      <td>Unknown Offense</td>\n",
              "      <td>900 MONROE ST</td>\n",
              "      <td>2 0480</td>\n",
              "      <td>AUTO THEFT</td>\n",
              "      <td>Western</td>\n",
              "      <td>722</td>\n",
              "      <td>Midtown-Edmondson</td>\n",
              "      <td>39.2988</td>\n",
              "      <td>-76.6476</td>\n",
              "      <td>(39.2988,-76.6476)</td>\n",
              "      <td>NaN</td>\n",
              "    </tr>\n",
              "    <tr>\n",
              "      <th>2</th>\n",
              "      <td>1.404120e+06</td>\n",
              "      <td>584046.130423</td>\n",
              "      <td>3</td>\n",
              "      <td>21000011.0</td>\n",
              "      <td>42.0</td>\n",
              "      <td>F</td>\n",
              "      <td>W</td>\n",
              "      <td>2020/12/31 23:40:00+00</td>\n",
              "      <td>1000 PINE HEIGHTS AVE</td>\n",
              "      <td>Unknown Offense</td>\n",
              "      <td>1000 PINE HEIGHTS AVE</td>\n",
              "      <td>1 1415</td>\n",
              "      <td>2ND DEGREE ASSAULT</td>\n",
              "      <td>Southwest</td>\n",
              "      <td>832</td>\n",
              "      <td>Violetville</td>\n",
              "      <td>39.2699</td>\n",
              "      <td>-76.6758</td>\n",
              "      <td>(39.2699,-76.6758)</td>\n",
              "      <td>NaN</td>\n",
              "    </tr>\n",
              "    <tr>\n",
              "      <th>3</th>\n",
              "      <td>1.418872e+06</td>\n",
              "      <td>576745.235206</td>\n",
              "      <td>4</td>\n",
              "      <td>21000006.0</td>\n",
              "      <td>26.0</td>\n",
              "      <td>M</td>\n",
              "      <td>B</td>\n",
              "      <td>2020/12/31 21:45:00+00</td>\n",
              "      <td>700 CHERRY HILL RD</td>\n",
              "      <td>Unknown Offense</td>\n",
              "      <td>700 CHERRY HILL RD</td>\n",
              "      <td>1 0233</td>\n",
              "      <td>PWID</td>\n",
              "      <td>Southern</td>\n",
              "      <td>922</td>\n",
              "      <td>Cherry Hill</td>\n",
              "      <td>39.2497</td>\n",
              "      <td>-76.6238</td>\n",
              "      <td>(39.2497,-76.6238)</td>\n",
              "      <td>NaN</td>\n",
              "    </tr>\n",
              "    <tr>\n",
              "      <th>4</th>\n",
              "      <td>1.418872e+06</td>\n",
              "      <td>576745.235206</td>\n",
              "      <td>5</td>\n",
              "      <td>21000014.0</td>\n",
              "      <td>19.0</td>\n",
              "      <td>M</td>\n",
              "      <td>B</td>\n",
              "      <td>2020/12/31 21:45:00+00</td>\n",
              "      <td>700 CHERRY HILL RD</td>\n",
              "      <td>Unknown Offense</td>\n",
              "      <td>700 CHERRY HILL RD</td>\n",
              "      <td>1 0233</td>\n",
              "      <td>PWID</td>\n",
              "      <td>Southern</td>\n",
              "      <td>922</td>\n",
              "      <td>Cherry Hill</td>\n",
              "      <td>39.2497</td>\n",
              "      <td>-76.6238</td>\n",
              "      <td>(39.2497,-76.6238)</td>\n",
              "      <td>NaN</td>\n",
              "    </tr>\n",
              "    <tr>\n",
              "      <th>...</th>\n",
              "      <td>...</td>\n",
              "      <td>...</td>\n",
              "      <td>...</td>\n",
              "      <td>...</td>\n",
              "      <td>...</td>\n",
              "      <td>...</td>\n",
              "      <td>...</td>\n",
              "      <td>...</td>\n",
              "      <td>...</td>\n",
              "      <td>...</td>\n",
              "      <td>...</td>\n",
              "      <td>...</td>\n",
              "      <td>...</td>\n",
              "      <td>...</td>\n",
              "      <td>...</td>\n",
              "      <td>...</td>\n",
              "      <td>...</td>\n",
              "      <td>...</td>\n",
              "      <td>...</td>\n",
              "      <td>...</td>\n",
              "    </tr>\n",
              "    <tr>\n",
              "      <th>175918</th>\n",
              "      <td>1.435069e+06</td>\n",
              "      <td>601038.749707</td>\n",
              "      <td>175919</td>\n",
              "      <td>14000113.0</td>\n",
              "      <td>35.0</td>\n",
              "      <td>M</td>\n",
              "      <td>B</td>\n",
              "      <td>2014/01/01 00:05:00+00</td>\n",
              "      <td>3700 ELMORA AVE</td>\n",
              "      <td>Unknown Offense</td>\n",
              "      <td>3700 ELMORA AVE</td>\n",
              "      <td>1 1609</td>\n",
              "      <td>FIREARM VIOLATION</td>\n",
              "      <td>Northeast</td>\n",
              "      <td>432</td>\n",
              "      <td>Belair-Edison</td>\n",
              "      <td>39.3162</td>\n",
              "      <td>-76.5662</td>\n",
              "      <td>(39.3162,-76.5662)</td>\n",
              "      <td>NaN</td>\n",
              "    </tr>\n",
              "    <tr>\n",
              "      <th>175919</th>\n",
              "      <td>1.405318e+06</td>\n",
              "      <td>589513.916091</td>\n",
              "      <td>175920</td>\n",
              "      <td>14000148.0</td>\n",
              "      <td>41.0</td>\n",
              "      <td>M</td>\n",
              "      <td>B</td>\n",
              "      <td>2014/01/01 00:05:00+00</td>\n",
              "      <td>3200 LOHRS LN</td>\n",
              "      <td>83DISCHARGING FIREARM</td>\n",
              "      <td>3200 LOHRS LN</td>\n",
              "      <td>1 5212</td>\n",
              "      <td>DISCHARGING</td>\n",
              "      <td>Southwest</td>\n",
              "      <td>835</td>\n",
              "      <td>Carroll-South Hilton</td>\n",
              "      <td>39.2849</td>\n",
              "      <td>-76.6715</td>\n",
              "      <td>(39.2849,-76.6715)</td>\n",
              "      <td>NaN</td>\n",
              "    </tr>\n",
              "    <tr>\n",
              "      <th>175920</th>\n",
              "      <td>1.405318e+06</td>\n",
              "      <td>589513.916091</td>\n",
              "      <td>175921</td>\n",
              "      <td>14000140.0</td>\n",
              "      <td>36.0</td>\n",
              "      <td>F</td>\n",
              "      <td>B</td>\n",
              "      <td>2014/01/01 00:05:00+00</td>\n",
              "      <td>3200 LOHRS LN</td>\n",
              "      <td>83DISCHARGING FIREARM</td>\n",
              "      <td>3200 LOHRS LN</td>\n",
              "      <td>1 5212</td>\n",
              "      <td>DISCHARGING</td>\n",
              "      <td>Southwest</td>\n",
              "      <td>835</td>\n",
              "      <td>Carroll-South Hilton</td>\n",
              "      <td>39.2849</td>\n",
              "      <td>-76.6715</td>\n",
              "      <td>(39.2849,-76.6715)</td>\n",
              "      <td>NaN</td>\n",
              "    </tr>\n",
              "    <tr>\n",
              "      <th>175921</th>\n",
              "      <td>1.405318e+06</td>\n",
              "      <td>589513.916091</td>\n",
              "      <td>175922</td>\n",
              "      <td>14000135.0</td>\n",
              "      <td>30.0</td>\n",
              "      <td>M</td>\n",
              "      <td>B</td>\n",
              "      <td>2014/01/01 00:05:00+00</td>\n",
              "      <td>3200 LOHRS LN</td>\n",
              "      <td>83DISCHARGING FIREARM</td>\n",
              "      <td>3200 LOHRS LN</td>\n",
              "      <td>1 5212</td>\n",
              "      <td>HGV</td>\n",
              "      <td>Southwest</td>\n",
              "      <td>835</td>\n",
              "      <td>Carroll-South Hilton</td>\n",
              "      <td>39.2849</td>\n",
              "      <td>-76.6715</td>\n",
              "      <td>(39.2849,-76.6715)</td>\n",
              "      <td>NaN</td>\n",
              "    </tr>\n",
              "    <tr>\n",
              "      <th>175922</th>\n",
              "      <td>NaN</td>\n",
              "      <td>NaN</td>\n",
              "      <td>175923</td>\n",
              "      <td>14000265.0</td>\n",
              "      <td>47.0</td>\n",
              "      <td>M</td>\n",
              "      <td>W</td>\n",
              "      <td>2014/01/01 00:00:00+00</td>\n",
              "      <td>NaN</td>\n",
              "      <td>Unknown Offense</td>\n",
              "      <td>NaN</td>\n",
              "      <td>2 1134</td>\n",
              "      <td>SEX OFF REG-FAIL NOTIFY/INCLD</td>\n",
              "      <td>NaN</td>\n",
              "      <td>NaN</td>\n",
              "      <td>NaN</td>\n",
              "      <td>NaN</td>\n",
              "      <td>NaN</td>\n",
              "      <td>(,)</td>\n",
              "      <td>NaN</td>\n",
              "    </tr>\n",
              "  </tbody>\n",
              "</table>\n",
              "<p>175923 rows × 20 columns</p>\n",
              "</div>"
            ],
            "text/plain": [
              "                   X              Y  ...         GeoLocation  Shape\n",
              "0       1.406788e+06  597678.129188  ...  (39.3073,-76.6662)    NaN\n",
              "1       1.412063e+06  594601.943893  ...  (39.2988,-76.6476)    NaN\n",
              "2       1.404120e+06  584046.130423  ...  (39.2699,-76.6758)    NaN\n",
              "3       1.418872e+06  576745.235206  ...  (39.2497,-76.6238)    NaN\n",
              "4       1.418872e+06  576745.235206  ...  (39.2497,-76.6238)    NaN\n",
              "...              ...            ...  ...                 ...    ...\n",
              "175918  1.435069e+06  601038.749707  ...  (39.3162,-76.5662)    NaN\n",
              "175919  1.405318e+06  589513.916091  ...  (39.2849,-76.6715)    NaN\n",
              "175920  1.405318e+06  589513.916091  ...  (39.2849,-76.6715)    NaN\n",
              "175921  1.405318e+06  589513.916091  ...  (39.2849,-76.6715)    NaN\n",
              "175922           NaN            NaN  ...                 (,)    NaN\n",
              "\n",
              "[175923 rows x 20 columns]"
            ]
          },
          "metadata": {},
          "execution_count": 3
        }
      ]
    },
    {
      "cell_type": "markdown",
      "metadata": {
        "id": "NxU8OftjaeQz"
      },
      "source": [
        "#EDA\n"
      ]
    },
    {
      "cell_type": "markdown",
      "metadata": {
        "id": "vrP47eFByuNx"
      },
      "source": [
        "Before doing anything I need to modify the data types to better represent the values in each of the columns"
      ]
    },
    {
      "cell_type": "code",
      "metadata": {
        "colab": {
          "base_uri": "https://localhost:8080/"
        },
        "id": "iWGt_Ts1ytsJ",
        "outputId": "b998e6f6-50fb-4e89-c1c9-25c64ef62660"
      },
      "source": [
        "dfConverted = df.convert_dtypes()\n",
        "dfConverted.dtypes"
      ],
      "execution_count": 4,
      "outputs": [
        {
          "output_type": "execute_result",
          "data": {
            "text/plain": [
              "X                    float64\n",
              "Y                    float64\n",
              "RowID                  Int64\n",
              "ArrestNumber           Int64\n",
              "Age                    Int64\n",
              "Gender                string\n",
              "Race                  string\n",
              "ArrestDateTime        string\n",
              "ArrestLocation        string\n",
              "IncidentOffence       string\n",
              "IncidentLocation      string\n",
              "Charge                string\n",
              "ChargeDescription     string\n",
              "District              string\n",
              "Post                  string\n",
              "Neighborhood          string\n",
              "Latitude             float64\n",
              "Longitude            float64\n",
              "GeoLocation           string\n",
              "Shape                  Int64\n",
              "dtype: object"
            ]
          },
          "metadata": {},
          "execution_count": 4
        }
      ]
    },
    {
      "cell_type": "markdown",
      "metadata": {
        "id": "3BjL1-X6v2aw"
      },
      "source": [
        "First there are some features that will not contribute to my classification problem.\n",
        "* 'X', 'Y', 'RowID', and 'ArrestNumber': are all similar indexing variables that will provide nothing to the classification\n",
        "* 'ArrestLocation', 'IncidentLocation', 'Neighborhood': This wouldnt fit my classification problem as my model shouldnt need location information to determine the district the crime happened\n",
        "* 'Latitude', 'Longitude', and 'GeoLocation' all provide the same information. This wouldnt fit my classification problem as my model shouldnt need location information to determine the district the crime happened\n",
        "* 'Shape': Shape is a useless feature column that provides no information and is mostly filled with NA values \n",
        "* Charge: Charge and Charge Description hold what is basically the same information. Thus when I throw them into a OHE they will provide redundancy which is bad"
      ]
    },
    {
      "cell_type": "code",
      "metadata": {
        "id": "vo31fvRXv16K"
      },
      "source": [
        "dfConverted = dfConverted.drop(['X', 'Y', 'RowID', 'ArrestNumber', 'ArrestLocation', \n",
        "              'IncidentLocation', 'Neighborhood', 'Latitude', 'Longitude',\n",
        "              'GeoLocation', 'Shape', 'Charge'], axis = 1)"
      ],
      "execution_count": 5,
      "outputs": []
    },
    {
      "cell_type": "code",
      "metadata": {
        "colab": {
          "base_uri": "https://localhost:8080/",
          "height": 568
        },
        "id": "datX8CTuw7xo",
        "outputId": "be1b4343-796a-4a0c-bb5f-4dfffb0afc2a"
      },
      "source": [
        "print(dfConverted.dtypes)\n",
        "dfConverted"
      ],
      "execution_count": 6,
      "outputs": [
        {
          "output_type": "stream",
          "name": "stdout",
          "text": [
            "Age                   Int64\n",
            "Gender               string\n",
            "Race                 string\n",
            "ArrestDateTime       string\n",
            "IncidentOffence      string\n",
            "ChargeDescription    string\n",
            "District             string\n",
            "Post                 string\n",
            "dtype: object\n"
          ]
        },
        {
          "output_type": "execute_result",
          "data": {
            "text/html": [
              "<div>\n",
              "<style scoped>\n",
              "    .dataframe tbody tr th:only-of-type {\n",
              "        vertical-align: middle;\n",
              "    }\n",
              "\n",
              "    .dataframe tbody tr th {\n",
              "        vertical-align: top;\n",
              "    }\n",
              "\n",
              "    .dataframe thead th {\n",
              "        text-align: right;\n",
              "    }\n",
              "</style>\n",
              "<table border=\"1\" class=\"dataframe\">\n",
              "  <thead>\n",
              "    <tr style=\"text-align: right;\">\n",
              "      <th></th>\n",
              "      <th>Age</th>\n",
              "      <th>Gender</th>\n",
              "      <th>Race</th>\n",
              "      <th>ArrestDateTime</th>\n",
              "      <th>IncidentOffence</th>\n",
              "      <th>ChargeDescription</th>\n",
              "      <th>District</th>\n",
              "      <th>Post</th>\n",
              "    </tr>\n",
              "  </thead>\n",
              "  <tbody>\n",
              "    <tr>\n",
              "      <th>0</th>\n",
              "      <td>27</td>\n",
              "      <td>M</td>\n",
              "      <td>B</td>\n",
              "      <td>2020/12/31 23:50:00+00</td>\n",
              "      <td>96BINVESTIGATIVE STOP</td>\n",
              "      <td>HAND GUN VIOLATION</td>\n",
              "      <td>Southwest</td>\n",
              "      <td>813</td>\n",
              "    </tr>\n",
              "    <tr>\n",
              "      <th>1</th>\n",
              "      <td>45</td>\n",
              "      <td>F</td>\n",
              "      <td>B</td>\n",
              "      <td>2020/12/31 23:45:00+00</td>\n",
              "      <td>Unknown Offense</td>\n",
              "      <td>AUTO THEFT</td>\n",
              "      <td>Western</td>\n",
              "      <td>722</td>\n",
              "    </tr>\n",
              "    <tr>\n",
              "      <th>2</th>\n",
              "      <td>42</td>\n",
              "      <td>F</td>\n",
              "      <td>W</td>\n",
              "      <td>2020/12/31 23:40:00+00</td>\n",
              "      <td>Unknown Offense</td>\n",
              "      <td>2ND DEGREE ASSAULT</td>\n",
              "      <td>Southwest</td>\n",
              "      <td>832</td>\n",
              "    </tr>\n",
              "    <tr>\n",
              "      <th>3</th>\n",
              "      <td>26</td>\n",
              "      <td>M</td>\n",
              "      <td>B</td>\n",
              "      <td>2020/12/31 21:45:00+00</td>\n",
              "      <td>Unknown Offense</td>\n",
              "      <td>PWID</td>\n",
              "      <td>Southern</td>\n",
              "      <td>922</td>\n",
              "    </tr>\n",
              "    <tr>\n",
              "      <th>4</th>\n",
              "      <td>19</td>\n",
              "      <td>M</td>\n",
              "      <td>B</td>\n",
              "      <td>2020/12/31 21:45:00+00</td>\n",
              "      <td>Unknown Offense</td>\n",
              "      <td>PWID</td>\n",
              "      <td>Southern</td>\n",
              "      <td>922</td>\n",
              "    </tr>\n",
              "    <tr>\n",
              "      <th>...</th>\n",
              "      <td>...</td>\n",
              "      <td>...</td>\n",
              "      <td>...</td>\n",
              "      <td>...</td>\n",
              "      <td>...</td>\n",
              "      <td>...</td>\n",
              "      <td>...</td>\n",
              "      <td>...</td>\n",
              "    </tr>\n",
              "    <tr>\n",
              "      <th>175918</th>\n",
              "      <td>35</td>\n",
              "      <td>M</td>\n",
              "      <td>B</td>\n",
              "      <td>2014/01/01 00:05:00+00</td>\n",
              "      <td>Unknown Offense</td>\n",
              "      <td>FIREARM VIOLATION</td>\n",
              "      <td>Northeast</td>\n",
              "      <td>432</td>\n",
              "    </tr>\n",
              "    <tr>\n",
              "      <th>175919</th>\n",
              "      <td>41</td>\n",
              "      <td>M</td>\n",
              "      <td>B</td>\n",
              "      <td>2014/01/01 00:05:00+00</td>\n",
              "      <td>83DISCHARGING FIREARM</td>\n",
              "      <td>DISCHARGING</td>\n",
              "      <td>Southwest</td>\n",
              "      <td>835</td>\n",
              "    </tr>\n",
              "    <tr>\n",
              "      <th>175920</th>\n",
              "      <td>36</td>\n",
              "      <td>F</td>\n",
              "      <td>B</td>\n",
              "      <td>2014/01/01 00:05:00+00</td>\n",
              "      <td>83DISCHARGING FIREARM</td>\n",
              "      <td>DISCHARGING</td>\n",
              "      <td>Southwest</td>\n",
              "      <td>835</td>\n",
              "    </tr>\n",
              "    <tr>\n",
              "      <th>175921</th>\n",
              "      <td>30</td>\n",
              "      <td>M</td>\n",
              "      <td>B</td>\n",
              "      <td>2014/01/01 00:05:00+00</td>\n",
              "      <td>83DISCHARGING FIREARM</td>\n",
              "      <td>HGV</td>\n",
              "      <td>Southwest</td>\n",
              "      <td>835</td>\n",
              "    </tr>\n",
              "    <tr>\n",
              "      <th>175922</th>\n",
              "      <td>47</td>\n",
              "      <td>M</td>\n",
              "      <td>W</td>\n",
              "      <td>2014/01/01 00:00:00+00</td>\n",
              "      <td>Unknown Offense</td>\n",
              "      <td>SEX OFF REG-FAIL NOTIFY/INCLD</td>\n",
              "      <td>&lt;NA&gt;</td>\n",
              "      <td>&lt;NA&gt;</td>\n",
              "    </tr>\n",
              "  </tbody>\n",
              "</table>\n",
              "<p>175923 rows × 8 columns</p>\n",
              "</div>"
            ],
            "text/plain": [
              "        Age Gender Race  ...              ChargeDescription   District  Post\n",
              "0        27      M    B  ...             HAND GUN VIOLATION  Southwest   813\n",
              "1        45      F    B  ...                     AUTO THEFT    Western   722\n",
              "2        42      F    W  ...             2ND DEGREE ASSAULT  Southwest   832\n",
              "3        26      M    B  ...                           PWID   Southern   922\n",
              "4        19      M    B  ...                           PWID   Southern   922\n",
              "...     ...    ...  ...  ...                            ...        ...   ...\n",
              "175918   35      M    B  ...              FIREARM VIOLATION  Northeast   432\n",
              "175919   41      M    B  ...                    DISCHARGING  Southwest   835\n",
              "175920   36      F    B  ...                    DISCHARGING  Southwest   835\n",
              "175921   30      M    B  ...                            HGV  Southwest   835\n",
              "175922   47      M    W  ...  SEX OFF REG-FAIL NOTIFY/INCLD       <NA>  <NA>\n",
              "\n",
              "[175923 rows x 8 columns]"
            ]
          },
          "metadata": {},
          "execution_count": 6
        }
      ]
    },
    {
      "cell_type": "markdown",
      "metadata": {
        "id": "YhtdAAyr0lTx"
      },
      "source": [
        "I may want the date and the time seperate to cut down on the sparcity of the dummy matrix formed when one hot encoding. But that is only nessessary if it there are a large number of unique values. So first I will check how many unique values are there vs the total values"
      ]
    },
    {
      "cell_type": "code",
      "metadata": {
        "colab": {
          "base_uri": "https://localhost:8080/"
        },
        "id": "1Sk0QWp_019W",
        "outputId": "ffdf93c2-7481-4957-d8c1-3125843e06eb"
      },
      "source": [
        "print(\"There are\", dfConverted.ArrestDateTime.count() - len(dfConverted.ArrestDateTime.unique()), \"Non unique values\")"
      ],
      "execution_count": 7,
      "outputs": [
        {
          "output_type": "stream",
          "name": "stdout",
          "text": [
            "There are 45088 Non unique values\n"
          ]
        }
      ]
    },
    {
      "cell_type": "code",
      "metadata": {
        "colab": {
          "base_uri": "https://localhost:8080/",
          "height": 417
        },
        "id": "CQ5JIOPV0xVr",
        "outputId": "07c7ab07-b362-40f3-a75e-8872fe6c5242"
      },
      "source": [
        "#Fromhttps://www.tutorialspoint.com/write-a-program-to-separate-date-and-time-from-the-datetime-column-in-python-pandas\n",
        "dfConverted['date'] = pd.to_datetime(dfConverted['ArrestDateTime']).dt.date\n",
        "dfConverted['time'] = pd.to_datetime(dfConverted['ArrestDateTime']).dt.time\n",
        "dfConverted"
      ],
      "execution_count": 8,
      "outputs": [
        {
          "output_type": "execute_result",
          "data": {
            "text/html": [
              "<div>\n",
              "<style scoped>\n",
              "    .dataframe tbody tr th:only-of-type {\n",
              "        vertical-align: middle;\n",
              "    }\n",
              "\n",
              "    .dataframe tbody tr th {\n",
              "        vertical-align: top;\n",
              "    }\n",
              "\n",
              "    .dataframe thead th {\n",
              "        text-align: right;\n",
              "    }\n",
              "</style>\n",
              "<table border=\"1\" class=\"dataframe\">\n",
              "  <thead>\n",
              "    <tr style=\"text-align: right;\">\n",
              "      <th></th>\n",
              "      <th>Age</th>\n",
              "      <th>Gender</th>\n",
              "      <th>Race</th>\n",
              "      <th>ArrestDateTime</th>\n",
              "      <th>IncidentOffence</th>\n",
              "      <th>ChargeDescription</th>\n",
              "      <th>District</th>\n",
              "      <th>Post</th>\n",
              "      <th>date</th>\n",
              "      <th>time</th>\n",
              "    </tr>\n",
              "  </thead>\n",
              "  <tbody>\n",
              "    <tr>\n",
              "      <th>0</th>\n",
              "      <td>27</td>\n",
              "      <td>M</td>\n",
              "      <td>B</td>\n",
              "      <td>2020/12/31 23:50:00+00</td>\n",
              "      <td>96BINVESTIGATIVE STOP</td>\n",
              "      <td>HAND GUN VIOLATION</td>\n",
              "      <td>Southwest</td>\n",
              "      <td>813</td>\n",
              "      <td>2020-12-31</td>\n",
              "      <td>23:50:00</td>\n",
              "    </tr>\n",
              "    <tr>\n",
              "      <th>1</th>\n",
              "      <td>45</td>\n",
              "      <td>F</td>\n",
              "      <td>B</td>\n",
              "      <td>2020/12/31 23:45:00+00</td>\n",
              "      <td>Unknown Offense</td>\n",
              "      <td>AUTO THEFT</td>\n",
              "      <td>Western</td>\n",
              "      <td>722</td>\n",
              "      <td>2020-12-31</td>\n",
              "      <td>23:45:00</td>\n",
              "    </tr>\n",
              "    <tr>\n",
              "      <th>2</th>\n",
              "      <td>42</td>\n",
              "      <td>F</td>\n",
              "      <td>W</td>\n",
              "      <td>2020/12/31 23:40:00+00</td>\n",
              "      <td>Unknown Offense</td>\n",
              "      <td>2ND DEGREE ASSAULT</td>\n",
              "      <td>Southwest</td>\n",
              "      <td>832</td>\n",
              "      <td>2020-12-31</td>\n",
              "      <td>23:40:00</td>\n",
              "    </tr>\n",
              "    <tr>\n",
              "      <th>3</th>\n",
              "      <td>26</td>\n",
              "      <td>M</td>\n",
              "      <td>B</td>\n",
              "      <td>2020/12/31 21:45:00+00</td>\n",
              "      <td>Unknown Offense</td>\n",
              "      <td>PWID</td>\n",
              "      <td>Southern</td>\n",
              "      <td>922</td>\n",
              "      <td>2020-12-31</td>\n",
              "      <td>21:45:00</td>\n",
              "    </tr>\n",
              "    <tr>\n",
              "      <th>4</th>\n",
              "      <td>19</td>\n",
              "      <td>M</td>\n",
              "      <td>B</td>\n",
              "      <td>2020/12/31 21:45:00+00</td>\n",
              "      <td>Unknown Offense</td>\n",
              "      <td>PWID</td>\n",
              "      <td>Southern</td>\n",
              "      <td>922</td>\n",
              "      <td>2020-12-31</td>\n",
              "      <td>21:45:00</td>\n",
              "    </tr>\n",
              "    <tr>\n",
              "      <th>...</th>\n",
              "      <td>...</td>\n",
              "      <td>...</td>\n",
              "      <td>...</td>\n",
              "      <td>...</td>\n",
              "      <td>...</td>\n",
              "      <td>...</td>\n",
              "      <td>...</td>\n",
              "      <td>...</td>\n",
              "      <td>...</td>\n",
              "      <td>...</td>\n",
              "    </tr>\n",
              "    <tr>\n",
              "      <th>175918</th>\n",
              "      <td>35</td>\n",
              "      <td>M</td>\n",
              "      <td>B</td>\n",
              "      <td>2014/01/01 00:05:00+00</td>\n",
              "      <td>Unknown Offense</td>\n",
              "      <td>FIREARM VIOLATION</td>\n",
              "      <td>Northeast</td>\n",
              "      <td>432</td>\n",
              "      <td>2014-01-01</td>\n",
              "      <td>00:05:00</td>\n",
              "    </tr>\n",
              "    <tr>\n",
              "      <th>175919</th>\n",
              "      <td>41</td>\n",
              "      <td>M</td>\n",
              "      <td>B</td>\n",
              "      <td>2014/01/01 00:05:00+00</td>\n",
              "      <td>83DISCHARGING FIREARM</td>\n",
              "      <td>DISCHARGING</td>\n",
              "      <td>Southwest</td>\n",
              "      <td>835</td>\n",
              "      <td>2014-01-01</td>\n",
              "      <td>00:05:00</td>\n",
              "    </tr>\n",
              "    <tr>\n",
              "      <th>175920</th>\n",
              "      <td>36</td>\n",
              "      <td>F</td>\n",
              "      <td>B</td>\n",
              "      <td>2014/01/01 00:05:00+00</td>\n",
              "      <td>83DISCHARGING FIREARM</td>\n",
              "      <td>DISCHARGING</td>\n",
              "      <td>Southwest</td>\n",
              "      <td>835</td>\n",
              "      <td>2014-01-01</td>\n",
              "      <td>00:05:00</td>\n",
              "    </tr>\n",
              "    <tr>\n",
              "      <th>175921</th>\n",
              "      <td>30</td>\n",
              "      <td>M</td>\n",
              "      <td>B</td>\n",
              "      <td>2014/01/01 00:05:00+00</td>\n",
              "      <td>83DISCHARGING FIREARM</td>\n",
              "      <td>HGV</td>\n",
              "      <td>Southwest</td>\n",
              "      <td>835</td>\n",
              "      <td>2014-01-01</td>\n",
              "      <td>00:05:00</td>\n",
              "    </tr>\n",
              "    <tr>\n",
              "      <th>175922</th>\n",
              "      <td>47</td>\n",
              "      <td>M</td>\n",
              "      <td>W</td>\n",
              "      <td>2014/01/01 00:00:00+00</td>\n",
              "      <td>Unknown Offense</td>\n",
              "      <td>SEX OFF REG-FAIL NOTIFY/INCLD</td>\n",
              "      <td>&lt;NA&gt;</td>\n",
              "      <td>&lt;NA&gt;</td>\n",
              "      <td>2014-01-01</td>\n",
              "      <td>00:00:00</td>\n",
              "    </tr>\n",
              "  </tbody>\n",
              "</table>\n",
              "<p>175923 rows × 10 columns</p>\n",
              "</div>"
            ],
            "text/plain": [
              "        Age Gender Race  ...  Post        date      time\n",
              "0        27      M    B  ...   813  2020-12-31  23:50:00\n",
              "1        45      F    B  ...   722  2020-12-31  23:45:00\n",
              "2        42      F    W  ...   832  2020-12-31  23:40:00\n",
              "3        26      M    B  ...   922  2020-12-31  21:45:00\n",
              "4        19      M    B  ...   922  2020-12-31  21:45:00\n",
              "...     ...    ...  ...  ...   ...         ...       ...\n",
              "175918   35      M    B  ...   432  2014-01-01  00:05:00\n",
              "175919   41      M    B  ...   835  2014-01-01  00:05:00\n",
              "175920   36      F    B  ...   835  2014-01-01  00:05:00\n",
              "175921   30      M    B  ...   835  2014-01-01  00:05:00\n",
              "175922   47      M    W  ...  <NA>  2014-01-01  00:00:00\n",
              "\n",
              "[175923 rows x 10 columns]"
            ]
          },
          "metadata": {},
          "execution_count": 8
        }
      ]
    },
    {
      "cell_type": "code",
      "metadata": {
        "id": "At3lhFw-7UFs"
      },
      "source": [
        "dfConverted = dfConverted.drop('ArrestDateTime', axis=1)"
      ],
      "execution_count": 9,
      "outputs": []
    },
    {
      "cell_type": "code",
      "metadata": {
        "colab": {
          "base_uri": "https://localhost:8080/",
          "height": 417
        },
        "id": "sj9e8Q8W7gJQ",
        "outputId": "9878788a-0765-4b38-990c-4966dc525c5c"
      },
      "source": [
        "dfConverted"
      ],
      "execution_count": 10,
      "outputs": [
        {
          "output_type": "execute_result",
          "data": {
            "text/html": [
              "<div>\n",
              "<style scoped>\n",
              "    .dataframe tbody tr th:only-of-type {\n",
              "        vertical-align: middle;\n",
              "    }\n",
              "\n",
              "    .dataframe tbody tr th {\n",
              "        vertical-align: top;\n",
              "    }\n",
              "\n",
              "    .dataframe thead th {\n",
              "        text-align: right;\n",
              "    }\n",
              "</style>\n",
              "<table border=\"1\" class=\"dataframe\">\n",
              "  <thead>\n",
              "    <tr style=\"text-align: right;\">\n",
              "      <th></th>\n",
              "      <th>Age</th>\n",
              "      <th>Gender</th>\n",
              "      <th>Race</th>\n",
              "      <th>IncidentOffence</th>\n",
              "      <th>ChargeDescription</th>\n",
              "      <th>District</th>\n",
              "      <th>Post</th>\n",
              "      <th>date</th>\n",
              "      <th>time</th>\n",
              "    </tr>\n",
              "  </thead>\n",
              "  <tbody>\n",
              "    <tr>\n",
              "      <th>0</th>\n",
              "      <td>27</td>\n",
              "      <td>M</td>\n",
              "      <td>B</td>\n",
              "      <td>96BINVESTIGATIVE STOP</td>\n",
              "      <td>HAND GUN VIOLATION</td>\n",
              "      <td>Southwest</td>\n",
              "      <td>813</td>\n",
              "      <td>2020-12-31</td>\n",
              "      <td>23:50:00</td>\n",
              "    </tr>\n",
              "    <tr>\n",
              "      <th>1</th>\n",
              "      <td>45</td>\n",
              "      <td>F</td>\n",
              "      <td>B</td>\n",
              "      <td>Unknown Offense</td>\n",
              "      <td>AUTO THEFT</td>\n",
              "      <td>Western</td>\n",
              "      <td>722</td>\n",
              "      <td>2020-12-31</td>\n",
              "      <td>23:45:00</td>\n",
              "    </tr>\n",
              "    <tr>\n",
              "      <th>2</th>\n",
              "      <td>42</td>\n",
              "      <td>F</td>\n",
              "      <td>W</td>\n",
              "      <td>Unknown Offense</td>\n",
              "      <td>2ND DEGREE ASSAULT</td>\n",
              "      <td>Southwest</td>\n",
              "      <td>832</td>\n",
              "      <td>2020-12-31</td>\n",
              "      <td>23:40:00</td>\n",
              "    </tr>\n",
              "    <tr>\n",
              "      <th>3</th>\n",
              "      <td>26</td>\n",
              "      <td>M</td>\n",
              "      <td>B</td>\n",
              "      <td>Unknown Offense</td>\n",
              "      <td>PWID</td>\n",
              "      <td>Southern</td>\n",
              "      <td>922</td>\n",
              "      <td>2020-12-31</td>\n",
              "      <td>21:45:00</td>\n",
              "    </tr>\n",
              "    <tr>\n",
              "      <th>4</th>\n",
              "      <td>19</td>\n",
              "      <td>M</td>\n",
              "      <td>B</td>\n",
              "      <td>Unknown Offense</td>\n",
              "      <td>PWID</td>\n",
              "      <td>Southern</td>\n",
              "      <td>922</td>\n",
              "      <td>2020-12-31</td>\n",
              "      <td>21:45:00</td>\n",
              "    </tr>\n",
              "    <tr>\n",
              "      <th>...</th>\n",
              "      <td>...</td>\n",
              "      <td>...</td>\n",
              "      <td>...</td>\n",
              "      <td>...</td>\n",
              "      <td>...</td>\n",
              "      <td>...</td>\n",
              "      <td>...</td>\n",
              "      <td>...</td>\n",
              "      <td>...</td>\n",
              "    </tr>\n",
              "    <tr>\n",
              "      <th>175918</th>\n",
              "      <td>35</td>\n",
              "      <td>M</td>\n",
              "      <td>B</td>\n",
              "      <td>Unknown Offense</td>\n",
              "      <td>FIREARM VIOLATION</td>\n",
              "      <td>Northeast</td>\n",
              "      <td>432</td>\n",
              "      <td>2014-01-01</td>\n",
              "      <td>00:05:00</td>\n",
              "    </tr>\n",
              "    <tr>\n",
              "      <th>175919</th>\n",
              "      <td>41</td>\n",
              "      <td>M</td>\n",
              "      <td>B</td>\n",
              "      <td>83DISCHARGING FIREARM</td>\n",
              "      <td>DISCHARGING</td>\n",
              "      <td>Southwest</td>\n",
              "      <td>835</td>\n",
              "      <td>2014-01-01</td>\n",
              "      <td>00:05:00</td>\n",
              "    </tr>\n",
              "    <tr>\n",
              "      <th>175920</th>\n",
              "      <td>36</td>\n",
              "      <td>F</td>\n",
              "      <td>B</td>\n",
              "      <td>83DISCHARGING FIREARM</td>\n",
              "      <td>DISCHARGING</td>\n",
              "      <td>Southwest</td>\n",
              "      <td>835</td>\n",
              "      <td>2014-01-01</td>\n",
              "      <td>00:05:00</td>\n",
              "    </tr>\n",
              "    <tr>\n",
              "      <th>175921</th>\n",
              "      <td>30</td>\n",
              "      <td>M</td>\n",
              "      <td>B</td>\n",
              "      <td>83DISCHARGING FIREARM</td>\n",
              "      <td>HGV</td>\n",
              "      <td>Southwest</td>\n",
              "      <td>835</td>\n",
              "      <td>2014-01-01</td>\n",
              "      <td>00:05:00</td>\n",
              "    </tr>\n",
              "    <tr>\n",
              "      <th>175922</th>\n",
              "      <td>47</td>\n",
              "      <td>M</td>\n",
              "      <td>W</td>\n",
              "      <td>Unknown Offense</td>\n",
              "      <td>SEX OFF REG-FAIL NOTIFY/INCLD</td>\n",
              "      <td>&lt;NA&gt;</td>\n",
              "      <td>&lt;NA&gt;</td>\n",
              "      <td>2014-01-01</td>\n",
              "      <td>00:00:00</td>\n",
              "    </tr>\n",
              "  </tbody>\n",
              "</table>\n",
              "<p>175923 rows × 9 columns</p>\n",
              "</div>"
            ],
            "text/plain": [
              "        Age Gender Race  ...  Post        date      time\n",
              "0        27      M    B  ...   813  2020-12-31  23:50:00\n",
              "1        45      F    B  ...   722  2020-12-31  23:45:00\n",
              "2        42      F    W  ...   832  2020-12-31  23:40:00\n",
              "3        26      M    B  ...   922  2020-12-31  21:45:00\n",
              "4        19      M    B  ...   922  2020-12-31  21:45:00\n",
              "...     ...    ...  ...  ...   ...         ...       ...\n",
              "175918   35      M    B  ...   432  2014-01-01  00:05:00\n",
              "175919   41      M    B  ...   835  2014-01-01  00:05:00\n",
              "175920   36      F    B  ...   835  2014-01-01  00:05:00\n",
              "175921   30      M    B  ...   835  2014-01-01  00:05:00\n",
              "175922   47      M    W  ...  <NA>  2014-01-01  00:00:00\n",
              "\n",
              "[175923 rows x 9 columns]"
            ]
          },
          "metadata": {},
          "execution_count": 10
        }
      ]
    },
    {
      "cell_type": "markdown",
      "metadata": {
        "id": "b0FdFMYKbQe1"
      },
      "source": [
        "I will start by checking whether any of my features have null values"
      ]
    },
    {
      "cell_type": "code",
      "metadata": {
        "id": "xNAdUVRNa3uz",
        "colab": {
          "base_uri": "https://localhost:8080/"
        },
        "outputId": "63b8540b-08dd-4b5d-e33e-81dff38b924a"
      },
      "source": [
        "print(df.isna().sum())"
      ],
      "execution_count": 11,
      "outputs": [
        {
          "output_type": "stream",
          "name": "stdout",
          "text": [
            "X                     85795\n",
            "Y                     85795\n",
            "RowID                     0\n",
            "ArrestNumber           8226\n",
            "Age                      87\n",
            "Gender                   39\n",
            "Race                     39\n",
            "ArrestDateTime            0\n",
            "ArrestLocation        84435\n",
            "IncidentOffence           0\n",
            "IncidentLocation      84435\n",
            "Charge                19382\n",
            "ChargeDescription         0\n",
            "District              86032\n",
            "Post                  86032\n",
            "Neighborhood          86053\n",
            "Latitude              85795\n",
            "Longitude             85795\n",
            "GeoLocation               0\n",
            "Shape                175923\n",
            "dtype: int64\n"
          ]
        }
      ]
    },
    {
      "cell_type": "markdown",
      "metadata": {
        "id": "SvgT-AxMxKhp"
      },
      "source": [
        "#(Change this once we learn about semi supervised learning on 11/16)\n",
        "Now I will remove all the rows that contain an NA value\n",
        "\n",
        "This is not smart because you'd skew your accuracy "
      ]
    },
    {
      "cell_type": "code",
      "metadata": {
        "id": "OgHm13LQcHOc"
      },
      "source": [
        "#df = df.query('District.notna()', engine='python')\n",
        "#df"
      ],
      "execution_count": null,
      "outputs": []
    },
    {
      "cell_type": "markdown",
      "metadata": {
        "id": "Qm6vhlkdbiGs"
      },
      "source": [
        "Next I will check the 5 number summary for each of my features"
      ]
    },
    {
      "cell_type": "code",
      "metadata": {
        "id": "lrMkpXDAbE6M",
        "colab": {
          "base_uri": "https://localhost:8080/"
        },
        "outputId": "c4f63a1c-9079-4026-9d0a-9d3465704500"
      },
      "source": [
        "print(dfConverted.dtypes)\n",
        "print(dfConverted.describe(include='all').T)"
      ],
      "execution_count": 30,
      "outputs": [
        {
          "output_type": "stream",
          "name": "stdout",
          "text": [
            "Age                   Int64\n",
            "Gender               string\n",
            "Race                 string\n",
            "IncidentOffence      string\n",
            "ChargeDescription    string\n",
            "District             string\n",
            "Post                 string\n",
            "date                 object\n",
            "time                 object\n",
            "dtype: object\n",
            "                    count unique                top    freq  ...  25%  50%  75%  max\n",
            "Age                175836    NaN                NaN     NaN  ...   24   30   40  100\n",
            "Gender             175884      2                  M  142091  ...  NaN  NaN  NaN  NaN\n",
            "Race               175884      5                  B  144592  ...  NaN  NaN  NaN  NaN\n",
            "IncidentOffence    175923    172    Unknown Offense   91417  ...  NaN  NaN  NaN  NaN\n",
            "ChargeDescription  175923   7028  FAILURE TO APPEAR   27580  ...  NaN  NaN  NaN  NaN\n",
            "District            89891      9           Southern   11771  ...  NaN  NaN  NaN  NaN\n",
            "Post                89891    127                114    2504  ...  NaN  NaN  NaN  NaN\n",
            "date               175923   2866         2014-01-09     177  ...  NaN  NaN  NaN  NaN\n",
            "time               175923   1440           11:00:00    2834  ...  NaN  NaN  NaN  NaN\n",
            "\n",
            "[9 rows x 11 columns]\n"
          ]
        }
      ]
    },
    {
      "cell_type": "markdown",
      "metadata": {
        "id": "bKljo9BSbr-b"
      },
      "source": [
        "Next I will gather a visual summary of my data"
      ]
    },
    {
      "cell_type": "code",
      "metadata": {
        "id": "9xJFJurabG7k",
        "colab": {
          "base_uri": "https://localhost:8080/",
          "height": 842
        },
        "outputId": "743b2835-3613-4313-97db-c4015fa4bb54"
      },
      "source": [
        "from matplotlib import pyplot as plt\n",
        "%matplotlib inline\n",
        "\n",
        "axes = dfConverted[['Age','Gender','Race','IncidentOffence', 'ChargeDescription', 'District', 'Post', 'date', 'time']].hist(bins=50, figsize=(20,15))\n",
        "#Learned how to do the for loop for multi graph labeling here: https://stackoverflow.com/questions/69329880/how-do-i-label-the-x-y-axis-of-multiple-graphs-on-a-single-graph/69329975#69329975\n",
        "for ax in axes[0]:\n",
        "  ax.set_xlabel('x')\n",
        "  ax.set_ylabel('y')\n",
        "plt.show()"
      ],
      "execution_count": 27,
      "outputs": [
        {
          "output_type": "display_data",
          "data": {
            "image/png": "[encoded data removed]",
            "text/plain": [
              "<Figure size 1440x1080 with 1 Axes>"
            ]
          },
          "metadata": {
            "needs_background": "light"
          }
        }
      ]
    },
    {
      "cell_type": "markdown",
      "metadata": {
        "id": "nxZVvvQ6bJ0q"
      },
      "source": [
        "Next I'll check for any multicoliniarity"
      ]
    },
    {
      "cell_type": "code",
      "metadata": {
        "id": "EeDnvQGSbJDT"
      },
      "source": [
        "import seaborn as sns\n",
        "\n",
        "sns.heatmap(df.corr())\n",
        "plt.show()"
      ],
      "execution_count": null,
      "outputs": []
    },
    {
      "cell_type": "markdown",
      "metadata": {
        "id": "QZG8-N2JaiJL"
      },
      "source": [
        "#Data cleaning and Feature engineering\n"
      ]
    },
    {
      "cell_type": "code",
      "metadata": {
        "id": "1Lkg7OU8a4Nl"
      },
      "source": [
        ""
      ],
      "execution_count": null,
      "outputs": []
    },
    {
      "cell_type": "markdown",
      "metadata": {
        "id": "pxtsn0h1aoNe"
      },
      "source": [
        "#Modeling\n"
      ]
    },
    {
      "cell_type": "markdown",
      "metadata": {
        "id": "suO5ZiHcb05a"
      },
      "source": [
        "####Splitting Training and Test sets"
      ]
    },
    {
      "cell_type": "code",
      "metadata": {
        "id": "BCBMCRdla4o-"
      },
      "source": [
        "from sklearn.model_selection import train_test_split\n",
        "curr_Random_State = 50\n",
        "\n",
        "feature_names = df.columns[:-1]\n",
        "#The :-1 excludes the last column which is the target column.\n",
        "\n",
        "#Pre:\n",
        "#X = a valid index list representing columns\n",
        "#y = a valid column representing the target cass\n",
        "#state = a positive numeric integer representing the current \"random state\"\n",
        "#Post: returns two sets of training-test splits.\n",
        "def create_splits(x, y, state):\n",
        "    return (train_test_split(x, y, test_size=.25, random_state = state)\n",
        "    )\n",
        "tX_training, tX_test, ty_training, ty_test = create_splits(df[feature_names], df['Class'], curr_Random_State)\n",
        "print(f'Training samples: {tX_training.shape[0]}')\n",
        "print(f'Test samples: {tX_test.shape[0]}')"
      ],
      "execution_count": null,
      "outputs": []
    },
    {
      "cell_type": "markdown",
      "metadata": {
        "id": "MK0z5EWGcWfG"
      },
      "source": [
        "Now I will fit Fit a logistic regression, decision tree, and SVM using grid search\n",
        "\n",
        "First I will set up the pipeline"
      ]
    },
    {
      "cell_type": "code",
      "metadata": {
        "id": "AtJEhao0cVpM"
      },
      "source": [
        "from sklearn.pipeline import Pipeline\n",
        "from sklearn.compose import ColumnTransformer\n",
        "from sklearn.impute import SimpleImputer\n",
        "from sklearn.preprocessing import OneHotEncoder\n",
        "from sklearn.preprocessing import StandardScaler\n",
        "#First grab all the columns and put em in lists\n",
        "nums = df.dtypes[df.dtypes != 'object'].index.tolist()\n",
        "cats = df.dtypes[df.dtypes == 'object'].index.tolist()\n",
        "\n",
        "#Now remove the columns I dont think I need\n",
        "nums = [x for x in nums if x not in ['arr_delay']]\n",
        "cats = [x for x in cats if x not in ['tailnum']]\n",
        "\n",
        "num_pipeline = Pipeline([('impute_missing', SimpleImputer(strategy='median')),\n",
        "                           ('standardize_num', StandardScaler())\n",
        "                        ])\n",
        "\n",
        "cat_pipeline = Pipeline([('impute_missing_cats', SimpleImputer(strategy='most_frequent')),\n",
        "                          ('create_dummies_cats', OneHotEncoder(handle_unknown='ignore'))])\n",
        "\n",
        "processing_pipeline = ColumnTransformer(transformers=[('proc_numeric', num_pipeline, nums),\n",
        "                                                      ('create_dummies', cat_pipeline, cats)])\n",
        "\n",
        "print('Pipeline Created')"
      ],
      "execution_count": null,
      "outputs": []
    },
    {
      "cell_type": "markdown",
      "metadata": {
        "id": "Sod16MxJc6ZV"
      },
      "source": [
        "Logistic Regression with grid search"
      ]
    },
    {
      "cell_type": "code",
      "metadata": {
        "colab": {
          "base_uri": "https://localhost:8080/"
        },
        "id": "oZQ49WFqc4Tr",
        "outputId": "84a01b02-1bf8-491c-d065-6cd432339439"
      },
      "source": [
        "from sklearn.linear_model import LogisticRegression\n",
        "from sklearn.model_selection import GridSearchCV\n",
        "from sklearn.pipeline import Pipeline\n",
        "import time\n",
        "start_time = time.time()\n",
        "p1 = Pipeline([('processing', processing_pipeline),\n",
        "             ('lr', LogisticRegression(solver='liblinear'))])\n",
        "\n",
        "#Select various correlation strengths with a magnitude of 10\n",
        "params = {'lr__C': [.001, 0.01, 0.1, 1, 10, 100]}\n",
        "\n",
        "#I will score based on accurancy as that the dataset is not heavily skewed\n",
        "lr_gscv = GridSearchCV(p1, param_grid=params, cv=10, scoring='accuracy', refit=True)\n",
        "\n",
        "lr_gscv = lr_gscv.fit(tX_train, ty_train)\n",
        "\n",
        "print(f'Validation score: {lr_gscv.best_score_:.2%}')\n",
        "\n",
        "lr_pred = lr_gscv.predict(tX_test)\n",
        "\n",
        "print(f'Test score: {lr_gscv.score(tX_test, ty_test):.2%}')\n",
        "print (\"Runtime: \", time.time() - start_time, \" seconds\")"
      ],
      "execution_count": null,
      "outputs": [
        {
          "output_type": "stream",
          "name": "stdout",
          "text": [
            "Validation score: 68.77%\n",
            "Test score: 67.68%\n",
            "Runtime:  13.320276260375977  seconds\n"
          ]
        }
      ]
    },
    {
      "cell_type": "markdown",
      "metadata": {
        "id": "-Rt1Xkzzd0se"
      },
      "source": [
        "Descision Trees"
      ]
    },
    {
      "cell_type": "code",
      "metadata": {
        "id": "tvENq38Kdz6b",
        "colab": {
          "base_uri": "https://localhost:8080/"
        },
        "outputId": "d593f6ea-e695-4c3b-d89a-43719ea01e0b"
      },
      "source": [
        "from sklearn.tree import DecisionTreeClassifier\n",
        "from sklearn.model_selection import GridSearchCV\n",
        "from sklearn.pipeline import Pipeline\n",
        "import time\n",
        "start_time = time.time()\n",
        "\n",
        "p2 = Pipeline([('processing', processing_pipeline),\n",
        "             ('dt', DecisionTreeClassifier())])\n",
        "\n",
        "params = {'dt__max_depth': [1, 5, 10, 15, 25],\n",
        "         'dt__min_samples_split': [3, 10, 15]}\n",
        "\n",
        "dt_gscv = GridSearchCV(p2, param_grid=params, cv=10, scoring='accuracy', refit=True)\n",
        "dt_gscv = dt_gscv.fit(tX_train, ty_train)\n",
        "\n",
        "print(f'Validation score: {dt_gscv.best_score_:.2%}')\n",
        "\n",
        "dt_pred = dt_gscv.predict(tX_test)\n",
        "\n",
        "print(f'Test score: {dt_gscv.score(tX_test, ty_test):.2%}')\n",
        "print (\"Runtime: \", time.time() - start_time, \" seconds\")"
      ],
      "execution_count": null,
      "outputs": [
        {
          "output_type": "stream",
          "name": "stdout",
          "text": [
            "Validation score: 64.59%\n",
            "Test score: 62.70%\n",
            "Runtime:  43.282294034957886  seconds\n"
          ]
        }
      ]
    },
    {
      "cell_type": "markdown",
      "metadata": {
        "id": "V9wUS3bFd2ks"
      },
      "source": [
        "SVM"
      ]
    },
    {
      "cell_type": "code",
      "metadata": {
        "id": "Yg5rtfCPeStD",
        "colab": {
          "base_uri": "https://localhost:8080/"
        },
        "outputId": "abf7dc37-a8ec-44e2-9bb7-560cd35f4193"
      },
      "source": [
        "from sklearn.pipeline import Pipeline\n",
        "from sklearn.preprocessing import StandardScaler\n",
        "from sklearn.svm import SVC\n",
        "from sklearn.model_selection import GridSearchCV\n",
        "import time\n",
        "start_time = time.time()\n",
        "svm_m = modeling_pipeline = Pipeline([('processing', processing_pipeline),\n",
        "                                      ('scaling', StandardScaler(with_mean=False)),\n",
        "                                       ('model', SVC())])\n",
        "\n",
        "\n",
        "param_grid = [\n",
        "  {'model__C': [0.1, 1, 10, 100], 'model__kernel': ['rbf']}\n",
        " ]\n",
        "\n",
        "svm_results = GridSearchCV(estimator=svm_m, param_grid=param_grid, cv=10, scoring='accuracy', refit=True)\n",
        "svm_results = svm_results.fit(tX_train, ty_train)\n",
        "\n",
        "print(f'Validation score: {svm_results.best_score_:.2%}')\n",
        "\n",
        "svm_pred = svm_results.predict(tX_test)\n",
        "\n",
        "print(f'Test score: {svm_results.score(tX_test, ty_test):.2%}')\n",
        "print (\"Runtime: \", time.time() - start_time, \" seconds\")"
      ],
      "execution_count": null,
      "outputs": [
        {
          "output_type": "stream",
          "name": "stdout",
          "text": [
            "Validation score: 64.92%\n",
            "Test score: 65.09%\n",
            "Runtime:  195.7040295600891  seconds\n"
          ]
        }
      ]
    },
    {
      "cell_type": "markdown",
      "metadata": {
        "id": "weqkwJGUarpe"
      },
      "source": [
        "#Results and discussion\n"
      ]
    },
    {
      "cell_type": "markdown",
      "metadata": {
        "id": "PRbsFiCyWuyD"
      },
      "source": [
        "#Fit an ensemble using the three above models."
      ]
    },
    {
      "cell_type": "code",
      "metadata": {
        "id": "VGRkOMP4fzyh",
        "colab": {
          "base_uri": "https://localhost:8080/"
        },
        "outputId": "80e92358-96ec-4697-f3c4-0e9960792d7c"
      },
      "source": [
        "\n",
        "from sklearn.model_selection import cross_val_score\n",
        "from sklearn.linear_model import LogisticRegression\n",
        "from sklearn.tree import DecisionTreeClassifier\n",
        "from sklearn import svm\n",
        "from sklearn.pipeline import Pipeline\n",
        "import numpy as np\n",
        "\n",
        "clf1 = LogisticRegression(penalty='l2', C=0.001, solver='lbfgs', random_state=0)\n",
        "clf2 = DecisionTreeClassifier(max_depth=1, criterion='entropy', random_state=1)\n",
        "clf3 = svm.SVC(probability=True)\n",
        "\n",
        "pipe1 = Pipeline([('processing', processing_pipeline),\n",
        "             ('lr', LogisticRegression(solver='liblinear'))])\n",
        "pipe2 = Pipeline([('processing', processing_pipeline),\n",
        "             ('dt', DecisionTreeClassifier())])\n",
        "pipe3 = Pipeline([('processing', processing_pipeline),\n",
        "                ('scaling', StandardScaler(with_mean=False)),\n",
        "                ('model', SVC())])\n",
        "\n",
        "labs = ['Logistic Regression', 'Decision Tree', 'Support Vector Machine']\n",
        "clfs = [pipe1, pipe2, pipe3]\n",
        "clfs = zip(labs, clfs)\n",
        "\n",
        "for lab, clf in clfs:\n",
        "    scores = cross_val_score(estimator=clf, X=tX_train, y=ty_train, cv=10, scoring='accuracy')\n",
        "    print(f'Accuracy {scores.mean():.2f} (+/- {scores.std():.2f}) [{lab}]')"
      ],
      "execution_count": null,
      "outputs": [
        {
          "output_type": "stream",
          "name": "stdout",
          "text": [
            "Accuracy 0.68 (+/- 0.02) [Logistic Regression]\n",
            "Accuracy 0.59 (+/- 0.02) [Decision Tree]\n",
            "Accuracy 0.63 (+/- 0.01) [Support Vector Machine]\n"
          ]
        }
      ]
    },
    {
      "cell_type": "code",
      "metadata": {
        "id": "V9IYo87af1Gy",
        "colab": {
          "base_uri": "https://localhost:8080/"
        },
        "outputId": "e7766df9-711e-4a67-bd1f-2847c84c956e"
      },
      "source": [
        "from sklearn.ensemble import VotingClassifier\n",
        "\n",
        "ems = [('lr', pipe1),('dt', pipe2),('model', pipe3)]\n",
        "#Changing voting to hard because SVM doesnt use probabilities\n",
        "#so using the mode is ok\n",
        "clf4 = VotingClassifier(estimators= ems, weights=None, voting='hard')\n",
        "\n",
        "scores = cross_val_score(estimator=clf4, X=tX_train, y=ty_train, cv=10, scoring='accuracy')\n",
        "print(f'Accuracy {scores.mean():.2f} (+/- {scores.std():.2f}) [Ensemble]')"
      ],
      "execution_count": null,
      "outputs": [
        {
          "output_type": "stream",
          "name": "stdout",
          "text": [
            "Accuracy 0.66 (+/- 0.01) [Ensemble]\n"
          ]
        }
      ]
    },
    {
      "cell_type": "markdown",
      "metadata": {
        "id": "qYwmGU3td7-c"
      },
      "source": [
        "ADA BOOST"
      ]
    },
    {
      "cell_type": "code",
      "metadata": {
        "id": "As3EEQHDd7Kp",
        "colab": {
          "base_uri": "https://localhost:8080/"
        },
        "outputId": "9a911635-2da1-4b6c-df73-8f8ea34f3281"
      },
      "source": [
        "from sklearn.ensemble import AdaBoostClassifier\n",
        "from sklearn.tree import DecisionTreeClassifier\n",
        "from sklearn.model_selection import GridSearchCV\n",
        "from sklearn.pipeline import Pipeline\n",
        "import time\n",
        "start_time = time.time()\n",
        "# multi-step pipelines don't play as nice with AdaBoost\n",
        "xt = processing_pipeline.fit_transform(tX_train)\n",
        "\n",
        "params = {'n_estimators': [50, 100, 200, 500, 1000]\n",
        "         }\n",
        "\n",
        "#ABC = AdaBoostClassifier(base_estimator=p2)\n",
        "ABC = AdaBoostClassifier(DecisionTreeClassifier())\n",
        "\n",
        "\n",
        "ad_gscv = GridSearchCV(ABC, param_grid = params, cv=10, scoring='accuracy')\n",
        "           \n",
        "ad_gscv = ad_gscv.fit(xt, ty_train)\n",
        "\n",
        "print(f'Validation score: {ad_gscv.best_score_:.2%}')\n",
        "\n",
        "xtt = processing_pipeline.transform(tX_test)\n",
        "\n",
        "ad_pred = ad_gscv.predict(xtt)\n",
        "\n",
        "print(f'Test score: {ad_gscv.score(xtt, ty_test):.2%}')\n",
        "print (\"Runtime: \", time.time() - start_time, \" seconds\")"
      ],
      "execution_count": null,
      "outputs": [
        {
          "output_type": "stream",
          "name": "stdout",
          "text": [
            "Validation score: 58.57%\n",
            "Test score: 58.34%\n",
            "Runtime:  23.792025566101074  seconds\n"
          ]
        }
      ]
    },
    {
      "cell_type": "markdown",
      "metadata": {
        "id": "YSJHarB0WsKt"
      },
      "source": [
        "#Discuss the performance of each model.\n",
        "* Logistic Regression had the highest accuracy score and took the least amount of time to run\n",
        "* SVM took the longest despite searching over less correlation strengths. This is most likely due to the immense ammount of copies being created during SVM\n",
        "* Descision Trees had the lowest accuracy score"
      ]
    },
    {
      "cell_type": "code",
      "metadata": {
        "id": "oEI22OU_a5BR"
      },
      "source": [
        ""
      ],
      "execution_count": null,
      "outputs": []
    },
    {
      "cell_type": "markdown",
      "metadata": {
        "id": "n13atavYavs_"
      },
      "source": [
        "#Conclusion/next steps\n"
      ]
    },
    {
      "cell_type": "code",
      "metadata": {
        "id": "1J9AO1kEa5fT"
      },
      "source": [
        ""
      ],
      "execution_count": null,
      "outputs": []
    }
  ]
}