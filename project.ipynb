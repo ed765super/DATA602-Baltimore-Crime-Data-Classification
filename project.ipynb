{
  "nbformat": 4,
  "nbformat_minor": 0,
  "metadata": {
    "colab": {
      "name": "project.ipynb",
      "provenance": [],
      "authorship_tag": "ABX9TyON2qCRJ0fDefkhPQ0ZVEaj",
      "include_colab_link": true
    },
    "kernelspec": {
      "name": "python3",
      "display_name": "Python 3"
    },
    "language_info": {
      "name": "python"
    }
  },
  "cells": [
    {
      "cell_type": "markdown",
      "metadata": {
        "id": "view-in-github",
        "colab_type": "text"
      },
      "source": [
        "<a href=\"https://colab.research.google.com/github/ed765super/DATA602-Baltimore-Employee-Data-Classification/blob/main/project.ipynb\" target=\"_parent\"><img src=\"https://colab.research.google.com/assets/colab-badge.svg\" alt=\"Open In Colab\"/></a>"
      ]
    },
    {
      "cell_type": "markdown",
      "metadata": {
        "id": "z4C0d-WFaV93"
      },
      "source": [
        "#Background Information/Buisness Question"
      ]
    },
    {
      "cell_type": "markdown",
      "metadata": {
        "id": "kDyLPPdGvt7e"
      },
      "source": [
        "The Baltimore Police Agency launched a massive overhaul to its new Records Management Systems in May 2020. The improvement will enable the department to migrate from a paper-based system to a completely digital reporting environment. As a consequence of this major shift, we had significant difficulties in appropriately transferring data from the new records system to the previous Open Data Baltimore system. The \"Arrests\" dataset is one of many open datasets made publicly accessible by Baltimore's police department on the city's Open Data website. This information is provided to us in order to foster more openness and data exchange between the local administration and its residents. This dataset contains arrest records for offenses such as assault, theft, and property damage in the City of Baltimore.\n",
        "\n",
        "Imma predict the district\n",
        "\n",
        "Imma use the predicted possibilities to see if there is bias in policing efforts in certain districts."
      ]
    },
    {
      "cell_type": "markdown",
      "metadata": {
        "id": "G4TvIshpQTMg"
      },
      "source": [
        "Note, the goal of this project isnt to get the best accuracy, but your process and your narrative."
      ]
    },
    {
      "cell_type": "code",
      "metadata": {
        "colab": {
          "base_uri": "https://localhost:8080/",
          "height": 438
        },
        "id": "w_bvGhz2fpf8",
        "outputId": "c6ed7f33-0512-4072-b920-c50ca9302562"
      },
      "source": [
        "import pandas as pd\n",
        "#https://www.kaggle.com/aashofteh/train-dataset-kaggle-credit-scoring-1\n",
        "df = pd.read_csv('Arrests.csv', sep=',')\n",
        "print(df.info())\n",
        "print(df.describe(include='all'))\n",
        "df"
      ],
      "execution_count": 1,
      "outputs": [
        {
          "output_type": "error",
          "ename": "FileNotFoundError",
          "evalue": "ignored",
          "traceback": [
            "\u001b[0;31m---------------------------------------------------------------------------\u001b[0m",
            "\u001b[0;31mFileNotFoundError\u001b[0m                         Traceback (most recent call last)",
            "\u001b[0;32m<ipython-input-1-973700f1861a>\u001b[0m in \u001b[0;36m<module>\u001b[0;34m()\u001b[0m\n\u001b[1;32m      1\u001b[0m \u001b[0;32mimport\u001b[0m \u001b[0mpandas\u001b[0m \u001b[0;32mas\u001b[0m \u001b[0mpd\u001b[0m\u001b[0;34m\u001b[0m\u001b[0;34m\u001b[0m\u001b[0m\n\u001b[1;32m      2\u001b[0m \u001b[0;31m#https://www.kaggle.com/aashofteh/train-dataset-kaggle-credit-scoring-1\u001b[0m\u001b[0;34m\u001b[0m\u001b[0;34m\u001b[0m\u001b[0;34m\u001b[0m\u001b[0m\n\u001b[0;32m----> 3\u001b[0;31m \u001b[0mdf\u001b[0m \u001b[0;34m=\u001b[0m \u001b[0mpd\u001b[0m\u001b[0;34m.\u001b[0m\u001b[0mread_csv\u001b[0m\u001b[0;34m(\u001b[0m\u001b[0;34m'Arrests.csv'\u001b[0m\u001b[0;34m,\u001b[0m \u001b[0msep\u001b[0m\u001b[0;34m=\u001b[0m\u001b[0;34m','\u001b[0m\u001b[0;34m)\u001b[0m\u001b[0;34m\u001b[0m\u001b[0;34m\u001b[0m\u001b[0m\n\u001b[0m\u001b[1;32m      4\u001b[0m \u001b[0mprint\u001b[0m\u001b[0;34m(\u001b[0m\u001b[0mdf\u001b[0m\u001b[0;34m.\u001b[0m\u001b[0minfo\u001b[0m\u001b[0;34m(\u001b[0m\u001b[0;34m)\u001b[0m\u001b[0;34m)\u001b[0m\u001b[0;34m\u001b[0m\u001b[0;34m\u001b[0m\u001b[0m\n\u001b[1;32m      5\u001b[0m \u001b[0mprint\u001b[0m\u001b[0;34m(\u001b[0m\u001b[0mdf\u001b[0m\u001b[0;34m.\u001b[0m\u001b[0mdescribe\u001b[0m\u001b[0;34m(\u001b[0m\u001b[0minclude\u001b[0m\u001b[0;34m=\u001b[0m\u001b[0;34m'all'\u001b[0m\u001b[0;34m)\u001b[0m\u001b[0;34m)\u001b[0m\u001b[0;34m\u001b[0m\u001b[0;34m\u001b[0m\u001b[0m\n",
            "\u001b[0;32m/usr/local/lib/python3.7/dist-packages/pandas/io/parsers.py\u001b[0m in \u001b[0;36mread_csv\u001b[0;34m(filepath_or_buffer, sep, delimiter, header, names, index_col, usecols, squeeze, prefix, mangle_dupe_cols, dtype, engine, converters, true_values, false_values, skipinitialspace, skiprows, skipfooter, nrows, na_values, keep_default_na, na_filter, verbose, skip_blank_lines, parse_dates, infer_datetime_format, keep_date_col, date_parser, dayfirst, cache_dates, iterator, chunksize, compression, thousands, decimal, lineterminator, quotechar, quoting, doublequote, escapechar, comment, encoding, dialect, error_bad_lines, warn_bad_lines, delim_whitespace, low_memory, memory_map, float_precision)\u001b[0m\n\u001b[1;32m    686\u001b[0m     )\n\u001b[1;32m    687\u001b[0m \u001b[0;34m\u001b[0m\u001b[0m\n\u001b[0;32m--> 688\u001b[0;31m     \u001b[0;32mreturn\u001b[0m \u001b[0m_read\u001b[0m\u001b[0;34m(\u001b[0m\u001b[0mfilepath_or_buffer\u001b[0m\u001b[0;34m,\u001b[0m \u001b[0mkwds\u001b[0m\u001b[0;34m)\u001b[0m\u001b[0;34m\u001b[0m\u001b[0;34m\u001b[0m\u001b[0m\n\u001b[0m\u001b[1;32m    689\u001b[0m \u001b[0;34m\u001b[0m\u001b[0m\n\u001b[1;32m    690\u001b[0m \u001b[0;34m\u001b[0m\u001b[0m\n",
            "\u001b[0;32m/usr/local/lib/python3.7/dist-packages/pandas/io/parsers.py\u001b[0m in \u001b[0;36m_read\u001b[0;34m(filepath_or_buffer, kwds)\u001b[0m\n\u001b[1;32m    452\u001b[0m \u001b[0;34m\u001b[0m\u001b[0m\n\u001b[1;32m    453\u001b[0m     \u001b[0;31m# Create the parser.\u001b[0m\u001b[0;34m\u001b[0m\u001b[0;34m\u001b[0m\u001b[0;34m\u001b[0m\u001b[0m\n\u001b[0;32m--> 454\u001b[0;31m     \u001b[0mparser\u001b[0m \u001b[0;34m=\u001b[0m \u001b[0mTextFileReader\u001b[0m\u001b[0;34m(\u001b[0m\u001b[0mfp_or_buf\u001b[0m\u001b[0;34m,\u001b[0m \u001b[0;34m**\u001b[0m\u001b[0mkwds\u001b[0m\u001b[0;34m)\u001b[0m\u001b[0;34m\u001b[0m\u001b[0;34m\u001b[0m\u001b[0m\n\u001b[0m\u001b[1;32m    455\u001b[0m \u001b[0;34m\u001b[0m\u001b[0m\n\u001b[1;32m    456\u001b[0m     \u001b[0;32mif\u001b[0m \u001b[0mchunksize\u001b[0m \u001b[0;32mor\u001b[0m \u001b[0miterator\u001b[0m\u001b[0;34m:\u001b[0m\u001b[0;34m\u001b[0m\u001b[0;34m\u001b[0m\u001b[0m\n",
            "\u001b[0;32m/usr/local/lib/python3.7/dist-packages/pandas/io/parsers.py\u001b[0m in \u001b[0;36m__init__\u001b[0;34m(self, f, engine, **kwds)\u001b[0m\n\u001b[1;32m    946\u001b[0m             \u001b[0mself\u001b[0m\u001b[0;34m.\u001b[0m\u001b[0moptions\u001b[0m\u001b[0;34m[\u001b[0m\u001b[0;34m\"has_index_names\"\u001b[0m\u001b[0;34m]\u001b[0m \u001b[0;34m=\u001b[0m \u001b[0mkwds\u001b[0m\u001b[0;34m[\u001b[0m\u001b[0;34m\"has_index_names\"\u001b[0m\u001b[0;34m]\u001b[0m\u001b[0;34m\u001b[0m\u001b[0;34m\u001b[0m\u001b[0m\n\u001b[1;32m    947\u001b[0m \u001b[0;34m\u001b[0m\u001b[0m\n\u001b[0;32m--> 948\u001b[0;31m         \u001b[0mself\u001b[0m\u001b[0;34m.\u001b[0m\u001b[0m_make_engine\u001b[0m\u001b[0;34m(\u001b[0m\u001b[0mself\u001b[0m\u001b[0;34m.\u001b[0m\u001b[0mengine\u001b[0m\u001b[0;34m)\u001b[0m\u001b[0;34m\u001b[0m\u001b[0;34m\u001b[0m\u001b[0m\n\u001b[0m\u001b[1;32m    949\u001b[0m \u001b[0;34m\u001b[0m\u001b[0m\n\u001b[1;32m    950\u001b[0m     \u001b[0;32mdef\u001b[0m \u001b[0mclose\u001b[0m\u001b[0;34m(\u001b[0m\u001b[0mself\u001b[0m\u001b[0;34m)\u001b[0m\u001b[0;34m:\u001b[0m\u001b[0;34m\u001b[0m\u001b[0;34m\u001b[0m\u001b[0m\n",
            "\u001b[0;32m/usr/local/lib/python3.7/dist-packages/pandas/io/parsers.py\u001b[0m in \u001b[0;36m_make_engine\u001b[0;34m(self, engine)\u001b[0m\n\u001b[1;32m   1178\u001b[0m     \u001b[0;32mdef\u001b[0m \u001b[0m_make_engine\u001b[0m\u001b[0;34m(\u001b[0m\u001b[0mself\u001b[0m\u001b[0;34m,\u001b[0m \u001b[0mengine\u001b[0m\u001b[0;34m=\u001b[0m\u001b[0;34m\"c\"\u001b[0m\u001b[0;34m)\u001b[0m\u001b[0;34m:\u001b[0m\u001b[0;34m\u001b[0m\u001b[0;34m\u001b[0m\u001b[0m\n\u001b[1;32m   1179\u001b[0m         \u001b[0;32mif\u001b[0m \u001b[0mengine\u001b[0m \u001b[0;34m==\u001b[0m \u001b[0;34m\"c\"\u001b[0m\u001b[0;34m:\u001b[0m\u001b[0;34m\u001b[0m\u001b[0;34m\u001b[0m\u001b[0m\n\u001b[0;32m-> 1180\u001b[0;31m             \u001b[0mself\u001b[0m\u001b[0;34m.\u001b[0m\u001b[0m_engine\u001b[0m \u001b[0;34m=\u001b[0m \u001b[0mCParserWrapper\u001b[0m\u001b[0;34m(\u001b[0m\u001b[0mself\u001b[0m\u001b[0;34m.\u001b[0m\u001b[0mf\u001b[0m\u001b[0;34m,\u001b[0m \u001b[0;34m**\u001b[0m\u001b[0mself\u001b[0m\u001b[0;34m.\u001b[0m\u001b[0moptions\u001b[0m\u001b[0;34m)\u001b[0m\u001b[0;34m\u001b[0m\u001b[0;34m\u001b[0m\u001b[0m\n\u001b[0m\u001b[1;32m   1181\u001b[0m         \u001b[0;32melse\u001b[0m\u001b[0;34m:\u001b[0m\u001b[0;34m\u001b[0m\u001b[0;34m\u001b[0m\u001b[0m\n\u001b[1;32m   1182\u001b[0m             \u001b[0;32mif\u001b[0m \u001b[0mengine\u001b[0m \u001b[0;34m==\u001b[0m \u001b[0;34m\"python\"\u001b[0m\u001b[0;34m:\u001b[0m\u001b[0;34m\u001b[0m\u001b[0;34m\u001b[0m\u001b[0m\n",
            "\u001b[0;32m/usr/local/lib/python3.7/dist-packages/pandas/io/parsers.py\u001b[0m in \u001b[0;36m__init__\u001b[0;34m(self, src, **kwds)\u001b[0m\n\u001b[1;32m   2008\u001b[0m         \u001b[0mkwds\u001b[0m\u001b[0;34m[\u001b[0m\u001b[0;34m\"usecols\"\u001b[0m\u001b[0;34m]\u001b[0m \u001b[0;34m=\u001b[0m \u001b[0mself\u001b[0m\u001b[0;34m.\u001b[0m\u001b[0musecols\u001b[0m\u001b[0;34m\u001b[0m\u001b[0;34m\u001b[0m\u001b[0m\n\u001b[1;32m   2009\u001b[0m \u001b[0;34m\u001b[0m\u001b[0m\n\u001b[0;32m-> 2010\u001b[0;31m         \u001b[0mself\u001b[0m\u001b[0;34m.\u001b[0m\u001b[0m_reader\u001b[0m \u001b[0;34m=\u001b[0m \u001b[0mparsers\u001b[0m\u001b[0;34m.\u001b[0m\u001b[0mTextReader\u001b[0m\u001b[0;34m(\u001b[0m\u001b[0msrc\u001b[0m\u001b[0;34m,\u001b[0m \u001b[0;34m**\u001b[0m\u001b[0mkwds\u001b[0m\u001b[0;34m)\u001b[0m\u001b[0;34m\u001b[0m\u001b[0;34m\u001b[0m\u001b[0m\n\u001b[0m\u001b[1;32m   2011\u001b[0m         \u001b[0mself\u001b[0m\u001b[0;34m.\u001b[0m\u001b[0munnamed_cols\u001b[0m \u001b[0;34m=\u001b[0m \u001b[0mself\u001b[0m\u001b[0;34m.\u001b[0m\u001b[0m_reader\u001b[0m\u001b[0;34m.\u001b[0m\u001b[0munnamed_cols\u001b[0m\u001b[0;34m\u001b[0m\u001b[0;34m\u001b[0m\u001b[0m\n\u001b[1;32m   2012\u001b[0m \u001b[0;34m\u001b[0m\u001b[0m\n",
            "\u001b[0;32mpandas/_libs/parsers.pyx\u001b[0m in \u001b[0;36mpandas._libs.parsers.TextReader.__cinit__\u001b[0;34m()\u001b[0m\n",
            "\u001b[0;32mpandas/_libs/parsers.pyx\u001b[0m in \u001b[0;36mpandas._libs.parsers.TextReader._setup_parser_source\u001b[0;34m()\u001b[0m\n",
            "\u001b[0;31mFileNotFoundError\u001b[0m: [Errno 2] No such file or directory: 'Arrests.csv'"
          ]
        }
      ]
    },
    {
      "cell_type": "markdown",
      "metadata": {
        "id": "NxU8OftjaeQz"
      },
      "source": [
        "#EDA\n"
      ]
    },
    {
      "cell_type": "markdown",
      "metadata": {
        "id": "vrP47eFByuNx"
      },
      "source": [
        "Before doing anything I need to modify the data types to better represent the values in each of the columns"
      ]
    },
    {
      "cell_type": "code",
      "metadata": {
        "colab": {
          "base_uri": "https://localhost:8080/"
        },
        "id": "iWGt_Ts1ytsJ",
        "outputId": "98d207cd-be2f-440a-fd42-a93124f4257c"
      },
      "source": [
        "dfConverted = df.convert_dtypes()\n",
        "dfConverted.dtypes"
      ],
      "execution_count": null,
      "outputs": [
        {
          "output_type": "execute_result",
          "data": {
            "text/plain": [
              "X                    float64\n",
              "Y                    float64\n",
              "RowID                  Int64\n",
              "ArrestNumber           Int64\n",
              "Age                    Int64\n",
              "Gender                string\n",
              "Race                  string\n",
              "ArrestDateTime        string\n",
              "ArrestLocation        string\n",
              "IncidentOffence       string\n",
              "IncidentLocation      string\n",
              "Charge                string\n",
              "ChargeDescription     string\n",
              "District              string\n",
              "Post                  string\n",
              "Neighborhood          string\n",
              "Latitude             float64\n",
              "Longitude            float64\n",
              "GeoLocation           string\n",
              "Shape                  Int64\n",
              "dtype: object"
            ]
          },
          "metadata": {},
          "execution_count": 19
        }
      ]
    },
    {
      "cell_type": "markdown",
      "metadata": {
        "id": "3BjL1-X6v2aw"
      },
      "source": [
        "First there are some features that will not contribute to my classification problem.\n",
        "* 'X', 'Y', 'RowID', and 'ArrestNumber': are all similar indexing variables that will provide nothing to the classification\n",
        "* 'ArrestLocation', 'IncidentLocation', 'Neighborhood': This wouldnt fit my classification problem as my model shouldnt need location information to determine the district the crime happened\n",
        "* 'Latitude', 'Longitude', and 'GeoLocation' all provide the same information. This wouldnt fit my classification problem as my model shouldnt need location information to determine the district the crime happened\n",
        "* 'Shape': Shape is a useless feature column that provides no information and is mostly filled with NA values \n",
        "* Charge: Charge and Charge Description hold what is basically the same information. Thus when I throw them into a OHE they will provide redundancy which is bad"
      ]
    },
    {
      "cell_type": "code",
      "metadata": {
        "id": "vo31fvRXv16K"
      },
      "source": [
        "dfConverted = dfConverted.drop(['X', 'Y', 'RowID', 'ArrestNumber', 'ArrestLocation', \n",
        "              'IncidentLocation', 'Neighborhood', 'Latitude', 'Longitude',\n",
        "              'GeoLocation', 'Shape', 'Charge'], axis = 1)"
      ],
      "execution_count": null,
      "outputs": []
    },
    {
      "cell_type": "code",
      "metadata": {
        "colab": {
          "base_uri": "https://localhost:8080/",
          "height": 585
        },
        "id": "datX8CTuw7xo",
        "outputId": "74aaf079-85ab-497e-c015-e938fffeed8f"
      },
      "source": [
        "print(dfConverted.dtypes)\n",
        "dfConverted"
      ],
      "execution_count": null,
      "outputs": [
        {
          "output_type": "stream",
          "name": "stdout",
          "text": [
            "Age                   Int64\n",
            "Gender               string\n",
            "Race                 string\n",
            "ArrestDateTime       string\n",
            "IncidentOffence      string\n",
            "Charge               string\n",
            "ChargeDescription    string\n",
            "District             string\n",
            "Post                 string\n",
            "dtype: object\n"
          ]
        },
        {
          "output_type": "execute_result",
          "data": {
            "text/html": [
              "<div>\n",
              "<style scoped>\n",
              "    .dataframe tbody tr th:only-of-type {\n",
              "        vertical-align: middle;\n",
              "    }\n",
              "\n",
              "    .dataframe tbody tr th {\n",
              "        vertical-align: top;\n",
              "    }\n",
              "\n",
              "    .dataframe thead th {\n",
              "        text-align: right;\n",
              "    }\n",
              "</style>\n",
              "<table border=\"1\" class=\"dataframe\">\n",
              "  <thead>\n",
              "    <tr style=\"text-align: right;\">\n",
              "      <th></th>\n",
              "      <th>Age</th>\n",
              "      <th>Gender</th>\n",
              "      <th>Race</th>\n",
              "      <th>ArrestDateTime</th>\n",
              "      <th>IncidentOffence</th>\n",
              "      <th>Charge</th>\n",
              "      <th>ChargeDescription</th>\n",
              "      <th>District</th>\n",
              "      <th>Post</th>\n",
              "    </tr>\n",
              "  </thead>\n",
              "  <tbody>\n",
              "    <tr>\n",
              "      <th>0</th>\n",
              "      <td>27</td>\n",
              "      <td>M</td>\n",
              "      <td>B</td>\n",
              "      <td>2020/12/31 23:50:00+00</td>\n",
              "      <td>96BINVESTIGATIVE STOP</td>\n",
              "      <td>1 0692</td>\n",
              "      <td>HAND GUN VIOLATION</td>\n",
              "      <td>Southwest</td>\n",
              "      <td>813</td>\n",
              "    </tr>\n",
              "    <tr>\n",
              "      <th>1</th>\n",
              "      <td>45</td>\n",
              "      <td>F</td>\n",
              "      <td>B</td>\n",
              "      <td>2020/12/31 23:45:00+00</td>\n",
              "      <td>Unknown Offense</td>\n",
              "      <td>2 0480</td>\n",
              "      <td>AUTO THEFT</td>\n",
              "      <td>Western</td>\n",
              "      <td>722</td>\n",
              "    </tr>\n",
              "    <tr>\n",
              "      <th>2</th>\n",
              "      <td>42</td>\n",
              "      <td>F</td>\n",
              "      <td>W</td>\n",
              "      <td>2020/12/31 23:40:00+00</td>\n",
              "      <td>Unknown Offense</td>\n",
              "      <td>1 1415</td>\n",
              "      <td>2ND DEGREE ASSAULT</td>\n",
              "      <td>Southwest</td>\n",
              "      <td>832</td>\n",
              "    </tr>\n",
              "    <tr>\n",
              "      <th>3</th>\n",
              "      <td>26</td>\n",
              "      <td>M</td>\n",
              "      <td>B</td>\n",
              "      <td>2020/12/31 21:45:00+00</td>\n",
              "      <td>Unknown Offense</td>\n",
              "      <td>1 0233</td>\n",
              "      <td>PWID</td>\n",
              "      <td>Southern</td>\n",
              "      <td>922</td>\n",
              "    </tr>\n",
              "    <tr>\n",
              "      <th>4</th>\n",
              "      <td>19</td>\n",
              "      <td>M</td>\n",
              "      <td>B</td>\n",
              "      <td>2020/12/31 21:45:00+00</td>\n",
              "      <td>Unknown Offense</td>\n",
              "      <td>1 0233</td>\n",
              "      <td>PWID</td>\n",
              "      <td>Southern</td>\n",
              "      <td>922</td>\n",
              "    </tr>\n",
              "    <tr>\n",
              "      <th>...</th>\n",
              "      <td>...</td>\n",
              "      <td>...</td>\n",
              "      <td>...</td>\n",
              "      <td>...</td>\n",
              "      <td>...</td>\n",
              "      <td>...</td>\n",
              "      <td>...</td>\n",
              "      <td>...</td>\n",
              "      <td>...</td>\n",
              "    </tr>\n",
              "    <tr>\n",
              "      <th>175918</th>\n",
              "      <td>35</td>\n",
              "      <td>M</td>\n",
              "      <td>B</td>\n",
              "      <td>2014/01/01 00:05:00+00</td>\n",
              "      <td>Unknown Offense</td>\n",
              "      <td>1 1609</td>\n",
              "      <td>FIREARM VIOLATION</td>\n",
              "      <td>Northeast</td>\n",
              "      <td>432</td>\n",
              "    </tr>\n",
              "    <tr>\n",
              "      <th>175919</th>\n",
              "      <td>41</td>\n",
              "      <td>M</td>\n",
              "      <td>B</td>\n",
              "      <td>2014/01/01 00:05:00+00</td>\n",
              "      <td>83DISCHARGING FIREARM</td>\n",
              "      <td>1 5212</td>\n",
              "      <td>DISCHARGING</td>\n",
              "      <td>Southwest</td>\n",
              "      <td>835</td>\n",
              "    </tr>\n",
              "    <tr>\n",
              "      <th>175920</th>\n",
              "      <td>36</td>\n",
              "      <td>F</td>\n",
              "      <td>B</td>\n",
              "      <td>2014/01/01 00:05:00+00</td>\n",
              "      <td>83DISCHARGING FIREARM</td>\n",
              "      <td>1 5212</td>\n",
              "      <td>DISCHARGING</td>\n",
              "      <td>Southwest</td>\n",
              "      <td>835</td>\n",
              "    </tr>\n",
              "    <tr>\n",
              "      <th>175921</th>\n",
              "      <td>30</td>\n",
              "      <td>M</td>\n",
              "      <td>B</td>\n",
              "      <td>2014/01/01 00:05:00+00</td>\n",
              "      <td>83DISCHARGING FIREARM</td>\n",
              "      <td>1 5212</td>\n",
              "      <td>HGV</td>\n",
              "      <td>Southwest</td>\n",
              "      <td>835</td>\n",
              "    </tr>\n",
              "    <tr>\n",
              "      <th>175922</th>\n",
              "      <td>47</td>\n",
              "      <td>M</td>\n",
              "      <td>W</td>\n",
              "      <td>2014/01/01 00:00:00+00</td>\n",
              "      <td>Unknown Offense</td>\n",
              "      <td>2 1134</td>\n",
              "      <td>SEX OFF REG-FAIL NOTIFY/INCLD</td>\n",
              "      <td>&lt;NA&gt;</td>\n",
              "      <td>&lt;NA&gt;</td>\n",
              "    </tr>\n",
              "  </tbody>\n",
              "</table>\n",
              "<p>175923 rows × 9 columns</p>\n",
              "</div>"
            ],
            "text/plain": [
              "        Age Gender Race  ...              ChargeDescription   District  Post\n",
              "0        27      M    B  ...             HAND GUN VIOLATION  Southwest   813\n",
              "1        45      F    B  ...                     AUTO THEFT    Western   722\n",
              "2        42      F    W  ...             2ND DEGREE ASSAULT  Southwest   832\n",
              "3        26      M    B  ...                           PWID   Southern   922\n",
              "4        19      M    B  ...                           PWID   Southern   922\n",
              "...     ...    ...  ...  ...                            ...        ...   ...\n",
              "175918   35      M    B  ...              FIREARM VIOLATION  Northeast   432\n",
              "175919   41      M    B  ...                    DISCHARGING  Southwest   835\n",
              "175920   36      F    B  ...                    DISCHARGING  Southwest   835\n",
              "175921   30      M    B  ...                            HGV  Southwest   835\n",
              "175922   47      M    W  ...  SEX OFF REG-FAIL NOTIFY/INCLD       <NA>  <NA>\n",
              "\n",
              "[175923 rows x 9 columns]"
            ]
          },
          "metadata": {},
          "execution_count": 21
        }
      ]
    },
    {
      "cell_type": "markdown",
      "metadata": {
        "id": "YhtdAAyr0lTx"
      },
      "source": [
        "I may want the date and the time seperate to cut down on the sparcity of the dummy matrix formed when one hot encoding. But that is only nessessary if it there are a large number of unique values. So first I will check how many unique values are there vs the total values"
      ]
    },
    {
      "cell_type": "code",
      "metadata": {
        "colab": {
          "base_uri": "https://localhost:8080/"
        },
        "id": "1Sk0QWp_019W",
        "outputId": "b7ef153f-5d70-4180-f1d6-ed5360b56f36"
      },
      "source": [
        "print(\"There are\", dfConverted.ArrestDateTime.count() - len(dfConverted.ArrestDateTime.unique()), \"Non unique values\")"
      ],
      "execution_count": null,
      "outputs": [
        {
          "output_type": "stream",
          "name": "stdout",
          "text": [
            "There are 45088 Non unique values\n"
          ]
        }
      ]
    },
    {
      "cell_type": "code",
      "metadata": {
        "colab": {
          "base_uri": "https://localhost:8080/",
          "height": 585
        },
        "id": "CQ5JIOPV0xVr",
        "outputId": "8dfdea91-37a8-4688-d548-4092957a1489"
      },
      "source": [
        "#Fromhttps://www.tutorialspoint.com/write-a-program-to-separate-date-and-time-from-the-datetime-column-in-python-pandas\n",
        "dfConverted['date'] = pd.to_datetime(dfConverted['ArrestDateTime']).dt.date\n",
        "dfConverted['time'] = pd.to_datetime(dfConverted['ArrestDateTime']).dt.time\n",
        "dfConverted"
      ],
      "execution_count": null,
      "outputs": [
        {
          "output_type": "execute_result",
          "data": {
            "text/html": [
              "<div>\n",
              "<style scoped>\n",
              "    .dataframe tbody tr th:only-of-type {\n",
              "        vertical-align: middle;\n",
              "    }\n",
              "\n",
              "    .dataframe tbody tr th {\n",
              "        vertical-align: top;\n",
              "    }\n",
              "\n",
              "    .dataframe thead th {\n",
              "        text-align: right;\n",
              "    }\n",
              "</style>\n",
              "<table border=\"1\" class=\"dataframe\">\n",
              "  <thead>\n",
              "    <tr style=\"text-align: right;\">\n",
              "      <th></th>\n",
              "      <th>Age</th>\n",
              "      <th>Gender</th>\n",
              "      <th>Race</th>\n",
              "      <th>ArrestDateTime</th>\n",
              "      <th>IncidentOffence</th>\n",
              "      <th>Charge</th>\n",
              "      <th>ChargeDescription</th>\n",
              "      <th>District</th>\n",
              "      <th>Post</th>\n",
              "      <th>date</th>\n",
              "      <th>time</th>\n",
              "    </tr>\n",
              "  </thead>\n",
              "  <tbody>\n",
              "    <tr>\n",
              "      <th>0</th>\n",
              "      <td>27</td>\n",
              "      <td>M</td>\n",
              "      <td>B</td>\n",
              "      <td>2020/12/31 23:50:00+00</td>\n",
              "      <td>96BINVESTIGATIVE STOP</td>\n",
              "      <td>1 0692</td>\n",
              "      <td>HAND GUN VIOLATION</td>\n",
              "      <td>Southwest</td>\n",
              "      <td>813</td>\n",
              "      <td>2020-12-31</td>\n",
              "      <td>23:50:00</td>\n",
              "    </tr>\n",
              "    <tr>\n",
              "      <th>1</th>\n",
              "      <td>45</td>\n",
              "      <td>F</td>\n",
              "      <td>B</td>\n",
              "      <td>2020/12/31 23:45:00+00</td>\n",
              "      <td>Unknown Offense</td>\n",
              "      <td>2 0480</td>\n",
              "      <td>AUTO THEFT</td>\n",
              "      <td>Western</td>\n",
              "      <td>722</td>\n",
              "      <td>2020-12-31</td>\n",
              "      <td>23:45:00</td>\n",
              "    </tr>\n",
              "    <tr>\n",
              "      <th>2</th>\n",
              "      <td>42</td>\n",
              "      <td>F</td>\n",
              "      <td>W</td>\n",
              "      <td>2020/12/31 23:40:00+00</td>\n",
              "      <td>Unknown Offense</td>\n",
              "      <td>1 1415</td>\n",
              "      <td>2ND DEGREE ASSAULT</td>\n",
              "      <td>Southwest</td>\n",
              "      <td>832</td>\n",
              "      <td>2020-12-31</td>\n",
              "      <td>23:40:00</td>\n",
              "    </tr>\n",
              "    <tr>\n",
              "      <th>3</th>\n",
              "      <td>26</td>\n",
              "      <td>M</td>\n",
              "      <td>B</td>\n",
              "      <td>2020/12/31 21:45:00+00</td>\n",
              "      <td>Unknown Offense</td>\n",
              "      <td>1 0233</td>\n",
              "      <td>PWID</td>\n",
              "      <td>Southern</td>\n",
              "      <td>922</td>\n",
              "      <td>2020-12-31</td>\n",
              "      <td>21:45:00</td>\n",
              "    </tr>\n",
              "    <tr>\n",
              "      <th>4</th>\n",
              "      <td>19</td>\n",
              "      <td>M</td>\n",
              "      <td>B</td>\n",
              "      <td>2020/12/31 21:45:00+00</td>\n",
              "      <td>Unknown Offense</td>\n",
              "      <td>1 0233</td>\n",
              "      <td>PWID</td>\n",
              "      <td>Southern</td>\n",
              "      <td>922</td>\n",
              "      <td>2020-12-31</td>\n",
              "      <td>21:45:00</td>\n",
              "    </tr>\n",
              "    <tr>\n",
              "      <th>...</th>\n",
              "      <td>...</td>\n",
              "      <td>...</td>\n",
              "      <td>...</td>\n",
              "      <td>...</td>\n",
              "      <td>...</td>\n",
              "      <td>...</td>\n",
              "      <td>...</td>\n",
              "      <td>...</td>\n",
              "      <td>...</td>\n",
              "      <td>...</td>\n",
              "      <td>...</td>\n",
              "    </tr>\n",
              "    <tr>\n",
              "      <th>175918</th>\n",
              "      <td>35</td>\n",
              "      <td>M</td>\n",
              "      <td>B</td>\n",
              "      <td>2014/01/01 00:05:00+00</td>\n",
              "      <td>Unknown Offense</td>\n",
              "      <td>1 1609</td>\n",
              "      <td>FIREARM VIOLATION</td>\n",
              "      <td>Northeast</td>\n",
              "      <td>432</td>\n",
              "      <td>2014-01-01</td>\n",
              "      <td>00:05:00</td>\n",
              "    </tr>\n",
              "    <tr>\n",
              "      <th>175919</th>\n",
              "      <td>41</td>\n",
              "      <td>M</td>\n",
              "      <td>B</td>\n",
              "      <td>2014/01/01 00:05:00+00</td>\n",
              "      <td>83DISCHARGING FIREARM</td>\n",
              "      <td>1 5212</td>\n",
              "      <td>DISCHARGING</td>\n",
              "      <td>Southwest</td>\n",
              "      <td>835</td>\n",
              "      <td>2014-01-01</td>\n",
              "      <td>00:05:00</td>\n",
              "    </tr>\n",
              "    <tr>\n",
              "      <th>175920</th>\n",
              "      <td>36</td>\n",
              "      <td>F</td>\n",
              "      <td>B</td>\n",
              "      <td>2014/01/01 00:05:00+00</td>\n",
              "      <td>83DISCHARGING FIREARM</td>\n",
              "      <td>1 5212</td>\n",
              "      <td>DISCHARGING</td>\n",
              "      <td>Southwest</td>\n",
              "      <td>835</td>\n",
              "      <td>2014-01-01</td>\n",
              "      <td>00:05:00</td>\n",
              "    </tr>\n",
              "    <tr>\n",
              "      <th>175921</th>\n",
              "      <td>30</td>\n",
              "      <td>M</td>\n",
              "      <td>B</td>\n",
              "      <td>2014/01/01 00:05:00+00</td>\n",
              "      <td>83DISCHARGING FIREARM</td>\n",
              "      <td>1 5212</td>\n",
              "      <td>HGV</td>\n",
              "      <td>Southwest</td>\n",
              "      <td>835</td>\n",
              "      <td>2014-01-01</td>\n",
              "      <td>00:05:00</td>\n",
              "    </tr>\n",
              "    <tr>\n",
              "      <th>175922</th>\n",
              "      <td>47</td>\n",
              "      <td>M</td>\n",
              "      <td>W</td>\n",
              "      <td>2014/01/01 00:00:00+00</td>\n",
              "      <td>Unknown Offense</td>\n",
              "      <td>2 1134</td>\n",
              "      <td>SEX OFF REG-FAIL NOTIFY/INCLD</td>\n",
              "      <td>&lt;NA&gt;</td>\n",
              "      <td>&lt;NA&gt;</td>\n",
              "      <td>2014-01-01</td>\n",
              "      <td>00:00:00</td>\n",
              "    </tr>\n",
              "  </tbody>\n",
              "</table>\n",
              "<p>175923 rows × 11 columns</p>\n",
              "</div>"
            ],
            "text/plain": [
              "        Age Gender Race  ...  Post        date      time\n",
              "0        27      M    B  ...   813  2020-12-31  23:50:00\n",
              "1        45      F    B  ...   722  2020-12-31  23:45:00\n",
              "2        42      F    W  ...   832  2020-12-31  23:40:00\n",
              "3        26      M    B  ...   922  2020-12-31  21:45:00\n",
              "4        19      M    B  ...   922  2020-12-31  21:45:00\n",
              "...     ...    ...  ...  ...   ...         ...       ...\n",
              "175918   35      M    B  ...   432  2014-01-01  00:05:00\n",
              "175919   41      M    B  ...   835  2014-01-01  00:05:00\n",
              "175920   36      F    B  ...   835  2014-01-01  00:05:00\n",
              "175921   30      M    B  ...   835  2014-01-01  00:05:00\n",
              "175922   47      M    W  ...  <NA>  2014-01-01  00:00:00\n",
              "\n",
              "[175923 rows x 11 columns]"
            ]
          },
          "metadata": {},
          "execution_count": 35
        }
      ]
    },
    {
      "cell_type": "code",
      "metadata": {
        "id": "At3lhFw-7UFs"
      },
      "source": [
        "dfConverted = dfConverted.drop('ArrestDateTime', axis=1)"
      ],
      "execution_count": null,
      "outputs": []
    },
    {
      "cell_type": "code",
      "metadata": {
        "colab": {
          "base_uri": "https://localhost:8080/",
          "height": 417
        },
        "id": "sj9e8Q8W7gJQ",
        "outputId": "9a5f4871-ea24-4f1f-fe45-68d5c100e3b3"
      },
      "source": [
        "dfConverted"
      ],
      "execution_count": null,
      "outputs": [
        {
          "output_type": "execute_result",
          "data": {
            "text/html": [
              "<div>\n",
              "<style scoped>\n",
              "    .dataframe tbody tr th:only-of-type {\n",
              "        vertical-align: middle;\n",
              "    }\n",
              "\n",
              "    .dataframe tbody tr th {\n",
              "        vertical-align: top;\n",
              "    }\n",
              "\n",
              "    .dataframe thead th {\n",
              "        text-align: right;\n",
              "    }\n",
              "</style>\n",
              "<table border=\"1\" class=\"dataframe\">\n",
              "  <thead>\n",
              "    <tr style=\"text-align: right;\">\n",
              "      <th></th>\n",
              "      <th>Age</th>\n",
              "      <th>Gender</th>\n",
              "      <th>Race</th>\n",
              "      <th>IncidentOffence</th>\n",
              "      <th>Charge</th>\n",
              "      <th>ChargeDescription</th>\n",
              "      <th>District</th>\n",
              "      <th>Post</th>\n",
              "      <th>date</th>\n",
              "      <th>time</th>\n",
              "    </tr>\n",
              "  </thead>\n",
              "  <tbody>\n",
              "    <tr>\n",
              "      <th>0</th>\n",
              "      <td>27</td>\n",
              "      <td>M</td>\n",
              "      <td>B</td>\n",
              "      <td>96BINVESTIGATIVE STOP</td>\n",
              "      <td>1 0692</td>\n",
              "      <td>HAND GUN VIOLATION</td>\n",
              "      <td>Southwest</td>\n",
              "      <td>813</td>\n",
              "      <td>2020-12-31</td>\n",
              "      <td>23:50:00</td>\n",
              "    </tr>\n",
              "    <tr>\n",
              "      <th>1</th>\n",
              "      <td>45</td>\n",
              "      <td>F</td>\n",
              "      <td>B</td>\n",
              "      <td>Unknown Offense</td>\n",
              "      <td>2 0480</td>\n",
              "      <td>AUTO THEFT</td>\n",
              "      <td>Western</td>\n",
              "      <td>722</td>\n",
              "      <td>2020-12-31</td>\n",
              "      <td>23:45:00</td>\n",
              "    </tr>\n",
              "    <tr>\n",
              "      <th>2</th>\n",
              "      <td>42</td>\n",
              "      <td>F</td>\n",
              "      <td>W</td>\n",
              "      <td>Unknown Offense</td>\n",
              "      <td>1 1415</td>\n",
              "      <td>2ND DEGREE ASSAULT</td>\n",
              "      <td>Southwest</td>\n",
              "      <td>832</td>\n",
              "      <td>2020-12-31</td>\n",
              "      <td>23:40:00</td>\n",
              "    </tr>\n",
              "    <tr>\n",
              "      <th>3</th>\n",
              "      <td>26</td>\n",
              "      <td>M</td>\n",
              "      <td>B</td>\n",
              "      <td>Unknown Offense</td>\n",
              "      <td>1 0233</td>\n",
              "      <td>PWID</td>\n",
              "      <td>Southern</td>\n",
              "      <td>922</td>\n",
              "      <td>2020-12-31</td>\n",
              "      <td>21:45:00</td>\n",
              "    </tr>\n",
              "    <tr>\n",
              "      <th>4</th>\n",
              "      <td>19</td>\n",
              "      <td>M</td>\n",
              "      <td>B</td>\n",
              "      <td>Unknown Offense</td>\n",
              "      <td>1 0233</td>\n",
              "      <td>PWID</td>\n",
              "      <td>Southern</td>\n",
              "      <td>922</td>\n",
              "      <td>2020-12-31</td>\n",
              "      <td>21:45:00</td>\n",
              "    </tr>\n",
              "    <tr>\n",
              "      <th>...</th>\n",
              "      <td>...</td>\n",
              "      <td>...</td>\n",
              "      <td>...</td>\n",
              "      <td>...</td>\n",
              "      <td>...</td>\n",
              "      <td>...</td>\n",
              "      <td>...</td>\n",
              "      <td>...</td>\n",
              "      <td>...</td>\n",
              "      <td>...</td>\n",
              "    </tr>\n",
              "    <tr>\n",
              "      <th>175918</th>\n",
              "      <td>35</td>\n",
              "      <td>M</td>\n",
              "      <td>B</td>\n",
              "      <td>Unknown Offense</td>\n",
              "      <td>1 1609</td>\n",
              "      <td>FIREARM VIOLATION</td>\n",
              "      <td>Northeast</td>\n",
              "      <td>432</td>\n",
              "      <td>2014-01-01</td>\n",
              "      <td>00:05:00</td>\n",
              "    </tr>\n",
              "    <tr>\n",
              "      <th>175919</th>\n",
              "      <td>41</td>\n",
              "      <td>M</td>\n",
              "      <td>B</td>\n",
              "      <td>83DISCHARGING FIREARM</td>\n",
              "      <td>1 5212</td>\n",
              "      <td>DISCHARGING</td>\n",
              "      <td>Southwest</td>\n",
              "      <td>835</td>\n",
              "      <td>2014-01-01</td>\n",
              "      <td>00:05:00</td>\n",
              "    </tr>\n",
              "    <tr>\n",
              "      <th>175920</th>\n",
              "      <td>36</td>\n",
              "      <td>F</td>\n",
              "      <td>B</td>\n",
              "      <td>83DISCHARGING FIREARM</td>\n",
              "      <td>1 5212</td>\n",
              "      <td>DISCHARGING</td>\n",
              "      <td>Southwest</td>\n",
              "      <td>835</td>\n",
              "      <td>2014-01-01</td>\n",
              "      <td>00:05:00</td>\n",
              "    </tr>\n",
              "    <tr>\n",
              "      <th>175921</th>\n",
              "      <td>30</td>\n",
              "      <td>M</td>\n",
              "      <td>B</td>\n",
              "      <td>83DISCHARGING FIREARM</td>\n",
              "      <td>1 5212</td>\n",
              "      <td>HGV</td>\n",
              "      <td>Southwest</td>\n",
              "      <td>835</td>\n",
              "      <td>2014-01-01</td>\n",
              "      <td>00:05:00</td>\n",
              "    </tr>\n",
              "    <tr>\n",
              "      <th>175922</th>\n",
              "      <td>47</td>\n",
              "      <td>M</td>\n",
              "      <td>W</td>\n",
              "      <td>Unknown Offense</td>\n",
              "      <td>2 1134</td>\n",
              "      <td>SEX OFF REG-FAIL NOTIFY/INCLD</td>\n",
              "      <td>&lt;NA&gt;</td>\n",
              "      <td>&lt;NA&gt;</td>\n",
              "      <td>2014-01-01</td>\n",
              "      <td>00:00:00</td>\n",
              "    </tr>\n",
              "  </tbody>\n",
              "</table>\n",
              "<p>175923 rows × 10 columns</p>\n",
              "</div>"
            ],
            "text/plain": [
              "        Age Gender Race  ...  Post        date      time\n",
              "0        27      M    B  ...   813  2020-12-31  23:50:00\n",
              "1        45      F    B  ...   722  2020-12-31  23:45:00\n",
              "2        42      F    W  ...   832  2020-12-31  23:40:00\n",
              "3        26      M    B  ...   922  2020-12-31  21:45:00\n",
              "4        19      M    B  ...   922  2020-12-31  21:45:00\n",
              "...     ...    ...  ...  ...   ...         ...       ...\n",
              "175918   35      M    B  ...   432  2014-01-01  00:05:00\n",
              "175919   41      M    B  ...   835  2014-01-01  00:05:00\n",
              "175920   36      F    B  ...   835  2014-01-01  00:05:00\n",
              "175921   30      M    B  ...   835  2014-01-01  00:05:00\n",
              "175922   47      M    W  ...  <NA>  2014-01-01  00:00:00\n",
              "\n",
              "[175923 rows x 10 columns]"
            ]
          },
          "metadata": {},
          "execution_count": 38
        }
      ]
    },
    {
      "cell_type": "markdown",
      "metadata": {
        "id": "b0FdFMYKbQe1"
      },
      "source": [
        "I will start by checking whether any of my features have null values"
      ]
    },
    {
      "cell_type": "code",
      "metadata": {
        "id": "xNAdUVRNa3uz",
        "colab": {
          "base_uri": "https://localhost:8080/"
        },
        "outputId": "2923c973-2447-42d8-b53c-c1d93530308c"
      },
      "source": [
        "print(df.isna().sum())"
      ],
      "execution_count": null,
      "outputs": [
        {
          "output_type": "stream",
          "name": "stdout",
          "text": [
            "Age                     87\n",
            "Gender                  39\n",
            "Race                    39\n",
            "ArrestDateTime           0\n",
            "IncidentOffence          0\n",
            "Charge               19382\n",
            "ChargeDescription        0\n",
            "District             86032\n",
            "Post                 86032\n",
            "dtype: int64\n"
          ]
        }
      ]
    },
    {
      "cell_type": "markdown",
      "metadata": {
        "id": "SvgT-AxMxKhp"
      },
      "source": [
        "#(Change this once we learn about semi supervised learning on 11/16)\n",
        "Now I will remove all the rows that contain an NA value\n",
        "\n",
        "This is not smart because you'd skew your accuracy "
      ]
    },
    {
      "cell_type": "code",
      "metadata": {
        "id": "OgHm13LQcHOc"
      },
      "source": [
        "df = df.query('District.notna()', engine='python')\n",
        "df"
      ],
      "execution_count": null,
      "outputs": []
    },
    {
      "cell_type": "markdown",
      "metadata": {
        "id": "Qm6vhlkdbiGs"
      },
      "source": [
        "Next I will check the 5 number summary for each of my features"
      ]
    },
    {
      "cell_type": "code",
      "metadata": {
        "id": "lrMkpXDAbE6M",
        "colab": {
          "base_uri": "https://localhost:8080/",
          "height": 326
        },
        "outputId": "5715859a-3205-4056-817b-9fcdd13c5853"
      },
      "source": [
        "df.describe(include='all').T"
      ],
      "execution_count": null,
      "outputs": [
        {
          "output_type": "execute_result",
          "data": {
            "text/html": [
              "<div>\n",
              "<style scoped>\n",
              "    .dataframe tbody tr th:only-of-type {\n",
              "        vertical-align: middle;\n",
              "    }\n",
              "\n",
              "    .dataframe tbody tr th {\n",
              "        vertical-align: top;\n",
              "    }\n",
              "\n",
              "    .dataframe thead th {\n",
              "        text-align: right;\n",
              "    }\n",
              "</style>\n",
              "<table border=\"1\" class=\"dataframe\">\n",
              "  <thead>\n",
              "    <tr style=\"text-align: right;\">\n",
              "      <th></th>\n",
              "      <th>count</th>\n",
              "      <th>unique</th>\n",
              "      <th>top</th>\n",
              "      <th>freq</th>\n",
              "      <th>mean</th>\n",
              "      <th>std</th>\n",
              "      <th>min</th>\n",
              "      <th>25%</th>\n",
              "      <th>50%</th>\n",
              "      <th>75%</th>\n",
              "      <th>max</th>\n",
              "    </tr>\n",
              "  </thead>\n",
              "  <tbody>\n",
              "    <tr>\n",
              "      <th>Age</th>\n",
              "      <td>175836</td>\n",
              "      <td>NaN</td>\n",
              "      <td>NaN</td>\n",
              "      <td>NaN</td>\n",
              "      <td>32.9656</td>\n",
              "      <td>11.421</td>\n",
              "      <td>14</td>\n",
              "      <td>24</td>\n",
              "      <td>30</td>\n",
              "      <td>40</td>\n",
              "      <td>100</td>\n",
              "    </tr>\n",
              "    <tr>\n",
              "      <th>Gender</th>\n",
              "      <td>175884</td>\n",
              "      <td>2</td>\n",
              "      <td>M</td>\n",
              "      <td>142091</td>\n",
              "      <td>NaN</td>\n",
              "      <td>NaN</td>\n",
              "      <td>NaN</td>\n",
              "      <td>NaN</td>\n",
              "      <td>NaN</td>\n",
              "      <td>NaN</td>\n",
              "      <td>NaN</td>\n",
              "    </tr>\n",
              "    <tr>\n",
              "      <th>Race</th>\n",
              "      <td>175884</td>\n",
              "      <td>5</td>\n",
              "      <td>B</td>\n",
              "      <td>144592</td>\n",
              "      <td>NaN</td>\n",
              "      <td>NaN</td>\n",
              "      <td>NaN</td>\n",
              "      <td>NaN</td>\n",
              "      <td>NaN</td>\n",
              "      <td>NaN</td>\n",
              "      <td>NaN</td>\n",
              "    </tr>\n",
              "    <tr>\n",
              "      <th>ArrestDateTime</th>\n",
              "      <td>175923</td>\n",
              "      <td>130835</td>\n",
              "      <td>2015/04/27 20:00:00+00</td>\n",
              "      <td>22</td>\n",
              "      <td>NaN</td>\n",
              "      <td>NaN</td>\n",
              "      <td>NaN</td>\n",
              "      <td>NaN</td>\n",
              "      <td>NaN</td>\n",
              "      <td>NaN</td>\n",
              "      <td>NaN</td>\n",
              "    </tr>\n",
              "    <tr>\n",
              "      <th>IncidentOffence</th>\n",
              "      <td>175923</td>\n",
              "      <td>172</td>\n",
              "      <td>Unknown Offense</td>\n",
              "      <td>91417</td>\n",
              "      <td>NaN</td>\n",
              "      <td>NaN</td>\n",
              "      <td>NaN</td>\n",
              "      <td>NaN</td>\n",
              "      <td>NaN</td>\n",
              "      <td>NaN</td>\n",
              "      <td>NaN</td>\n",
              "    </tr>\n",
              "    <tr>\n",
              "      <th>Charge</th>\n",
              "      <td>156541</td>\n",
              "      <td>654</td>\n",
              "      <td>1 1415</td>\n",
              "      <td>32376</td>\n",
              "      <td>NaN</td>\n",
              "      <td>NaN</td>\n",
              "      <td>NaN</td>\n",
              "      <td>NaN</td>\n",
              "      <td>NaN</td>\n",
              "      <td>NaN</td>\n",
              "      <td>NaN</td>\n",
              "    </tr>\n",
              "    <tr>\n",
              "      <th>ChargeDescription</th>\n",
              "      <td>175923</td>\n",
              "      <td>7028</td>\n",
              "      <td>FAILURE TO APPEAR</td>\n",
              "      <td>27580</td>\n",
              "      <td>NaN</td>\n",
              "      <td>NaN</td>\n",
              "      <td>NaN</td>\n",
              "      <td>NaN</td>\n",
              "      <td>NaN</td>\n",
              "      <td>NaN</td>\n",
              "      <td>NaN</td>\n",
              "    </tr>\n",
              "    <tr>\n",
              "      <th>District</th>\n",
              "      <td>89891</td>\n",
              "      <td>9</td>\n",
              "      <td>Southern</td>\n",
              "      <td>11771</td>\n",
              "      <td>NaN</td>\n",
              "      <td>NaN</td>\n",
              "      <td>NaN</td>\n",
              "      <td>NaN</td>\n",
              "      <td>NaN</td>\n",
              "      <td>NaN</td>\n",
              "      <td>NaN</td>\n",
              "    </tr>\n",
              "    <tr>\n",
              "      <th>Post</th>\n",
              "      <td>89891</td>\n",
              "      <td>127</td>\n",
              "      <td>114</td>\n",
              "      <td>2504</td>\n",
              "      <td>NaN</td>\n",
              "      <td>NaN</td>\n",
              "      <td>NaN</td>\n",
              "      <td>NaN</td>\n",
              "      <td>NaN</td>\n",
              "      <td>NaN</td>\n",
              "      <td>NaN</td>\n",
              "    </tr>\n",
              "  </tbody>\n",
              "</table>\n",
              "</div>"
            ],
            "text/plain": [
              "                    count  unique                     top  ...  50%  75%  max\n",
              "Age                175836     NaN                     NaN  ...   30   40  100\n",
              "Gender             175884       2                       M  ...  NaN  NaN  NaN\n",
              "Race               175884       5                       B  ...  NaN  NaN  NaN\n",
              "ArrestDateTime     175923  130835  2015/04/27 20:00:00+00  ...  NaN  NaN  NaN\n",
              "IncidentOffence    175923     172         Unknown Offense  ...  NaN  NaN  NaN\n",
              "Charge             156541     654                  1 1415  ...  NaN  NaN  NaN\n",
              "ChargeDescription  175923    7028       FAILURE TO APPEAR  ...  NaN  NaN  NaN\n",
              "District            89891       9                Southern  ...  NaN  NaN  NaN\n",
              "Post                89891     127                     114  ...  NaN  NaN  NaN\n",
              "\n",
              "[9 rows x 11 columns]"
            ]
          },
          "metadata": {},
          "execution_count": 11
        }
      ]
    },
    {
      "cell_type": "markdown",
      "metadata": {
        "id": "bKljo9BSbr-b"
      },
      "source": [
        "Next I will gather a visual summary of my data"
      ]
    },
    {
      "cell_type": "code",
      "metadata": {
        "id": "9xJFJurabG7k",
        "colab": {
          "base_uri": "https://localhost:8080/",
          "height": 825
        },
        "outputId": "2db225d2-fc94-495c-846e-db2ecffb496e"
      },
      "source": [
        "from matplotlib import pyplot as plt\n",
        "%matplotlib inline\n",
        "\n",
        "feature_names = dfConverted.dtypes[df.dtypes != 'object'].index.tolist()\n",
        "axes = dfConverted[feature_names].hist(bins=50, figsize=(20,15))\n",
        "#Learned how to do the for loop for multi graph labeling here: https://stackoverflow.com/questions/69329880/how-do-i-label-the-x-y-axis-of-multiple-graphs-on-a-single-graph/69329975#69329975\n",
        "plt.show()"
      ],
      "execution_count": null,
      "outputs": [
        {
          "output_type": "display_data",
          "data": {
            "image/png": "[encoded data removed]",
            "text/plain": [
              "<Figure size 1008x1008 with 1 Axes>"
            ]
          },
          "metadata": {
            "needs_background": "light"
          }
        }
      ]
    },
    {
      "cell_type": "markdown",
      "metadata": {
        "id": "nxZVvvQ6bJ0q"
      },
      "source": [
        "Next I'll check for any multicoliniarity"
      ]
    },
    {
      "cell_type": "code",
      "metadata": {
        "id": "EeDnvQGSbJDT"
      },
      "source": [
        "import seaborn as sns\n",
        "\n",
        "sns.heatmap(df.corr())\n",
        "plt.show()"
      ],
      "execution_count": null,
      "outputs": []
    },
    {
      "cell_type": "markdown",
      "metadata": {
        "id": "QZG8-N2JaiJL"
      },
      "source": [
        "#Data cleaning and Feature engineering\n"
      ]
    },
    {
      "cell_type": "code",
      "metadata": {
        "id": "1Lkg7OU8a4Nl"
      },
      "source": [
        ""
      ],
      "execution_count": null,
      "outputs": []
    },
    {
      "cell_type": "markdown",
      "metadata": {
        "id": "pxtsn0h1aoNe"
      },
      "source": [
        "#Modeling\n"
      ]
    },
    {
      "cell_type": "markdown",
      "metadata": {
        "id": "suO5ZiHcb05a"
      },
      "source": [
        "####Splitting Training and Test sets"
      ]
    },
    {
      "cell_type": "code",
      "metadata": {
        "id": "BCBMCRdla4o-"
      },
      "source": [
        "from sklearn.model_selection import train_test_split\n",
        "curr_Random_State = 50\n",
        "\n",
        "feature_names = df.columns[:-1]\n",
        "#The :-1 excludes the last column which is the target column.\n",
        "\n",
        "#Pre:\n",
        "#X = a valid index list representing columns\n",
        "#y = a valid column representing the target cass\n",
        "#state = a positive numeric integer representing the current \"random state\"\n",
        "#Post: returns two sets of training-test splits.\n",
        "def create_splits(x, y, state):\n",
        "    return (train_test_split(x, y, test_size=.25, random_state = state)\n",
        "    )\n",
        "tX_training, tX_test, ty_training, ty_test = create_splits(df[feature_names], df['Class'], curr_Random_State)\n",
        "print(f'Training samples: {tX_training.shape[0]}')\n",
        "print(f'Test samples: {tX_test.shape[0]}')"
      ],
      "execution_count": null,
      "outputs": []
    },
    {
      "cell_type": "markdown",
      "metadata": {
        "id": "MK0z5EWGcWfG"
      },
      "source": [
        "Now I will fit Fit a logistic regression, decision tree, and SVM using grid search\n",
        "\n",
        "First I will set up the pipeline"
      ]
    },
    {
      "cell_type": "code",
      "metadata": {
        "id": "AtJEhao0cVpM"
      },
      "source": [
        "from sklearn.pipeline import Pipeline\n",
        "from sklearn.compose import ColumnTransformer\n",
        "from sklearn.impute import SimpleImputer\n",
        "from sklearn.preprocessing import OneHotEncoder\n",
        "from sklearn.preprocessing import StandardScaler\n",
        "#First grab all the columns and put em in lists\n",
        "nums = df.dtypes[df.dtypes != 'object'].index.tolist()\n",
        "cats = df.dtypes[df.dtypes == 'object'].index.tolist()\n",
        "\n",
        "#Now remove the columns I dont think I need\n",
        "nums = [x for x in nums if x not in ['arr_delay']]\n",
        "cats = [x for x in cats if x not in ['tailnum']]\n",
        "\n",
        "num_pipeline = Pipeline([('impute_missing', SimpleImputer(strategy='median')),\n",
        "                           ('standardize_num', StandardScaler())\n",
        "                        ])\n",
        "\n",
        "cat_pipeline = Pipeline([('impute_missing_cats', SimpleImputer(strategy='most_frequent')),\n",
        "                          ('create_dummies_cats', OneHotEncoder(handle_unknown='ignore'))])\n",
        "\n",
        "processing_pipeline = ColumnTransformer(transformers=[('proc_numeric', num_pipeline, nums),\n",
        "                                                      ('create_dummies', cat_pipeline, cats)])\n",
        "\n",
        "print('Pipeline Created')"
      ],
      "execution_count": null,
      "outputs": []
    },
    {
      "cell_type": "markdown",
      "metadata": {
        "id": "Sod16MxJc6ZV"
      },
      "source": [
        "Logistic Regression with grid search"
      ]
    },
    {
      "cell_type": "code",
      "metadata": {
        "colab": {
          "base_uri": "https://localhost:8080/"
        },
        "id": "oZQ49WFqc4Tr",
        "outputId": "84a01b02-1bf8-491c-d065-6cd432339439"
      },
      "source": [
        "from sklearn.linear_model import LogisticRegression\n",
        "from sklearn.model_selection import GridSearchCV\n",
        "from sklearn.pipeline import Pipeline\n",
        "import time\n",
        "start_time = time.time()\n",
        "p1 = Pipeline([('processing', processing_pipeline),\n",
        "             ('lr', LogisticRegression(solver='liblinear'))])\n",
        "\n",
        "#Select various correlation strengths with a magnitude of 10\n",
        "params = {'lr__C': [.001, 0.01, 0.1, 1, 10, 100]}\n",
        "\n",
        "#I will score based on accurancy as that the dataset is not heavily skewed\n",
        "lr_gscv = GridSearchCV(p1, param_grid=params, cv=10, scoring='accuracy', refit=True)\n",
        "\n",
        "lr_gscv = lr_gscv.fit(tX_train, ty_train)\n",
        "\n",
        "print(f'Validation score: {lr_gscv.best_score_:.2%}')\n",
        "\n",
        "lr_pred = lr_gscv.predict(tX_test)\n",
        "\n",
        "print(f'Test score: {lr_gscv.score(tX_test, ty_test):.2%}')\n",
        "print (\"Runtime: \", time.time() - start_time, \" seconds\")"
      ],
      "execution_count": null,
      "outputs": [
        {
          "output_type": "stream",
          "name": "stdout",
          "text": [
            "Validation score: 68.77%\n",
            "Test score: 67.68%\n",
            "Runtime:  13.320276260375977  seconds\n"
          ]
        }
      ]
    },
    {
      "cell_type": "markdown",
      "metadata": {
        "id": "-Rt1Xkzzd0se"
      },
      "source": [
        "Descision Trees"
      ]
    },
    {
      "cell_type": "code",
      "metadata": {
        "id": "tvENq38Kdz6b",
        "colab": {
          "base_uri": "https://localhost:8080/"
        },
        "outputId": "d593f6ea-e695-4c3b-d89a-43719ea01e0b"
      },
      "source": [
        "from sklearn.tree import DecisionTreeClassifier\n",
        "from sklearn.model_selection import GridSearchCV\n",
        "from sklearn.pipeline import Pipeline\n",
        "import time\n",
        "start_time = time.time()\n",
        "\n",
        "p2 = Pipeline([('processing', processing_pipeline),\n",
        "             ('dt', DecisionTreeClassifier())])\n",
        "\n",
        "params = {'dt__max_depth': [1, 5, 10, 15, 25],\n",
        "         'dt__min_samples_split': [3, 10, 15]}\n",
        "\n",
        "dt_gscv = GridSearchCV(p2, param_grid=params, cv=10, scoring='accuracy', refit=True)\n",
        "dt_gscv = dt_gscv.fit(tX_train, ty_train)\n",
        "\n",
        "print(f'Validation score: {dt_gscv.best_score_:.2%}')\n",
        "\n",
        "dt_pred = dt_gscv.predict(tX_test)\n",
        "\n",
        "print(f'Test score: {dt_gscv.score(tX_test, ty_test):.2%}')\n",
        "print (\"Runtime: \", time.time() - start_time, \" seconds\")"
      ],
      "execution_count": null,
      "outputs": [
        {
          "output_type": "stream",
          "name": "stdout",
          "text": [
            "Validation score: 64.59%\n",
            "Test score: 62.70%\n",
            "Runtime:  43.282294034957886  seconds\n"
          ]
        }
      ]
    },
    {
      "cell_type": "markdown",
      "metadata": {
        "id": "V9wUS3bFd2ks"
      },
      "source": [
        "SVM"
      ]
    },
    {
      "cell_type": "code",
      "metadata": {
        "id": "Yg5rtfCPeStD",
        "colab": {
          "base_uri": "https://localhost:8080/"
        },
        "outputId": "abf7dc37-a8ec-44e2-9bb7-560cd35f4193"
      },
      "source": [
        "from sklearn.pipeline import Pipeline\n",
        "from sklearn.preprocessing import StandardScaler\n",
        "from sklearn.svm import SVC\n",
        "from sklearn.model_selection import GridSearchCV\n",
        "import time\n",
        "start_time = time.time()\n",
        "svm_m = modeling_pipeline = Pipeline([('processing', processing_pipeline),\n",
        "                                      ('scaling', StandardScaler(with_mean=False)),\n",
        "                                       ('model', SVC())])\n",
        "\n",
        "\n",
        "param_grid = [\n",
        "  {'model__C': [0.1, 1, 10, 100], 'model__kernel': ['rbf']}\n",
        " ]\n",
        "\n",
        "svm_results = GridSearchCV(estimator=svm_m, param_grid=param_grid, cv=10, scoring='accuracy', refit=True)\n",
        "svm_results = svm_results.fit(tX_train, ty_train)\n",
        "\n",
        "print(f'Validation score: {svm_results.best_score_:.2%}')\n",
        "\n",
        "svm_pred = svm_results.predict(tX_test)\n",
        "\n",
        "print(f'Test score: {svm_results.score(tX_test, ty_test):.2%}')\n",
        "print (\"Runtime: \", time.time() - start_time, \" seconds\")"
      ],
      "execution_count": null,
      "outputs": [
        {
          "output_type": "stream",
          "name": "stdout",
          "text": [
            "Validation score: 64.92%\n",
            "Test score: 65.09%\n",
            "Runtime:  195.7040295600891  seconds\n"
          ]
        }
      ]
    },
    {
      "cell_type": "markdown",
      "metadata": {
        "id": "weqkwJGUarpe"
      },
      "source": [
        "#Results and discussion\n"
      ]
    },
    {
      "cell_type": "markdown",
      "metadata": {
        "id": "PRbsFiCyWuyD"
      },
      "source": [
        "#Fit an ensemble using the three above models."
      ]
    },
    {
      "cell_type": "code",
      "metadata": {
        "id": "VGRkOMP4fzyh",
        "colab": {
          "base_uri": "https://localhost:8080/"
        },
        "outputId": "80e92358-96ec-4697-f3c4-0e9960792d7c"
      },
      "source": [
        "\n",
        "from sklearn.model_selection import cross_val_score\n",
        "from sklearn.linear_model import LogisticRegression\n",
        "from sklearn.tree import DecisionTreeClassifier\n",
        "from sklearn import svm\n",
        "from sklearn.pipeline import Pipeline\n",
        "import numpy as np\n",
        "\n",
        "clf1 = LogisticRegression(penalty='l2', C=0.001, solver='lbfgs', random_state=0)\n",
        "clf2 = DecisionTreeClassifier(max_depth=1, criterion='entropy', random_state=1)\n",
        "clf3 = svm.SVC(probability=True)\n",
        "\n",
        "pipe1 = Pipeline([('processing', processing_pipeline),\n",
        "             ('lr', LogisticRegression(solver='liblinear'))])\n",
        "pipe2 = Pipeline([('processing', processing_pipeline),\n",
        "             ('dt', DecisionTreeClassifier())])\n",
        "pipe3 = Pipeline([('processing', processing_pipeline),\n",
        "                ('scaling', StandardScaler(with_mean=False)),\n",
        "                ('model', SVC())])\n",
        "\n",
        "labs = ['Logistic Regression', 'Decision Tree', 'Support Vector Machine']\n",
        "clfs = [pipe1, pipe2, pipe3]\n",
        "clfs = zip(labs, clfs)\n",
        "\n",
        "for lab, clf in clfs:\n",
        "    scores = cross_val_score(estimator=clf, X=tX_train, y=ty_train, cv=10, scoring='accuracy')\n",
        "    print(f'Accuracy {scores.mean():.2f} (+/- {scores.std():.2f}) [{lab}]')"
      ],
      "execution_count": null,
      "outputs": [
        {
          "output_type": "stream",
          "name": "stdout",
          "text": [
            "Accuracy 0.68 (+/- 0.02) [Logistic Regression]\n",
            "Accuracy 0.59 (+/- 0.02) [Decision Tree]\n",
            "Accuracy 0.63 (+/- 0.01) [Support Vector Machine]\n"
          ]
        }
      ]
    },
    {
      "cell_type": "code",
      "metadata": {
        "id": "V9IYo87af1Gy",
        "colab": {
          "base_uri": "https://localhost:8080/"
        },
        "outputId": "e7766df9-711e-4a67-bd1f-2847c84c956e"
      },
      "source": [
        "from sklearn.ensemble import VotingClassifier\n",
        "\n",
        "ems = [('lr', pipe1),('dt', pipe2),('model', pipe3)]\n",
        "#Changing voting to hard because SVM doesnt use probabilities\n",
        "#so using the mode is ok\n",
        "clf4 = VotingClassifier(estimators= ems, weights=None, voting='hard')\n",
        "\n",
        "scores = cross_val_score(estimator=clf4, X=tX_train, y=ty_train, cv=10, scoring='accuracy')\n",
        "print(f'Accuracy {scores.mean():.2f} (+/- {scores.std():.2f}) [Ensemble]')"
      ],
      "execution_count": null,
      "outputs": [
        {
          "output_type": "stream",
          "name": "stdout",
          "text": [
            "Accuracy 0.66 (+/- 0.01) [Ensemble]\n"
          ]
        }
      ]
    },
    {
      "cell_type": "markdown",
      "metadata": {
        "id": "qYwmGU3td7-c"
      },
      "source": [
        "ADA BOOST"
      ]
    },
    {
      "cell_type": "code",
      "metadata": {
        "id": "As3EEQHDd7Kp",
        "colab": {
          "base_uri": "https://localhost:8080/"
        },
        "outputId": "9a911635-2da1-4b6c-df73-8f8ea34f3281"
      },
      "source": [
        "from sklearn.ensemble import AdaBoostClassifier\n",
        "from sklearn.tree import DecisionTreeClassifier\n",
        "from sklearn.model_selection import GridSearchCV\n",
        "from sklearn.pipeline import Pipeline\n",
        "import time\n",
        "start_time = time.time()\n",
        "# multi-step pipelines don't play as nice with AdaBoost\n",
        "xt = processing_pipeline.fit_transform(tX_train)\n",
        "\n",
        "params = {'n_estimators': [50, 100, 200, 500, 1000]\n",
        "         }\n",
        "\n",
        "#ABC = AdaBoostClassifier(base_estimator=p2)\n",
        "ABC = AdaBoostClassifier(DecisionTreeClassifier())\n",
        "\n",
        "\n",
        "ad_gscv = GridSearchCV(ABC, param_grid = params, cv=10, scoring='accuracy')\n",
        "           \n",
        "ad_gscv = ad_gscv.fit(xt, ty_train)\n",
        "\n",
        "print(f'Validation score: {ad_gscv.best_score_:.2%}')\n",
        "\n",
        "xtt = processing_pipeline.transform(tX_test)\n",
        "\n",
        "ad_pred = ad_gscv.predict(xtt)\n",
        "\n",
        "print(f'Test score: {ad_gscv.score(xtt, ty_test):.2%}')\n",
        "print (\"Runtime: \", time.time() - start_time, \" seconds\")"
      ],
      "execution_count": null,
      "outputs": [
        {
          "output_type": "stream",
          "name": "stdout",
          "text": [
            "Validation score: 58.57%\n",
            "Test score: 58.34%\n",
            "Runtime:  23.792025566101074  seconds\n"
          ]
        }
      ]
    },
    {
      "cell_type": "markdown",
      "metadata": {
        "id": "YSJHarB0WsKt"
      },
      "source": [
        "#Discuss the performance of each model.\n",
        "* Logistic Regression had the highest accuracy score and took the least amount of time to run\n",
        "* SVM took the longest despite searching over less correlation strengths. This is most likely due to the immense ammount of copies being created during SVM\n",
        "* Descision Trees had the lowest accuracy score"
      ]
    },
    {
      "cell_type": "code",
      "metadata": {
        "id": "oEI22OU_a5BR"
      },
      "source": [
        ""
      ],
      "execution_count": null,
      "outputs": []
    },
    {
      "cell_type": "markdown",
      "metadata": {
        "id": "n13atavYavs_"
      },
      "source": [
        "#Conclusion/next steps\n"
      ]
    },
    {
      "cell_type": "code",
      "metadata": {
        "id": "1J9AO1kEa5fT"
      },
      "source": [
        ""
      ],
      "execution_count": null,
      "outputs": []
    }
  ]
}